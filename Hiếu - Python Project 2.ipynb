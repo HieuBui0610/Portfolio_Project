{
 "cells": [
  {
   "cell_type": "markdown",
   "id": "8d43ff1c",
   "metadata": {},
   "source": [
    "Identify **incredible customers** based on their **financial transactions** and **debt classification group**. \n",
    "\n",
    "As part of the requirements, students have to decide ***“Which group of debts are incredible”*** by themselves, as long as it helps to distinguish between\n",
    "credible and incredible customers."
   ]
  },
  {
   "cell_type": "markdown",
   "id": "2917ba81",
   "metadata": {},
   "source": [
    "# 0. Preparing"
   ]
  },
  {
   "cell_type": "markdown",
   "id": "c567cd3b",
   "metadata": {},
   "source": [
    "LIBRARY IMPORT"
   ]
  },
  {
   "cell_type": "code",
   "execution_count": 1,
   "id": "a2bb2f60",
   "metadata": {},
   "outputs": [],
   "source": [
    "import pandas as pd\n",
    "import numpy as np\n",
    "from scipy import stats\n",
    "from numpy import sqrt\n",
    "from numpy import argmax\n",
    "import statistics"
   ]
  },
  {
   "cell_type": "code",
   "execution_count": 2,
   "id": "f0ec366d",
   "metadata": {},
   "outputs": [],
   "source": [
    "import matplotlib.pyplot as plt\n",
    "import seaborn as sns\n",
    "%matplotlib inline"
   ]
  },
  {
   "cell_type": "code",
   "execution_count": 3,
   "id": "8e437e66",
   "metadata": {},
   "outputs": [
    {
     "name": "stdout",
     "output_type": "stream",
     "text": [
      "Requirement already satisfied: scikit-learn in c:\\users\\longn\\anaconda3\\lib\\site-packages (1.1.1)\n",
      "Requirement already satisfied: imblearn in c:\\users\\longn\\anaconda3\\lib\\site-packages (0.0)\n",
      "Requirement already satisfied: numpy>=1.17.3 in c:\\users\\longn\\anaconda3\\lib\\site-packages (from scikit-learn) (1.23.1)\n",
      "Requirement already satisfied: scipy>=1.3.2 in c:\\users\\longn\\anaconda3\\lib\\site-packages (from scikit-learn) (1.8.1)\n",
      "Requirement already satisfied: threadpoolctl>=2.0.0 in c:\\users\\longn\\anaconda3\\lib\\site-packages (from scikit-learn) (2.2.0)\n",
      "Requirement already satisfied: joblib>=1.0.0 in c:\\users\\longn\\anaconda3\\lib\\site-packages (from scikit-learn) (1.1.0)\n",
      "Requirement already satisfied: imbalanced-learn in c:\\users\\longn\\anaconda3\\lib\\site-packages (from imblearn) (0.9.1)\n",
      "Note: you may need to restart the kernel to use updated packages.\n"
     ]
    }
   ],
   "source": [
    "pip install --user scikit-learn imblearn"
   ]
  },
  {
   "cell_type": "code",
   "execution_count": 4,
   "id": "9224a4fe",
   "metadata": {},
   "outputs": [],
   "source": [
    "from sklearn import preprocessing\n",
    "from sklearn.impute import SimpleImputer, KNNImputer\n",
    "\n",
    "from sklearn.neighbors import KNeighborsClassifier\n",
    "from sklearn.linear_model import LogisticRegression\n",
    "from sklearn.linear_model import LinearRegression\n",
    "from sklearn import tree\n",
    "from sklearn.ensemble import BaggingClassifier\n",
    "\n",
    "from sklearn.metrics import roc_curve, roc_auc_score\n",
    "from sklearn.metrics import confusion_matrix, accuracy_score, classification_report\n",
    "from sklearn.metrics import plot_confusion_matrix\n",
    "from sklearn.metrics import precision_recall_curve\n",
    "from sklearn.metrics import f1_score\n",
    "from sklearn.metrics import auc\n",
    "\n",
    "from sklearn.decomposition import PCA\n",
    "\n",
    "from sklearn.model_selection import cross_val_score\n",
    "from sklearn.model_selection import train_test_split\n",
    "from sklearn.model_selection import RepeatedStratifiedKFold\n",
    "\n",
    "from sklearn.utils import class_weight\n",
    "from sklearn.utils import resample\n",
    "\n",
    "from sklearn.feature_selection import RFE"
   ]
  },
  {
   "cell_type": "code",
   "execution_count": 5,
   "id": "beb0951a",
   "metadata": {},
   "outputs": [],
   "source": [
    "import imblearn\n",
    "from imblearn.over_sampling import SMOTE"
   ]
  },
  {
   "cell_type": "code",
   "execution_count": 6,
   "id": "74551c44",
   "metadata": {},
   "outputs": [],
   "source": [
    "import time\n",
    "import datetime\n",
    "from datetime import date"
   ]
  },
  {
   "cell_type": "markdown",
   "id": "b031f8bf",
   "metadata": {},
   "source": [
    "DATABASE IMPORT"
   ]
  },
  {
   "cell_type": "code",
   "execution_count": 7,
   "id": "83a80db7",
   "metadata": {},
   "outputs": [
    {
     "data": {
      "text/html": [
       "<div>\n",
       "<style scoped>\n",
       "    .dataframe tbody tr th:only-of-type {\n",
       "        vertical-align: middle;\n",
       "    }\n",
       "\n",
       "    .dataframe tbody tr th {\n",
       "        vertical-align: top;\n",
       "    }\n",
       "\n",
       "    .dataframe thead th {\n",
       "        text-align: right;\n",
       "    }\n",
       "</style>\n",
       "<table border=\"1\" class=\"dataframe\">\n",
       "  <thead>\n",
       "    <tr style=\"text-align: right;\">\n",
       "      <th></th>\n",
       "      <th>local_ref_1</th>\n",
       "      <th>vn_marital_status</th>\n",
       "      <th>resid_province</th>\n",
       "      <th>resid_district</th>\n",
       "      <th>resid_wards</th>\n",
       "      <th>birth_incorp_date</th>\n",
       "      <th>amount_week</th>\n",
       "      <th>max_amount_week</th>\n",
       "      <th>min_amount_week</th>\n",
       "      <th>distinct_payment_code_week</th>\n",
       "      <th>...</th>\n",
       "      <th>totalSavings2021_heoSo</th>\n",
       "      <th>balanceJuin2021</th>\n",
       "      <th>nominal_interestJuin2021</th>\n",
       "      <th>real_interestJuin2021</th>\n",
       "      <th>nhomno_xhtdJuin2021</th>\n",
       "      <th>categoryJuin2021</th>\n",
       "      <th>sub_productJuin2021</th>\n",
       "      <th>loaikyhanJuin2021</th>\n",
       "      <th>sectorJuin2021</th>\n",
       "      <th>product_codeJuin2021</th>\n",
       "    </tr>\n",
       "  </thead>\n",
       "  <tbody>\n",
       "    <tr>\n",
       "      <th>0</th>\n",
       "      <td>MALE</td>\n",
       "      <td>Married</td>\n",
       "      <td>27.0</td>\n",
       "      <td>262.0</td>\n",
       "      <td>9436.0</td>\n",
       "      <td>1992.0</td>\n",
       "      <td>NaN</td>\n",
       "      <td>NaN</td>\n",
       "      <td>NaN</td>\n",
       "      <td>0.0</td>\n",
       "      <td>...</td>\n",
       "      <td>NaN</td>\n",
       "      <td>NaN</td>\n",
       "      <td>NaN</td>\n",
       "      <td>NaN</td>\n",
       "      <td>NaN</td>\n",
       "      <td>NaN</td>\n",
       "      <td>NaN</td>\n",
       "      <td>NaN</td>\n",
       "      <td>NaN</td>\n",
       "      <td>NaN</td>\n",
       "    </tr>\n",
       "    <tr>\n",
       "      <th>1</th>\n",
       "      <td>MALE</td>\n",
       "      <td>Single</td>\n",
       "      <td>79.0</td>\n",
       "      <td>769.0</td>\n",
       "      <td>27097.0</td>\n",
       "      <td>1986.0</td>\n",
       "      <td>NaN</td>\n",
       "      <td>NaN</td>\n",
       "      <td>NaN</td>\n",
       "      <td>NaN</td>\n",
       "      <td>...</td>\n",
       "      <td>NaN</td>\n",
       "      <td>0.003666</td>\n",
       "      <td>0.006953</td>\n",
       "      <td>0.004128</td>\n",
       "      <td>1.0</td>\n",
       "      <td>21061.0</td>\n",
       "      <td>365.0</td>\n",
       "      <td>DH</td>\n",
       "      <td>1890.0</td>\n",
       "      <td>22321.0</td>\n",
       "    </tr>\n",
       "    <tr>\n",
       "      <th>2</th>\n",
       "      <td>MALE</td>\n",
       "      <td>Married</td>\n",
       "      <td>1.0</td>\n",
       "      <td>250.0</td>\n",
       "      <td>8989.0</td>\n",
       "      <td>1980.0</td>\n",
       "      <td>NaN</td>\n",
       "      <td>NaN</td>\n",
       "      <td>NaN</td>\n",
       "      <td>NaN</td>\n",
       "      <td>...</td>\n",
       "      <td>NaN</td>\n",
       "      <td>NaN</td>\n",
       "      <td>NaN</td>\n",
       "      <td>NaN</td>\n",
       "      <td>NaN</td>\n",
       "      <td>NaN</td>\n",
       "      <td>NaN</td>\n",
       "      <td>NaN</td>\n",
       "      <td>NaN</td>\n",
       "      <td>NaN</td>\n",
       "    </tr>\n",
       "    <tr>\n",
       "      <th>3</th>\n",
       "      <td>MALE</td>\n",
       "      <td>Single</td>\n",
       "      <td>40.0</td>\n",
       "      <td>431.0</td>\n",
       "      <td>18055.0</td>\n",
       "      <td>2001.0</td>\n",
       "      <td>NaN</td>\n",
       "      <td>NaN</td>\n",
       "      <td>NaN</td>\n",
       "      <td>NaN</td>\n",
       "      <td>...</td>\n",
       "      <td>NaN</td>\n",
       "      <td>NaN</td>\n",
       "      <td>NaN</td>\n",
       "      <td>NaN</td>\n",
       "      <td>NaN</td>\n",
       "      <td>NaN</td>\n",
       "      <td>NaN</td>\n",
       "      <td>NaN</td>\n",
       "      <td>NaN</td>\n",
       "      <td>NaN</td>\n",
       "    </tr>\n",
       "    <tr>\n",
       "      <th>4</th>\n",
       "      <td>MALE</td>\n",
       "      <td>Married</td>\n",
       "      <td>49.0</td>\n",
       "      <td>512.0</td>\n",
       "      <td>20758.0</td>\n",
       "      <td>1989.0</td>\n",
       "      <td>0.0</td>\n",
       "      <td>0.000114</td>\n",
       "      <td>0.000636</td>\n",
       "      <td>0.0</td>\n",
       "      <td>...</td>\n",
       "      <td>NaN</td>\n",
       "      <td>NaN</td>\n",
       "      <td>NaN</td>\n",
       "      <td>NaN</td>\n",
       "      <td>NaN</td>\n",
       "      <td>NaN</td>\n",
       "      <td>NaN</td>\n",
       "      <td>NaN</td>\n",
       "      <td>NaN</td>\n",
       "      <td>NaN</td>\n",
       "    </tr>\n",
       "  </tbody>\n",
       "</table>\n",
       "<p>5 rows × 50 columns</p>\n",
       "</div>"
      ],
      "text/plain": [
       "  local_ref_1 vn_marital_status  resid_province  resid_district  resid_wards  \\\n",
       "0        MALE           Married            27.0           262.0       9436.0   \n",
       "1        MALE            Single            79.0           769.0      27097.0   \n",
       "2        MALE           Married             1.0           250.0       8989.0   \n",
       "3        MALE            Single            40.0           431.0      18055.0   \n",
       "4        MALE           Married            49.0           512.0      20758.0   \n",
       "\n",
       "   birth_incorp_date   amount_week   max_amount_week  min_amount_week  \\\n",
       "0             1992.0            NaN              NaN              NaN   \n",
       "1             1986.0            NaN              NaN              NaN   \n",
       "2             1980.0            NaN              NaN              NaN   \n",
       "3             2001.0            NaN              NaN              NaN   \n",
       "4             1989.0            0.0         0.000114         0.000636   \n",
       "\n",
       "   distinct_payment_code_week  ...  totalSavings2021_heoSo  balanceJuin2021  \\\n",
       "0                         0.0  ...                     NaN              NaN   \n",
       "1                         NaN  ...                     NaN         0.003666   \n",
       "2                         NaN  ...                     NaN              NaN   \n",
       "3                         NaN  ...                     NaN              NaN   \n",
       "4                         0.0  ...                     NaN              NaN   \n",
       "\n",
       "   nominal_interestJuin2021  real_interestJuin2021  nhomno_xhtdJuin2021  \\\n",
       "0                       NaN                    NaN                  NaN   \n",
       "1                  0.006953               0.004128                  1.0   \n",
       "2                       NaN                    NaN                  NaN   \n",
       "3                       NaN                    NaN                  NaN   \n",
       "4                       NaN                    NaN                  NaN   \n",
       "\n",
       "   categoryJuin2021  sub_productJuin2021  loaikyhanJuin2021  sectorJuin2021  \\\n",
       "0               NaN                  NaN                NaN             NaN   \n",
       "1           21061.0                365.0                 DH          1890.0   \n",
       "2               NaN                  NaN                NaN             NaN   \n",
       "3               NaN                  NaN                NaN             NaN   \n",
       "4               NaN                  NaN                NaN             NaN   \n",
       "\n",
       "   product_codeJuin2021  \n",
       "0                   NaN  \n",
       "1               22321.0  \n",
       "2                   NaN  \n",
       "3                   NaN  \n",
       "4                   NaN  \n",
       "\n",
       "[5 rows x 50 columns]"
      ]
     },
     "execution_count": 7,
     "metadata": {},
     "output_type": "execute_result"
    }
   ],
   "source": [
    "df = pd.read_csv(\"dataset.csv\")\n",
    "df.head()"
   ]
  },
  {
   "cell_type": "code",
   "execution_count": 8,
   "id": "560274be",
   "metadata": {},
   "outputs": [
    {
     "data": {
      "text/html": [
       "<div>\n",
       "<style scoped>\n",
       "    .dataframe tbody tr th:only-of-type {\n",
       "        vertical-align: middle;\n",
       "    }\n",
       "\n",
       "    .dataframe tbody tr th {\n",
       "        vertical-align: top;\n",
       "    }\n",
       "\n",
       "    .dataframe thead th {\n",
       "        text-align: right;\n",
       "    }\n",
       "</style>\n",
       "<table border=\"1\" class=\"dataframe\">\n",
       "  <thead>\n",
       "    <tr style=\"text-align: right;\">\n",
       "      <th></th>\n",
       "      <th>local_ref_1</th>\n",
       "      <th>vn_marital_status</th>\n",
       "      <th>resid_province</th>\n",
       "      <th>resid_district</th>\n",
       "      <th>resid_wards</th>\n",
       "      <th>birth_incorp_date</th>\n",
       "      <th>amount_week</th>\n",
       "      <th>max_amount_week</th>\n",
       "      <th>min_amount_week</th>\n",
       "      <th>distinct_payment_code_week</th>\n",
       "      <th>...</th>\n",
       "      <th>totalSavings2021_heoSo</th>\n",
       "      <th>balanceJuin2021</th>\n",
       "      <th>nominal_interestJuin2021</th>\n",
       "      <th>real_interestJuin2021</th>\n",
       "      <th>nhomno_xhtdJuin2021</th>\n",
       "      <th>categoryJuin2021</th>\n",
       "      <th>sub_productJuin2021</th>\n",
       "      <th>loaikyhanJuin2021</th>\n",
       "      <th>sectorJuin2021</th>\n",
       "      <th>product_codeJuin2021</th>\n",
       "    </tr>\n",
       "  </thead>\n",
       "  <tbody>\n",
       "    <tr>\n",
       "      <th>0</th>\n",
       "      <td>MALE</td>\n",
       "      <td>Married</td>\n",
       "      <td>27.0</td>\n",
       "      <td>262.0</td>\n",
       "      <td>9436.0</td>\n",
       "      <td>1992.0</td>\n",
       "      <td>NaN</td>\n",
       "      <td>NaN</td>\n",
       "      <td>NaN</td>\n",
       "      <td>0.0</td>\n",
       "      <td>...</td>\n",
       "      <td>NaN</td>\n",
       "      <td>NaN</td>\n",
       "      <td>NaN</td>\n",
       "      <td>NaN</td>\n",
       "      <td>NaN</td>\n",
       "      <td>NaN</td>\n",
       "      <td>NaN</td>\n",
       "      <td>NaN</td>\n",
       "      <td>NaN</td>\n",
       "      <td>NaN</td>\n",
       "    </tr>\n",
       "    <tr>\n",
       "      <th>1</th>\n",
       "      <td>MALE</td>\n",
       "      <td>Single</td>\n",
       "      <td>79.0</td>\n",
       "      <td>769.0</td>\n",
       "      <td>27097.0</td>\n",
       "      <td>1986.0</td>\n",
       "      <td>NaN</td>\n",
       "      <td>NaN</td>\n",
       "      <td>NaN</td>\n",
       "      <td>NaN</td>\n",
       "      <td>...</td>\n",
       "      <td>NaN</td>\n",
       "      <td>0.003666</td>\n",
       "      <td>0.006953</td>\n",
       "      <td>0.004128</td>\n",
       "      <td>1.0</td>\n",
       "      <td>21061.0</td>\n",
       "      <td>365.0</td>\n",
       "      <td>DH</td>\n",
       "      <td>1890.0</td>\n",
       "      <td>22321.0</td>\n",
       "    </tr>\n",
       "    <tr>\n",
       "      <th>2</th>\n",
       "      <td>MALE</td>\n",
       "      <td>Married</td>\n",
       "      <td>1.0</td>\n",
       "      <td>250.0</td>\n",
       "      <td>8989.0</td>\n",
       "      <td>1980.0</td>\n",
       "      <td>NaN</td>\n",
       "      <td>NaN</td>\n",
       "      <td>NaN</td>\n",
       "      <td>NaN</td>\n",
       "      <td>...</td>\n",
       "      <td>NaN</td>\n",
       "      <td>NaN</td>\n",
       "      <td>NaN</td>\n",
       "      <td>NaN</td>\n",
       "      <td>NaN</td>\n",
       "      <td>NaN</td>\n",
       "      <td>NaN</td>\n",
       "      <td>NaN</td>\n",
       "      <td>NaN</td>\n",
       "      <td>NaN</td>\n",
       "    </tr>\n",
       "    <tr>\n",
       "      <th>3</th>\n",
       "      <td>MALE</td>\n",
       "      <td>Single</td>\n",
       "      <td>40.0</td>\n",
       "      <td>431.0</td>\n",
       "      <td>18055.0</td>\n",
       "      <td>2001.0</td>\n",
       "      <td>NaN</td>\n",
       "      <td>NaN</td>\n",
       "      <td>NaN</td>\n",
       "      <td>NaN</td>\n",
       "      <td>...</td>\n",
       "      <td>NaN</td>\n",
       "      <td>NaN</td>\n",
       "      <td>NaN</td>\n",
       "      <td>NaN</td>\n",
       "      <td>NaN</td>\n",
       "      <td>NaN</td>\n",
       "      <td>NaN</td>\n",
       "      <td>NaN</td>\n",
       "      <td>NaN</td>\n",
       "      <td>NaN</td>\n",
       "    </tr>\n",
       "    <tr>\n",
       "      <th>4</th>\n",
       "      <td>MALE</td>\n",
       "      <td>Married</td>\n",
       "      <td>49.0</td>\n",
       "      <td>512.0</td>\n",
       "      <td>20758.0</td>\n",
       "      <td>1989.0</td>\n",
       "      <td>0.0</td>\n",
       "      <td>0.000114</td>\n",
       "      <td>0.000636</td>\n",
       "      <td>0.0</td>\n",
       "      <td>...</td>\n",
       "      <td>NaN</td>\n",
       "      <td>NaN</td>\n",
       "      <td>NaN</td>\n",
       "      <td>NaN</td>\n",
       "      <td>NaN</td>\n",
       "      <td>NaN</td>\n",
       "      <td>NaN</td>\n",
       "      <td>NaN</td>\n",
       "      <td>NaN</td>\n",
       "      <td>NaN</td>\n",
       "    </tr>\n",
       "  </tbody>\n",
       "</table>\n",
       "<p>5 rows × 50 columns</p>\n",
       "</div>"
      ],
      "text/plain": [
       "  local_ref_1 vn_marital_status  resid_province  resid_district  resid_wards  \\\n",
       "0        MALE           Married            27.0           262.0       9436.0   \n",
       "1        MALE            Single            79.0           769.0      27097.0   \n",
       "2        MALE           Married             1.0           250.0       8989.0   \n",
       "3        MALE            Single            40.0           431.0      18055.0   \n",
       "4        MALE           Married            49.0           512.0      20758.0   \n",
       "\n",
       "   birth_incorp_date   amount_week   max_amount_week  min_amount_week  \\\n",
       "0             1992.0            NaN              NaN              NaN   \n",
       "1             1986.0            NaN              NaN              NaN   \n",
       "2             1980.0            NaN              NaN              NaN   \n",
       "3             2001.0            NaN              NaN              NaN   \n",
       "4             1989.0            0.0         0.000114         0.000636   \n",
       "\n",
       "   distinct_payment_code_week  ...  totalSavings2021_heoSo  balanceJuin2021  \\\n",
       "0                         0.0  ...                     NaN              NaN   \n",
       "1                         NaN  ...                     NaN         0.003666   \n",
       "2                         NaN  ...                     NaN              NaN   \n",
       "3                         NaN  ...                     NaN              NaN   \n",
       "4                         0.0  ...                     NaN              NaN   \n",
       "\n",
       "   nominal_interestJuin2021  real_interestJuin2021  nhomno_xhtdJuin2021  \\\n",
       "0                       NaN                    NaN                  NaN   \n",
       "1                  0.006953               0.004128                  1.0   \n",
       "2                       NaN                    NaN                  NaN   \n",
       "3                       NaN                    NaN                  NaN   \n",
       "4                       NaN                    NaN                  NaN   \n",
       "\n",
       "   categoryJuin2021  sub_productJuin2021  loaikyhanJuin2021  sectorJuin2021  \\\n",
       "0               NaN                  NaN                NaN             NaN   \n",
       "1           21061.0                365.0                 DH          1890.0   \n",
       "2               NaN                  NaN                NaN             NaN   \n",
       "3               NaN                  NaN                NaN             NaN   \n",
       "4               NaN                  NaN                NaN             NaN   \n",
       "\n",
       "   product_codeJuin2021  \n",
       "0                   NaN  \n",
       "1               22321.0  \n",
       "2                   NaN  \n",
       "3                   NaN  \n",
       "4                   NaN  \n",
       "\n",
       "[5 rows x 50 columns]"
      ]
     },
     "execution_count": 8,
     "metadata": {},
     "output_type": "execute_result"
    }
   ],
   "source": [
    "df.head()"
   ]
  },
  {
   "cell_type": "markdown",
   "id": "5bebd952",
   "metadata": {},
   "source": [
    "# 1. Data Preprocessing"
   ]
  },
  {
   "cell_type": "code",
   "execution_count": 9,
   "id": "36bef213",
   "metadata": {},
   "outputs": [
    {
     "data": {
      "text/plain": [
       "100000"
      ]
     },
     "execution_count": 9,
     "metadata": {},
     "output_type": "execute_result"
    }
   ],
   "source": [
    "#Check số hàng của database\n",
    "df.shape[0]"
   ]
  },
  {
   "cell_type": "code",
   "execution_count": 10,
   "id": "e5ef9935",
   "metadata": {},
   "outputs": [
    {
     "data": {
      "text/plain": [
       "Index(['local_ref_1', 'vn_marital_status', 'resid_province', 'resid_district',\n",
       "       'resid_wards', 'birth_incorp_date', ' amount_week ', 'max_amount_week',\n",
       "       'min_amount_week', 'distinct_payment_code_week',\n",
       "       'count_payment_code_week', 'distinct_trans_group_week',\n",
       "       'distinct_ref_no_week', 'amount_month', 'max_amount_month',\n",
       "       'min_amount_month', 'distinct_payment_code_month',\n",
       "       'count_payment_code_month', 'distinct_trans_group_month',\n",
       "       'distinct_ref_no_month', 'amount_3month', 'max_amount_3month',\n",
       "       'min_amount_3month', 'distinct_payment_code_3month',\n",
       "       'count_payment_code_3month', 'distinct_trans_group_3month',\n",
       "       'distinct_ref_no_3month', 'most_act_mar2021_count', 'most_act_mar2021',\n",
       "       'total_act_mar2021', ' total_amt_mar2021 ', 'most_act_juin2021_count',\n",
       "       'most_act_juin2021', 'total_act_juin2021', 'total_amt_juin2021',\n",
       "       'rd_id', 'savingValueMar2021_heoSo', 'savingValueJuin2021_heoSo',\n",
       "       'totalLoginMar2021_heoSo', 'totalLoginJuin2021_heoSo',\n",
       "       'totalSavings2021_heoSo', 'balanceJuin2021', 'nominal_interestJuin2021',\n",
       "       'real_interestJuin2021', 'nhomno_xhtdJuin2021', 'categoryJuin2021',\n",
       "       'sub_productJuin2021', 'loaikyhanJuin2021', 'sectorJuin2021',\n",
       "       'product_codeJuin2021'],\n",
       "      dtype='object')"
      ]
     },
     "execution_count": 10,
     "metadata": {},
     "output_type": "execute_result"
    }
   ],
   "source": [
    "#Kiếm tra các cột\n",
    "df.columns"
   ]
  },
  {
   "cell_type": "code",
   "execution_count": 11,
   "id": "78703273",
   "metadata": {},
   "outputs": [
    {
     "data": {
      "text/plain": [
       "Index(['local_ref_1', 'vn_marital_status', 'resid_province', 'resid_district',\n",
       "       'resid_wards', 'birth_incorp_date', 'amount_week', 'max_amount_week',\n",
       "       'min_amount_week', 'distinct_payment_code_week',\n",
       "       'count_payment_code_week', 'distinct_trans_group_week',\n",
       "       'distinct_ref_no_week', 'amount_month', 'max_amount_month',\n",
       "       'min_amount_month', 'distinct_payment_code_month',\n",
       "       'count_payment_code_month', 'distinct_trans_group_month',\n",
       "       'distinct_ref_no_month', 'amount_3month', 'max_amount_3month',\n",
       "       'min_amount_3month', 'distinct_payment_code_3month',\n",
       "       'count_payment_code_3month', 'distinct_trans_group_3month',\n",
       "       'distinct_ref_no_3month', 'most_act_mar2021_count', 'most_act_mar2021',\n",
       "       'total_act_mar2021', 'total_amt_mar2021', 'most_act_juin2021_count',\n",
       "       'most_act_juin2021', 'total_act_juin2021', 'total_amt_juin2021',\n",
       "       'rd_id', 'savingValueMar2021_heoSo', 'savingValueJuin2021_heoSo',\n",
       "       'totalLoginMar2021_heoSo', 'totalLoginJuin2021_heoSo',\n",
       "       'totalSavings2021_heoSo', 'balanceJuin2021', 'nominal_interestJuin2021',\n",
       "       'real_interestJuin2021', 'nhomno_xhtdJuin2021', 'categoryJuin2021',\n",
       "       'sub_productJuin2021', 'loaikyhanJuin2021', 'sectorJuin2021',\n",
       "       'product_codeJuin2021'],\n",
       "      dtype='object')"
      ]
     },
     "execution_count": 11,
     "metadata": {},
     "output_type": "execute_result"
    }
   ],
   "source": [
    "#Xét thấy có nhiều dấu cách thừa trong các cột của dataframe, nhóm quyết định remove các dấu cách thừa bằng lệnh strip:\n",
    "df.columns = df.columns.str.strip()\n",
    "df.columns"
   ]
  },
  {
   "cell_type": "markdown",
   "id": "30c2a680",
   "metadata": {},
   "source": [
    "a. Xử lý xếp hạng tín dụng"
   ]
  },
  {
   "cell_type": "code",
   "execution_count": 12,
   "id": "c8e5277e",
   "metadata": {
    "scrolled": true
   },
   "outputs": [
    {
     "data": {
      "text/plain": [
       "1.0    0.528475\n",
       "2.0    0.282581\n",
       "3.0    0.089398\n",
       "4.0    0.079450\n",
       "5.0    0.020096\n",
       "Name: nhomno_xhtdJuin2021, dtype: float64"
      ]
     },
     "execution_count": 12,
     "metadata": {},
     "output_type": "execute_result"
    }
   ],
   "source": [
    "#Thống kê tần suất & số lần xuất hiện của các nhóm xhtd\n",
    "df['nhomno_xhtdJuin2021'].value_counts(normalize=True)"
   ]
  },
  {
   "cell_type": "code",
   "execution_count": 13,
   "id": "ba285054",
   "metadata": {},
   "outputs": [
    {
     "data": {
      "text/plain": [
       "1.0    15831\n",
       "2.0     8465\n",
       "3.0     2678\n",
       "4.0     2380\n",
       "5.0      602\n",
       "Name: nhomno_xhtdJuin2021, dtype: int64"
      ]
     },
     "execution_count": 13,
     "metadata": {},
     "output_type": "execute_result"
    }
   ],
   "source": [
    "df['nhomno_xhtdJuin2021'].value_counts()"
   ]
  },
  {
   "cell_type": "code",
   "execution_count": 14,
   "id": "71c6b127",
   "metadata": {},
   "outputs": [
    {
     "data": {
      "text/plain": [
       "array([nan,  1.,  2.,  3.,  4.,  5.])"
      ]
     },
     "execution_count": 14,
     "metadata": {},
     "output_type": "execute_result"
    }
   ],
   "source": [
    "df['nhomno_xhtdJuin2021'].unique()\n",
    "# Có giá trị nan ở trong đây"
   ]
  },
  {
   "cell_type": "code",
   "execution_count": 15,
   "id": "aeabe601",
   "metadata": {},
   "outputs": [
    {
     "data": {
      "text/plain": [
       "29956"
      ]
     },
     "execution_count": 15,
     "metadata": {},
     "output_type": "execute_result"
    }
   ],
   "source": [
    "#Tính số dòng không có nan\n",
    "df[\"nhomno_xhtdJuin2021\"].value_counts().sum()"
   ]
  },
  {
   "cell_type": "code",
   "execution_count": 16,
   "id": "d87bec97",
   "metadata": {},
   "outputs": [
    {
     "data": {
      "text/plain": [
       "70044"
      ]
     },
     "execution_count": 16,
     "metadata": {},
     "output_type": "execute_result"
    }
   ],
   "source": [
    "#Tính số nan:\n",
    "df.shape[0] - df[\"nhomno_xhtdJuin2021\"].value_counts().sum()"
   ]
  },
  {
   "cell_type": "code",
   "execution_count": 17,
   "id": "10994234",
   "metadata": {},
   "outputs": [
    {
     "data": {
      "text/html": [
       "<div>\n",
       "<style scoped>\n",
       "    .dataframe tbody tr th:only-of-type {\n",
       "        vertical-align: middle;\n",
       "    }\n",
       "\n",
       "    .dataframe tbody tr th {\n",
       "        vertical-align: top;\n",
       "    }\n",
       "\n",
       "    .dataframe thead th {\n",
       "        text-align: right;\n",
       "    }\n",
       "</style>\n",
       "<table border=\"1\" class=\"dataframe\">\n",
       "  <thead>\n",
       "    <tr style=\"text-align: right;\">\n",
       "      <th></th>\n",
       "      <th>local_ref_1</th>\n",
       "      <th>vn_marital_status</th>\n",
       "      <th>resid_province</th>\n",
       "      <th>resid_district</th>\n",
       "      <th>resid_wards</th>\n",
       "      <th>birth_incorp_date</th>\n",
       "      <th>amount_week</th>\n",
       "      <th>max_amount_week</th>\n",
       "      <th>min_amount_week</th>\n",
       "      <th>distinct_payment_code_week</th>\n",
       "      <th>...</th>\n",
       "      <th>totalSavings2021_heoSo</th>\n",
       "      <th>balanceJuin2021</th>\n",
       "      <th>nominal_interestJuin2021</th>\n",
       "      <th>real_interestJuin2021</th>\n",
       "      <th>nhomno_xhtdJuin2021</th>\n",
       "      <th>categoryJuin2021</th>\n",
       "      <th>sub_productJuin2021</th>\n",
       "      <th>loaikyhanJuin2021</th>\n",
       "      <th>sectorJuin2021</th>\n",
       "      <th>product_codeJuin2021</th>\n",
       "    </tr>\n",
       "  </thead>\n",
       "  <tbody>\n",
       "    <tr>\n",
       "      <th>1</th>\n",
       "      <td>MALE</td>\n",
       "      <td>Single</td>\n",
       "      <td>79.0</td>\n",
       "      <td>769.0</td>\n",
       "      <td>27097.0</td>\n",
       "      <td>1986.0</td>\n",
       "      <td>NaN</td>\n",
       "      <td>NaN</td>\n",
       "      <td>NaN</td>\n",
       "      <td>NaN</td>\n",
       "      <td>...</td>\n",
       "      <td>NaN</td>\n",
       "      <td>0.003666</td>\n",
       "      <td>0.006953</td>\n",
       "      <td>0.004128</td>\n",
       "      <td>1.0</td>\n",
       "      <td>21061.0</td>\n",
       "      <td>365.0</td>\n",
       "      <td>DH</td>\n",
       "      <td>1890.0</td>\n",
       "      <td>22321.0</td>\n",
       "    </tr>\n",
       "    <tr>\n",
       "      <th>7</th>\n",
       "      <td>MALE</td>\n",
       "      <td>Married</td>\n",
       "      <td>38.0</td>\n",
       "      <td>394.0</td>\n",
       "      <td>15436.0</td>\n",
       "      <td>1992.0</td>\n",
       "      <td>0.0</td>\n",
       "      <td>0.000476</td>\n",
       "      <td>0.000011</td>\n",
       "      <td>0.0</td>\n",
       "      <td>...</td>\n",
       "      <td>NaN</td>\n",
       "      <td>0.000139</td>\n",
       "      <td>0.000456</td>\n",
       "      <td>0.000000</td>\n",
       "      <td>1.0</td>\n",
       "      <td>1005.0</td>\n",
       "      <td>379.0</td>\n",
       "      <td>NH</td>\n",
       "      <td>1740.0</td>\n",
       "      <td>23311.0</td>\n",
       "    </tr>\n",
       "    <tr>\n",
       "      <th>11</th>\n",
       "      <td>MALE</td>\n",
       "      <td>Married</td>\n",
       "      <td>64.0</td>\n",
       "      <td>632.0</td>\n",
       "      <td>23899.0</td>\n",
       "      <td>1987.0</td>\n",
       "      <td>NaN</td>\n",
       "      <td>NaN</td>\n",
       "      <td>NaN</td>\n",
       "      <td>NaN</td>\n",
       "      <td>...</td>\n",
       "      <td>NaN</td>\n",
       "      <td>0.012917</td>\n",
       "      <td>0.024721</td>\n",
       "      <td>0.014677</td>\n",
       "      <td>1.0</td>\n",
       "      <td>21063.0</td>\n",
       "      <td>330.0</td>\n",
       "      <td>DH</td>\n",
       "      <td>1889.0</td>\n",
       "      <td>22111.0</td>\n",
       "    </tr>\n",
       "    <tr>\n",
       "      <th>12</th>\n",
       "      <td>MALE</td>\n",
       "      <td>Single</td>\n",
       "      <td>56.0</td>\n",
       "      <td>568.0</td>\n",
       "      <td>22357.0</td>\n",
       "      <td>1996.0</td>\n",
       "      <td>0.0</td>\n",
       "      <td>0.000014</td>\n",
       "      <td>0.000079</td>\n",
       "      <td>0.0</td>\n",
       "      <td>...</td>\n",
       "      <td>NaN</td>\n",
       "      <td>0.000000</td>\n",
       "      <td>0.000000</td>\n",
       "      <td>0.000000</td>\n",
       "      <td>1.0</td>\n",
       "      <td>17001.0</td>\n",
       "      <td>NaN</td>\n",
       "      <td>NH</td>\n",
       "      <td>1740.0</td>\n",
       "      <td>26111.0</td>\n",
       "    </tr>\n",
       "    <tr>\n",
       "      <th>14</th>\n",
       "      <td>MALE</td>\n",
       "      <td>Married</td>\n",
       "      <td>1.0</td>\n",
       "      <td>5.0</td>\n",
       "      <td>166.0</td>\n",
       "      <td>1973.0</td>\n",
       "      <td>NaN</td>\n",
       "      <td>NaN</td>\n",
       "      <td>NaN</td>\n",
       "      <td>NaN</td>\n",
       "      <td>...</td>\n",
       "      <td>NaN</td>\n",
       "      <td>0.026599</td>\n",
       "      <td>0.049072</td>\n",
       "      <td>0.029538</td>\n",
       "      <td>1.0</td>\n",
       "      <td>21061.0</td>\n",
       "      <td>362.0</td>\n",
       "      <td>DH</td>\n",
       "      <td>1888.0</td>\n",
       "      <td>21311.0</td>\n",
       "    </tr>\n",
       "    <tr>\n",
       "      <th>...</th>\n",
       "      <td>...</td>\n",
       "      <td>...</td>\n",
       "      <td>...</td>\n",
       "      <td>...</td>\n",
       "      <td>...</td>\n",
       "      <td>...</td>\n",
       "      <td>...</td>\n",
       "      <td>...</td>\n",
       "      <td>...</td>\n",
       "      <td>...</td>\n",
       "      <td>...</td>\n",
       "      <td>...</td>\n",
       "      <td>...</td>\n",
       "      <td>...</td>\n",
       "      <td>...</td>\n",
       "      <td>...</td>\n",
       "      <td>...</td>\n",
       "      <td>...</td>\n",
       "      <td>...</td>\n",
       "      <td>...</td>\n",
       "      <td>...</td>\n",
       "    </tr>\n",
       "    <tr>\n",
       "      <th>99850</th>\n",
       "      <td>MALE</td>\n",
       "      <td>Single</td>\n",
       "      <td>48.0</td>\n",
       "      <td>493.0</td>\n",
       "      <td>20263.0</td>\n",
       "      <td>1988.0</td>\n",
       "      <td>NaN</td>\n",
       "      <td>NaN</td>\n",
       "      <td>NaN</td>\n",
       "      <td>NaN</td>\n",
       "      <td>...</td>\n",
       "      <td>0.010638</td>\n",
       "      <td>0.001271</td>\n",
       "      <td>0.003703</td>\n",
       "      <td>0.002198</td>\n",
       "      <td>1.0</td>\n",
       "      <td>21064.0</td>\n",
       "      <td>462.0</td>\n",
       "      <td>TH</td>\n",
       "      <td>1700.0</td>\n",
       "      <td>23231.0</td>\n",
       "    </tr>\n",
       "    <tr>\n",
       "      <th>99853</th>\n",
       "      <td>FEMALE</td>\n",
       "      <td>Married</td>\n",
       "      <td>1.0</td>\n",
       "      <td>3.0</td>\n",
       "      <td>94.0</td>\n",
       "      <td>1992.0</td>\n",
       "      <td>NaN</td>\n",
       "      <td>NaN</td>\n",
       "      <td>NaN</td>\n",
       "      <td>0.0</td>\n",
       "      <td>...</td>\n",
       "      <td>0.010638</td>\n",
       "      <td>0.000000</td>\n",
       "      <td>0.000000</td>\n",
       "      <td>0.000000</td>\n",
       "      <td>1.0</td>\n",
       "      <td>17001.0</td>\n",
       "      <td>NaN</td>\n",
       "      <td>NH</td>\n",
       "      <td>1891.0</td>\n",
       "      <td>26112.0</td>\n",
       "    </tr>\n",
       "    <tr>\n",
       "      <th>99864</th>\n",
       "      <td>MALE</td>\n",
       "      <td>Single</td>\n",
       "      <td>84.0</td>\n",
       "      <td>845.0</td>\n",
       "      <td>29335.0</td>\n",
       "      <td>1991.0</td>\n",
       "      <td>NaN</td>\n",
       "      <td>NaN</td>\n",
       "      <td>NaN</td>\n",
       "      <td>NaN</td>\n",
       "      <td>...</td>\n",
       "      <td>0.042553</td>\n",
       "      <td>0.020625</td>\n",
       "      <td>0.028805</td>\n",
       "      <td>0.017101</td>\n",
       "      <td>1.0</td>\n",
       "      <td>21061.0</td>\n",
       "      <td>365.0</td>\n",
       "      <td>DH</td>\n",
       "      <td>1891.0</td>\n",
       "      <td>22321.0</td>\n",
       "    </tr>\n",
       "    <tr>\n",
       "      <th>99915</th>\n",
       "      <td>FEMALE</td>\n",
       "      <td>Married</td>\n",
       "      <td>89.0</td>\n",
       "      <td>883.0</td>\n",
       "      <td>30310.0</td>\n",
       "      <td>1985.0</td>\n",
       "      <td>NaN</td>\n",
       "      <td>NaN</td>\n",
       "      <td>NaN</td>\n",
       "      <td>NaN</td>\n",
       "      <td>...</td>\n",
       "      <td>0.010638</td>\n",
       "      <td>0.000000</td>\n",
       "      <td>0.000000</td>\n",
       "      <td>0.000000</td>\n",
       "      <td>1.0</td>\n",
       "      <td>17001.0</td>\n",
       "      <td>NaN</td>\n",
       "      <td>NH</td>\n",
       "      <td>1700.0</td>\n",
       "      <td>26111.0</td>\n",
       "    </tr>\n",
       "    <tr>\n",
       "      <th>99993</th>\n",
       "      <td>NaN</td>\n",
       "      <td>NaN</td>\n",
       "      <td>79.0</td>\n",
       "      <td>778.0</td>\n",
       "      <td>27475.0</td>\n",
       "      <td>1989.0</td>\n",
       "      <td>0.0</td>\n",
       "      <td>0.001633</td>\n",
       "      <td>0.009083</td>\n",
       "      <td>0.0</td>\n",
       "      <td>...</td>\n",
       "      <td>0.010638</td>\n",
       "      <td>0.002750</td>\n",
       "      <td>0.004267</td>\n",
       "      <td>0.002533</td>\n",
       "      <td>1.0</td>\n",
       "      <td>21061.0</td>\n",
       "      <td>365.0</td>\n",
       "      <td>DH</td>\n",
       "      <td>1700.0</td>\n",
       "      <td>22321.0</td>\n",
       "    </tr>\n",
       "  </tbody>\n",
       "</table>\n",
       "<p>29956 rows × 50 columns</p>\n",
       "</div>"
      ],
      "text/plain": [
       "      local_ref_1 vn_marital_status  resid_province  resid_district  \\\n",
       "1            MALE            Single            79.0           769.0   \n",
       "7            MALE           Married            38.0           394.0   \n",
       "11           MALE           Married            64.0           632.0   \n",
       "12           MALE            Single            56.0           568.0   \n",
       "14           MALE           Married             1.0             5.0   \n",
       "...           ...               ...             ...             ...   \n",
       "99850        MALE            Single            48.0           493.0   \n",
       "99853      FEMALE           Married             1.0             3.0   \n",
       "99864        MALE            Single            84.0           845.0   \n",
       "99915      FEMALE           Married            89.0           883.0   \n",
       "99993         NaN               NaN            79.0           778.0   \n",
       "\n",
       "       resid_wards  birth_incorp_date  amount_week  max_amount_week  \\\n",
       "1          27097.0             1986.0          NaN              NaN   \n",
       "7          15436.0             1992.0          0.0         0.000476   \n",
       "11         23899.0             1987.0          NaN              NaN   \n",
       "12         22357.0             1996.0          0.0         0.000014   \n",
       "14           166.0             1973.0          NaN              NaN   \n",
       "...            ...                ...          ...              ...   \n",
       "99850      20263.0             1988.0          NaN              NaN   \n",
       "99853         94.0             1992.0          NaN              NaN   \n",
       "99864      29335.0             1991.0          NaN              NaN   \n",
       "99915      30310.0             1985.0          NaN              NaN   \n",
       "99993      27475.0             1989.0          0.0         0.001633   \n",
       "\n",
       "       min_amount_week  distinct_payment_code_week  ...  \\\n",
       "1                  NaN                         NaN  ...   \n",
       "7             0.000011                         0.0  ...   \n",
       "11                 NaN                         NaN  ...   \n",
       "12            0.000079                         0.0  ...   \n",
       "14                 NaN                         NaN  ...   \n",
       "...                ...                         ...  ...   \n",
       "99850              NaN                         NaN  ...   \n",
       "99853              NaN                         0.0  ...   \n",
       "99864              NaN                         NaN  ...   \n",
       "99915              NaN                         NaN  ...   \n",
       "99993         0.009083                         0.0  ...   \n",
       "\n",
       "       totalSavings2021_heoSo  balanceJuin2021  nominal_interestJuin2021  \\\n",
       "1                         NaN         0.003666                  0.006953   \n",
       "7                         NaN         0.000139                  0.000456   \n",
       "11                        NaN         0.012917                  0.024721   \n",
       "12                        NaN         0.000000                  0.000000   \n",
       "14                        NaN         0.026599                  0.049072   \n",
       "...                       ...              ...                       ...   \n",
       "99850                0.010638         0.001271                  0.003703   \n",
       "99853                0.010638         0.000000                  0.000000   \n",
       "99864                0.042553         0.020625                  0.028805   \n",
       "99915                0.010638         0.000000                  0.000000   \n",
       "99993                0.010638         0.002750                  0.004267   \n",
       "\n",
       "       real_interestJuin2021  nhomno_xhtdJuin2021  categoryJuin2021  \\\n",
       "1                   0.004128                  1.0           21061.0   \n",
       "7                   0.000000                  1.0            1005.0   \n",
       "11                  0.014677                  1.0           21063.0   \n",
       "12                  0.000000                  1.0           17001.0   \n",
       "14                  0.029538                  1.0           21061.0   \n",
       "...                      ...                  ...               ...   \n",
       "99850               0.002198                  1.0           21064.0   \n",
       "99853               0.000000                  1.0           17001.0   \n",
       "99864               0.017101                  1.0           21061.0   \n",
       "99915               0.000000                  1.0           17001.0   \n",
       "99993               0.002533                  1.0           21061.0   \n",
       "\n",
       "       sub_productJuin2021  loaikyhanJuin2021  sectorJuin2021  \\\n",
       "1                    365.0                 DH          1890.0   \n",
       "7                    379.0                 NH          1740.0   \n",
       "11                   330.0                 DH          1889.0   \n",
       "12                     NaN                 NH          1740.0   \n",
       "14                   362.0                 DH          1888.0   \n",
       "...                    ...                ...             ...   \n",
       "99850                462.0                 TH          1700.0   \n",
       "99853                  NaN                 NH          1891.0   \n",
       "99864                365.0                 DH          1891.0   \n",
       "99915                  NaN                 NH          1700.0   \n",
       "99993                365.0                 DH          1700.0   \n",
       "\n",
       "       product_codeJuin2021  \n",
       "1                   22321.0  \n",
       "7                   23311.0  \n",
       "11                  22111.0  \n",
       "12                  26111.0  \n",
       "14                  21311.0  \n",
       "...                     ...  \n",
       "99850               23231.0  \n",
       "99853               26112.0  \n",
       "99864               22321.0  \n",
       "99915               26111.0  \n",
       "99993               22321.0  \n",
       "\n",
       "[29956 rows x 50 columns]"
      ]
     },
     "execution_count": 17,
     "metadata": {},
     "output_type": "execute_result"
    }
   ],
   "source": [
    "#Loại bỏ các giá trị NaN\n",
    "df = df[df['nhomno_xhtdJuin2021'].notna()]\n",
    "df\n",
    "#Kết quả trả về sẽ có 29956 dòng, tương ứng với số dòng không NaN bên trên"
   ]
  },
  {
   "cell_type": "markdown",
   "id": "e5f41fa3",
   "metadata": {},
   "source": [
    "b. Xử lý độ tuổi"
   ]
  },
  {
   "cell_type": "code",
   "execution_count": 18,
   "id": "580b5a33",
   "metadata": {},
   "outputs": [
    {
     "data": {
      "text/plain": [
       "array([1986., 1992., 1987., 1996., 1973., 1975., 1991., 1995., 1969.,\n",
       "       1978., 1981., 1982., 1985., 1983., 1977., 1989., 1997., 1990.,\n",
       "       1994., 1984., 1993., 1988., 1971., 1976., 1979., 1967., 1966.,\n",
       "       1962., 1980., 1968., 2002., 1958., 1974., 1972., 1970., 1964.,\n",
       "       1960., 1965., 1998., 1963., 1956., 1959., 1957., 1999., 1955.,\n",
       "       1961., 2000., 1779., 2009., 2010.,   nan, 1954., 2003., 2001.,\n",
       "       1951., 2011.])"
      ]
     },
     "execution_count": 18,
     "metadata": {},
     "output_type": "execute_result"
    }
   ],
   "source": [
    "df['birth_incorp_date'].unique()"
   ]
  },
  {
   "cell_type": "code",
   "execution_count": 19,
   "id": "d6c4893f",
   "metadata": {},
   "outputs": [
    {
     "data": {
      "text/plain": [
       "2022"
      ]
     },
     "execution_count": 19,
     "metadata": {},
     "output_type": "execute_result"
    }
   ],
   "source": [
    "date.today().year"
   ]
  },
  {
   "cell_type": "code",
   "execution_count": 20,
   "id": "7e9b8087",
   "metadata": {},
   "outputs": [
    {
     "data": {
      "text/plain": [
       "1        37.0\n",
       "7        31.0\n",
       "11       36.0\n",
       "12       27.0\n",
       "14       50.0\n",
       "         ... \n",
       "99850    35.0\n",
       "99853    31.0\n",
       "99864    32.0\n",
       "99915    38.0\n",
       "99993    34.0\n",
       "Name: birth_incorp_date, Length: 29956, dtype: float64"
      ]
     },
     "execution_count": 20,
     "metadata": {},
     "output_type": "execute_result"
    }
   ],
   "source": [
    "(date.today().year - df['birth_incorp_date']) + 1"
   ]
  },
  {
   "cell_type": "code",
   "execution_count": 21,
   "id": "931b8d62",
   "metadata": {},
   "outputs": [
    {
     "data": {
      "text/plain": [
       "array([ 37.,  31.,  36.,  27.,  50.,  48.,  32.,  28.,  54.,  45.,  42.,\n",
       "        41.,  38.,  40.,  46.,  34.,  26.,  33.,  29.,  39.,  30.,  35.,\n",
       "        52.,  47.,  44.,  56.,  57.,  61.,  43.,  55.,  21.,  65.,  49.,\n",
       "        51.,  53.,  59.,  63.,  58.,  25.,  60.,  67.,  64.,  66.,  24.,\n",
       "        68.,  62.,  23., 244.,  14.,  13.,  nan,  69.,  20.,  22.,  72.,\n",
       "        12.])"
      ]
     },
     "execution_count": 21,
     "metadata": {},
     "output_type": "execute_result"
    }
   ],
   "source": [
    "df['birth_incorp_age'] = (date.today().year - df['birth_incorp_date']) + 1\n",
    "df['birth_incorp_age'].unique()"
   ]
  },
  {
   "cell_type": "code",
   "execution_count": 22,
   "id": "4caeba12",
   "metadata": {
    "scrolled": true
   },
   "outputs": [
    {
     "data": {
      "text/plain": [
       "31.0     1682\n",
       "33.0     1649\n",
       "32.0     1606\n",
       "34.0     1559\n",
       "30.0     1548\n",
       "35.0     1525\n",
       "38.0     1511\n",
       "39.0     1486\n",
       "36.0     1455\n",
       "29.0     1427\n",
       "40.0     1406\n",
       "41.0     1391\n",
       "37.0     1276\n",
       "42.0     1046\n",
       "28.0     1011\n",
       "43.0      912\n",
       "44.0      848\n",
       "27.0      801\n",
       "46.0      667\n",
       "45.0      658\n",
       "26.0      644\n",
       "47.0      602\n",
       "48.0      517\n",
       "49.0      461\n",
       "50.0      365\n",
       "52.0      279\n",
       "51.0      272\n",
       "53.0      238\n",
       "25.0      208\n",
       "54.0      148\n",
       "55.0      137\n",
       "56.0       96\n",
       "24.0       90\n",
       "58.0       71\n",
       "57.0       68\n",
       "59.0       48\n",
       "23.0       44\n",
       "60.0       39\n",
       "61.0       31\n",
       "63.0       29\n",
       "64.0       18\n",
       "62.0       16\n",
       "67.0       15\n",
       "65.0       15\n",
       "66.0       12\n",
       "68.0        6\n",
       "21.0        6\n",
       "22.0        5\n",
       "69.0        4\n",
       "72.0        2\n",
       "244.0       1\n",
       "14.0        1\n",
       "13.0        1\n",
       "20.0        1\n",
       "12.0        1\n",
       "Name: birth_incorp_age, dtype: int64"
      ]
     },
     "execution_count": 22,
     "metadata": {},
     "output_type": "execute_result"
    }
   ],
   "source": [
    "df['birth_incorp_age'].value_counts()"
   ]
  },
  {
   "cell_type": "code",
   "execution_count": 23,
   "id": "8249ebd9",
   "metadata": {
    "scrolled": true
   },
   "outputs": [
    {
     "data": {
      "text/plain": [
       "12.0        1\n",
       "13.0        1\n",
       "14.0        1\n",
       "20.0        1\n",
       "21.0        6\n",
       "22.0        5\n",
       "23.0       44\n",
       "24.0       90\n",
       "25.0      208\n",
       "26.0      644\n",
       "27.0      801\n",
       "28.0     1011\n",
       "29.0     1427\n",
       "30.0     1548\n",
       "31.0     1682\n",
       "32.0     1606\n",
       "33.0     1649\n",
       "34.0     1559\n",
       "35.0     1525\n",
       "36.0     1455\n",
       "37.0     1276\n",
       "38.0     1511\n",
       "39.0     1486\n",
       "40.0     1406\n",
       "41.0     1391\n",
       "42.0     1046\n",
       "43.0      912\n",
       "44.0      848\n",
       "45.0      658\n",
       "46.0      667\n",
       "47.0      602\n",
       "48.0      517\n",
       "49.0      461\n",
       "50.0      365\n",
       "51.0      272\n",
       "52.0      279\n",
       "53.0      238\n",
       "54.0      148\n",
       "55.0      137\n",
       "56.0       96\n",
       "57.0       68\n",
       "58.0       71\n",
       "59.0       48\n",
       "60.0       39\n",
       "61.0       31\n",
       "62.0       16\n",
       "63.0       29\n",
       "64.0       18\n",
       "65.0       15\n",
       "66.0       12\n",
       "67.0       15\n",
       "68.0        6\n",
       "69.0        4\n",
       "72.0        2\n",
       "244.0       1\n",
       "Name: birth_incorp_age, dtype: int64"
      ]
     },
     "execution_count": 23,
     "metadata": {},
     "output_type": "execute_result"
    }
   ],
   "source": [
    "df['birth_incorp_age'].value_counts().sort_index()"
   ]
  },
  {
   "cell_type": "code",
   "execution_count": 24,
   "id": "8c8bb03d",
   "metadata": {},
   "outputs": [],
   "source": [
    "#Loại bỏ những người có độ tuổi <18 hoặc >100, làm sai lệch trong bộ dữ liệu\n",
    "df.drop(df[(df.birth_incorp_age < 18) | (df.birth_incorp_age >100)].index, inplace = True)"
   ]
  },
  {
   "cell_type": "code",
   "execution_count": 25,
   "id": "115abb1e",
   "metadata": {},
   "outputs": [
    {
     "data": {
      "text/plain": [
       "1        37.0\n",
       "7        31.0\n",
       "11       36.0\n",
       "12       27.0\n",
       "14       50.0\n",
       "         ... \n",
       "99850    35.0\n",
       "99853    31.0\n",
       "99864    32.0\n",
       "99915    38.0\n",
       "99993    34.0\n",
       "Name: birth_incorp_age, Length: 29952, dtype: float64"
      ]
     },
     "execution_count": 25,
     "metadata": {},
     "output_type": "execute_result"
    }
   ],
   "source": [
    "df['birth_incorp_age']"
   ]
  },
  {
   "cell_type": "code",
   "execution_count": 26,
   "id": "aa61cbf7",
   "metadata": {},
   "outputs": [
    {
     "data": {
      "text/plain": [
       "20.0       1\n",
       "21.0       6\n",
       "22.0       5\n",
       "23.0      44\n",
       "24.0      90\n",
       "25.0     208\n",
       "26.0     644\n",
       "27.0     801\n",
       "28.0    1011\n",
       "29.0    1427\n",
       "30.0    1548\n",
       "31.0    1682\n",
       "32.0    1606\n",
       "33.0    1649\n",
       "34.0    1559\n",
       "35.0    1525\n",
       "36.0    1455\n",
       "37.0    1276\n",
       "38.0    1511\n",
       "39.0    1486\n",
       "40.0    1406\n",
       "41.0    1391\n",
       "42.0    1046\n",
       "43.0     912\n",
       "44.0     848\n",
       "45.0     658\n",
       "46.0     667\n",
       "47.0     602\n",
       "48.0     517\n",
       "49.0     461\n",
       "50.0     365\n",
       "51.0     272\n",
       "52.0     279\n",
       "53.0     238\n",
       "54.0     148\n",
       "55.0     137\n",
       "56.0      96\n",
       "57.0      68\n",
       "58.0      71\n",
       "59.0      48\n",
       "60.0      39\n",
       "61.0      31\n",
       "62.0      16\n",
       "63.0      29\n",
       "64.0      18\n",
       "65.0      15\n",
       "66.0      12\n",
       "67.0      15\n",
       "68.0       6\n",
       "69.0       4\n",
       "72.0       2\n",
       "Name: birth_incorp_age, dtype: int64"
      ]
     },
     "execution_count": 26,
     "metadata": {},
     "output_type": "execute_result"
    }
   ],
   "source": [
    "df['birth_incorp_age'].value_counts().sort_index()\n",
    "# Hiện tại độ tuổi đã được fill chính xác hơn và được loại bỏ các thông tin gây sai lệch"
   ]
  },
  {
   "cell_type": "code",
   "execution_count": 27,
   "id": "a87d9ec4",
   "metadata": {},
   "outputs": [
    {
     "data": {
      "text/html": [
       "<div>\n",
       "<style scoped>\n",
       "    .dataframe tbody tr th:only-of-type {\n",
       "        vertical-align: middle;\n",
       "    }\n",
       "\n",
       "    .dataframe tbody tr th {\n",
       "        vertical-align: top;\n",
       "    }\n",
       "\n",
       "    .dataframe thead th {\n",
       "        text-align: right;\n",
       "    }\n",
       "</style>\n",
       "<table border=\"1\" class=\"dataframe\">\n",
       "  <thead>\n",
       "    <tr style=\"text-align: right;\">\n",
       "      <th></th>\n",
       "      <th>local_ref_1</th>\n",
       "      <th>vn_marital_status</th>\n",
       "      <th>resid_province</th>\n",
       "      <th>resid_district</th>\n",
       "      <th>resid_wards</th>\n",
       "      <th>birth_incorp_date</th>\n",
       "      <th>amount_week</th>\n",
       "      <th>max_amount_week</th>\n",
       "      <th>min_amount_week</th>\n",
       "      <th>distinct_payment_code_week</th>\n",
       "      <th>...</th>\n",
       "      <th>balanceJuin2021</th>\n",
       "      <th>nominal_interestJuin2021</th>\n",
       "      <th>real_interestJuin2021</th>\n",
       "      <th>nhomno_xhtdJuin2021</th>\n",
       "      <th>categoryJuin2021</th>\n",
       "      <th>sub_productJuin2021</th>\n",
       "      <th>loaikyhanJuin2021</th>\n",
       "      <th>sectorJuin2021</th>\n",
       "      <th>product_codeJuin2021</th>\n",
       "      <th>birth_incorp_age</th>\n",
       "    </tr>\n",
       "  </thead>\n",
       "  <tbody>\n",
       "    <tr>\n",
       "      <th>1</th>\n",
       "      <td>MALE</td>\n",
       "      <td>Single</td>\n",
       "      <td>79.0</td>\n",
       "      <td>769.0</td>\n",
       "      <td>27097.0</td>\n",
       "      <td>1986.0</td>\n",
       "      <td>NaN</td>\n",
       "      <td>NaN</td>\n",
       "      <td>NaN</td>\n",
       "      <td>NaN</td>\n",
       "      <td>...</td>\n",
       "      <td>0.003666</td>\n",
       "      <td>0.006953</td>\n",
       "      <td>0.004128</td>\n",
       "      <td>1.0</td>\n",
       "      <td>21061.0</td>\n",
       "      <td>365.0</td>\n",
       "      <td>DH</td>\n",
       "      <td>1890.0</td>\n",
       "      <td>22321.0</td>\n",
       "      <td>37.0</td>\n",
       "    </tr>\n",
       "    <tr>\n",
       "      <th>7</th>\n",
       "      <td>MALE</td>\n",
       "      <td>Married</td>\n",
       "      <td>38.0</td>\n",
       "      <td>394.0</td>\n",
       "      <td>15436.0</td>\n",
       "      <td>1992.0</td>\n",
       "      <td>0.0</td>\n",
       "      <td>0.000476</td>\n",
       "      <td>0.000011</td>\n",
       "      <td>0.0</td>\n",
       "      <td>...</td>\n",
       "      <td>0.000139</td>\n",
       "      <td>0.000456</td>\n",
       "      <td>0.000000</td>\n",
       "      <td>1.0</td>\n",
       "      <td>1005.0</td>\n",
       "      <td>379.0</td>\n",
       "      <td>NH</td>\n",
       "      <td>1740.0</td>\n",
       "      <td>23311.0</td>\n",
       "      <td>31.0</td>\n",
       "    </tr>\n",
       "    <tr>\n",
       "      <th>11</th>\n",
       "      <td>MALE</td>\n",
       "      <td>Married</td>\n",
       "      <td>64.0</td>\n",
       "      <td>632.0</td>\n",
       "      <td>23899.0</td>\n",
       "      <td>1987.0</td>\n",
       "      <td>NaN</td>\n",
       "      <td>NaN</td>\n",
       "      <td>NaN</td>\n",
       "      <td>NaN</td>\n",
       "      <td>...</td>\n",
       "      <td>0.012917</td>\n",
       "      <td>0.024721</td>\n",
       "      <td>0.014677</td>\n",
       "      <td>1.0</td>\n",
       "      <td>21063.0</td>\n",
       "      <td>330.0</td>\n",
       "      <td>DH</td>\n",
       "      <td>1889.0</td>\n",
       "      <td>22111.0</td>\n",
       "      <td>36.0</td>\n",
       "    </tr>\n",
       "    <tr>\n",
       "      <th>12</th>\n",
       "      <td>MALE</td>\n",
       "      <td>Single</td>\n",
       "      <td>56.0</td>\n",
       "      <td>568.0</td>\n",
       "      <td>22357.0</td>\n",
       "      <td>1996.0</td>\n",
       "      <td>0.0</td>\n",
       "      <td>0.000014</td>\n",
       "      <td>0.000079</td>\n",
       "      <td>0.0</td>\n",
       "      <td>...</td>\n",
       "      <td>0.000000</td>\n",
       "      <td>0.000000</td>\n",
       "      <td>0.000000</td>\n",
       "      <td>1.0</td>\n",
       "      <td>17001.0</td>\n",
       "      <td>NaN</td>\n",
       "      <td>NH</td>\n",
       "      <td>1740.0</td>\n",
       "      <td>26111.0</td>\n",
       "      <td>27.0</td>\n",
       "    </tr>\n",
       "    <tr>\n",
       "      <th>14</th>\n",
       "      <td>MALE</td>\n",
       "      <td>Married</td>\n",
       "      <td>1.0</td>\n",
       "      <td>5.0</td>\n",
       "      <td>166.0</td>\n",
       "      <td>1973.0</td>\n",
       "      <td>NaN</td>\n",
       "      <td>NaN</td>\n",
       "      <td>NaN</td>\n",
       "      <td>NaN</td>\n",
       "      <td>...</td>\n",
       "      <td>0.026599</td>\n",
       "      <td>0.049072</td>\n",
       "      <td>0.029538</td>\n",
       "      <td>1.0</td>\n",
       "      <td>21061.0</td>\n",
       "      <td>362.0</td>\n",
       "      <td>DH</td>\n",
       "      <td>1888.0</td>\n",
       "      <td>21311.0</td>\n",
       "      <td>50.0</td>\n",
       "    </tr>\n",
       "    <tr>\n",
       "      <th>...</th>\n",
       "      <td>...</td>\n",
       "      <td>...</td>\n",
       "      <td>...</td>\n",
       "      <td>...</td>\n",
       "      <td>...</td>\n",
       "      <td>...</td>\n",
       "      <td>...</td>\n",
       "      <td>...</td>\n",
       "      <td>...</td>\n",
       "      <td>...</td>\n",
       "      <td>...</td>\n",
       "      <td>...</td>\n",
       "      <td>...</td>\n",
       "      <td>...</td>\n",
       "      <td>...</td>\n",
       "      <td>...</td>\n",
       "      <td>...</td>\n",
       "      <td>...</td>\n",
       "      <td>...</td>\n",
       "      <td>...</td>\n",
       "      <td>...</td>\n",
       "    </tr>\n",
       "    <tr>\n",
       "      <th>99850</th>\n",
       "      <td>MALE</td>\n",
       "      <td>Single</td>\n",
       "      <td>48.0</td>\n",
       "      <td>493.0</td>\n",
       "      <td>20263.0</td>\n",
       "      <td>1988.0</td>\n",
       "      <td>NaN</td>\n",
       "      <td>NaN</td>\n",
       "      <td>NaN</td>\n",
       "      <td>NaN</td>\n",
       "      <td>...</td>\n",
       "      <td>0.001271</td>\n",
       "      <td>0.003703</td>\n",
       "      <td>0.002198</td>\n",
       "      <td>1.0</td>\n",
       "      <td>21064.0</td>\n",
       "      <td>462.0</td>\n",
       "      <td>TH</td>\n",
       "      <td>1700.0</td>\n",
       "      <td>23231.0</td>\n",
       "      <td>35.0</td>\n",
       "    </tr>\n",
       "    <tr>\n",
       "      <th>99853</th>\n",
       "      <td>FEMALE</td>\n",
       "      <td>Married</td>\n",
       "      <td>1.0</td>\n",
       "      <td>3.0</td>\n",
       "      <td>94.0</td>\n",
       "      <td>1992.0</td>\n",
       "      <td>NaN</td>\n",
       "      <td>NaN</td>\n",
       "      <td>NaN</td>\n",
       "      <td>0.0</td>\n",
       "      <td>...</td>\n",
       "      <td>0.000000</td>\n",
       "      <td>0.000000</td>\n",
       "      <td>0.000000</td>\n",
       "      <td>1.0</td>\n",
       "      <td>17001.0</td>\n",
       "      <td>NaN</td>\n",
       "      <td>NH</td>\n",
       "      <td>1891.0</td>\n",
       "      <td>26112.0</td>\n",
       "      <td>31.0</td>\n",
       "    </tr>\n",
       "    <tr>\n",
       "      <th>99864</th>\n",
       "      <td>MALE</td>\n",
       "      <td>Single</td>\n",
       "      <td>84.0</td>\n",
       "      <td>845.0</td>\n",
       "      <td>29335.0</td>\n",
       "      <td>1991.0</td>\n",
       "      <td>NaN</td>\n",
       "      <td>NaN</td>\n",
       "      <td>NaN</td>\n",
       "      <td>NaN</td>\n",
       "      <td>...</td>\n",
       "      <td>0.020625</td>\n",
       "      <td>0.028805</td>\n",
       "      <td>0.017101</td>\n",
       "      <td>1.0</td>\n",
       "      <td>21061.0</td>\n",
       "      <td>365.0</td>\n",
       "      <td>DH</td>\n",
       "      <td>1891.0</td>\n",
       "      <td>22321.0</td>\n",
       "      <td>32.0</td>\n",
       "    </tr>\n",
       "    <tr>\n",
       "      <th>99915</th>\n",
       "      <td>FEMALE</td>\n",
       "      <td>Married</td>\n",
       "      <td>89.0</td>\n",
       "      <td>883.0</td>\n",
       "      <td>30310.0</td>\n",
       "      <td>1985.0</td>\n",
       "      <td>NaN</td>\n",
       "      <td>NaN</td>\n",
       "      <td>NaN</td>\n",
       "      <td>NaN</td>\n",
       "      <td>...</td>\n",
       "      <td>0.000000</td>\n",
       "      <td>0.000000</td>\n",
       "      <td>0.000000</td>\n",
       "      <td>1.0</td>\n",
       "      <td>17001.0</td>\n",
       "      <td>NaN</td>\n",
       "      <td>NH</td>\n",
       "      <td>1700.0</td>\n",
       "      <td>26111.0</td>\n",
       "      <td>38.0</td>\n",
       "    </tr>\n",
       "    <tr>\n",
       "      <th>99993</th>\n",
       "      <td>NaN</td>\n",
       "      <td>NaN</td>\n",
       "      <td>79.0</td>\n",
       "      <td>778.0</td>\n",
       "      <td>27475.0</td>\n",
       "      <td>1989.0</td>\n",
       "      <td>0.0</td>\n",
       "      <td>0.001633</td>\n",
       "      <td>0.009083</td>\n",
       "      <td>0.0</td>\n",
       "      <td>...</td>\n",
       "      <td>0.002750</td>\n",
       "      <td>0.004267</td>\n",
       "      <td>0.002533</td>\n",
       "      <td>1.0</td>\n",
       "      <td>21061.0</td>\n",
       "      <td>365.0</td>\n",
       "      <td>DH</td>\n",
       "      <td>1700.0</td>\n",
       "      <td>22321.0</td>\n",
       "      <td>34.0</td>\n",
       "    </tr>\n",
       "  </tbody>\n",
       "</table>\n",
       "<p>29952 rows × 51 columns</p>\n",
       "</div>"
      ],
      "text/plain": [
       "      local_ref_1 vn_marital_status  resid_province  resid_district  \\\n",
       "1            MALE            Single            79.0           769.0   \n",
       "7            MALE           Married            38.0           394.0   \n",
       "11           MALE           Married            64.0           632.0   \n",
       "12           MALE            Single            56.0           568.0   \n",
       "14           MALE           Married             1.0             5.0   \n",
       "...           ...               ...             ...             ...   \n",
       "99850        MALE            Single            48.0           493.0   \n",
       "99853      FEMALE           Married             1.0             3.0   \n",
       "99864        MALE            Single            84.0           845.0   \n",
       "99915      FEMALE           Married            89.0           883.0   \n",
       "99993         NaN               NaN            79.0           778.0   \n",
       "\n",
       "       resid_wards  birth_incorp_date  amount_week  max_amount_week  \\\n",
       "1          27097.0             1986.0          NaN              NaN   \n",
       "7          15436.0             1992.0          0.0         0.000476   \n",
       "11         23899.0             1987.0          NaN              NaN   \n",
       "12         22357.0             1996.0          0.0         0.000014   \n",
       "14           166.0             1973.0          NaN              NaN   \n",
       "...            ...                ...          ...              ...   \n",
       "99850      20263.0             1988.0          NaN              NaN   \n",
       "99853         94.0             1992.0          NaN              NaN   \n",
       "99864      29335.0             1991.0          NaN              NaN   \n",
       "99915      30310.0             1985.0          NaN              NaN   \n",
       "99993      27475.0             1989.0          0.0         0.001633   \n",
       "\n",
       "       min_amount_week  distinct_payment_code_week  ...  balanceJuin2021  \\\n",
       "1                  NaN                         NaN  ...         0.003666   \n",
       "7             0.000011                         0.0  ...         0.000139   \n",
       "11                 NaN                         NaN  ...         0.012917   \n",
       "12            0.000079                         0.0  ...         0.000000   \n",
       "14                 NaN                         NaN  ...         0.026599   \n",
       "...                ...                         ...  ...              ...   \n",
       "99850              NaN                         NaN  ...         0.001271   \n",
       "99853              NaN                         0.0  ...         0.000000   \n",
       "99864              NaN                         NaN  ...         0.020625   \n",
       "99915              NaN                         NaN  ...         0.000000   \n",
       "99993         0.009083                         0.0  ...         0.002750   \n",
       "\n",
       "       nominal_interestJuin2021  real_interestJuin2021  nhomno_xhtdJuin2021  \\\n",
       "1                      0.006953               0.004128                  1.0   \n",
       "7                      0.000456               0.000000                  1.0   \n",
       "11                     0.024721               0.014677                  1.0   \n",
       "12                     0.000000               0.000000                  1.0   \n",
       "14                     0.049072               0.029538                  1.0   \n",
       "...                         ...                    ...                  ...   \n",
       "99850                  0.003703               0.002198                  1.0   \n",
       "99853                  0.000000               0.000000                  1.0   \n",
       "99864                  0.028805               0.017101                  1.0   \n",
       "99915                  0.000000               0.000000                  1.0   \n",
       "99993                  0.004267               0.002533                  1.0   \n",
       "\n",
       "       categoryJuin2021  sub_productJuin2021  loaikyhanJuin2021  \\\n",
       "1               21061.0                365.0                 DH   \n",
       "7                1005.0                379.0                 NH   \n",
       "11              21063.0                330.0                 DH   \n",
       "12              17001.0                  NaN                 NH   \n",
       "14              21061.0                362.0                 DH   \n",
       "...                 ...                  ...                ...   \n",
       "99850           21064.0                462.0                 TH   \n",
       "99853           17001.0                  NaN                 NH   \n",
       "99864           21061.0                365.0                 DH   \n",
       "99915           17001.0                  NaN                 NH   \n",
       "99993           21061.0                365.0                 DH   \n",
       "\n",
       "       sectorJuin2021  product_codeJuin2021  birth_incorp_age  \n",
       "1              1890.0               22321.0              37.0  \n",
       "7              1740.0               23311.0              31.0  \n",
       "11             1889.0               22111.0              36.0  \n",
       "12             1740.0               26111.0              27.0  \n",
       "14             1888.0               21311.0              50.0  \n",
       "...               ...                   ...               ...  \n",
       "99850          1700.0               23231.0              35.0  \n",
       "99853          1891.0               26112.0              31.0  \n",
       "99864          1891.0               22321.0              32.0  \n",
       "99915          1700.0               26111.0              38.0  \n",
       "99993          1700.0               22321.0              34.0  \n",
       "\n",
       "[29952 rows x 51 columns]"
      ]
     },
     "execution_count": 27,
     "metadata": {},
     "output_type": "execute_result"
    }
   ],
   "source": [
    "# Sau khi xử lý database thì database giảm đi 4 dòng so với ban đầu, chỉ còn 29952 dòng, tương ứng với 4 người tuổi không hợp lý\n",
    "df"
   ]
  },
  {
   "cell_type": "markdown",
   "id": "b7b434bf",
   "metadata": {},
   "source": [
    "c. Xử lý most_act_mar2021"
   ]
  },
  {
   "cell_type": "code",
   "execution_count": 28,
   "id": "83451807",
   "metadata": {},
   "outputs": [
    {
     "data": {
      "text/plain": [
       "chuyen khoan     19965\n",
       "thanh toan        3475\n",
       "phi tai chinh      576\n",
       "rut tien atm       127\n",
       "tiet kiem           32\n",
       "Name: most_act_mar2021, dtype: int64"
      ]
     },
     "execution_count": 28,
     "metadata": {},
     "output_type": "execute_result"
    }
   ],
   "source": [
    "#Xét thấy tất cả các data đang có chữ giao dịch ở phía trước, cũng như viết hoa viết thường không xác định, nhóm quyết định xử lý như sau:\n",
    "df[\"most_act_mar2021\"] = df[\"most_act_mar2021\"].str.lower()\n",
    "df[\"most_act_mar2021\"] = df[\"most_act_mar2021\"].str.replace(\"giao dich \", \"\")\n",
    "df[\"most_act_mar2021\"].value_counts()"
   ]
  },
  {
   "cell_type": "code",
   "execution_count": 29,
   "id": "cbc8dc9a",
   "metadata": {},
   "outputs": [
    {
     "data": {
      "text/plain": [
       "array([nan, 'chuyen khoan', 'phi tai chinh', 'thanh toan', 'rut tien atm',\n",
       "       'tiet kiem'], dtype=object)"
      ]
     },
     "execution_count": 29,
     "metadata": {},
     "output_type": "execute_result"
    }
   ],
   "source": [
    "df[\"most_act_mar2021\"].unique()\n",
    "#các trường thông tin giờ đã đơn giản hơn và gọn gàng hơn"
   ]
  },
  {
   "cell_type": "markdown",
   "id": "2d559da8",
   "metadata": {},
   "source": [
    "# d. Xử lý các trường thông tin còn thiếu bằng cách fill thông tin"
   ]
  },
  {
   "cell_type": "markdown",
   "id": "7e0ea812",
   "metadata": {},
   "source": [
    "d1. Xử lý local_ref_1"
   ]
  },
  {
   "cell_type": "code",
   "execution_count": 30,
   "id": "31db81e8",
   "metadata": {},
   "outputs": [
    {
     "data": {
      "text/plain": [
       "28966"
      ]
     },
     "execution_count": 30,
     "metadata": {},
     "output_type": "execute_result"
    }
   ],
   "source": [
    "df[\"local_ref_1\"].value_counts().sum()"
   ]
  },
  {
   "cell_type": "code",
   "execution_count": 31,
   "id": "e5918483",
   "metadata": {},
   "outputs": [
    {
     "data": {
      "text/plain": [
       "986"
      ]
     },
     "execution_count": 31,
     "metadata": {},
     "output_type": "execute_result"
    }
   ],
   "source": [
    "df.shape[0] - df[\"local_ref_1\"].value_counts().sum()\n",
    "#Có 986 giá trị nan trong cột local ref"
   ]
  },
  {
   "cell_type": "code",
   "execution_count": 32,
   "id": "8505805f",
   "metadata": {},
   "outputs": [
    {
     "data": {
      "text/plain": [
       "MALE      0.7118\n",
       "FEMALE    0.2882\n",
       "Name: local_ref_1, dtype: float64"
      ]
     },
     "execution_count": 32,
     "metadata": {},
     "output_type": "execute_result"
    }
   ],
   "source": [
    "df[\"local_ref_1\"].value_counts(normalize = True)"
   ]
  },
  {
   "cell_type": "code",
   "execution_count": 33,
   "id": "5dac4150",
   "metadata": {},
   "outputs": [],
   "source": [
    "# Xét thấy có 71.18% số người trong database là Nam, nhóm quyết định fill giá trị NaN bằng Male\n",
    "df['local_ref_1'].fillna(statistics.mode(df['local_ref_1']), inplace=True)"
   ]
  },
  {
   "cell_type": "code",
   "execution_count": 34,
   "id": "02492d4c",
   "metadata": {},
   "outputs": [
    {
     "data": {
      "text/plain": [
       "MALE      0.721287\n",
       "FEMALE    0.278713\n",
       "Name: local_ref_1, dtype: float64"
      ]
     },
     "execution_count": 34,
     "metadata": {},
     "output_type": "execute_result"
    }
   ],
   "source": [
    "df[\"local_ref_1\"].value_counts(normalize = True)\n",
    "#Sau khi kiểm tra lại, tỉ lệ male tăng lên 72.13%, NaN = 0%"
   ]
  },
  {
   "cell_type": "markdown",
   "id": "d32d32f2",
   "metadata": {},
   "source": [
    "d2. Xử lý trạng thái hôn nhân"
   ]
  },
  {
   "cell_type": "code",
   "execution_count": 35,
   "id": "fd862a9b",
   "metadata": {},
   "outputs": [
    {
     "data": {
      "text/plain": [
       "array(['Single', 'Married', nan, 'Partner', 'Other', 'Seperated',\n",
       "       'Divorced', 'Widow'], dtype=object)"
      ]
     },
     "execution_count": 35,
     "metadata": {},
     "output_type": "execute_result"
    }
   ],
   "source": [
    "df['vn_marital_status'].unique()"
   ]
  },
  {
   "cell_type": "code",
   "execution_count": 36,
   "id": "45a9e512",
   "metadata": {},
   "outputs": [
    {
     "data": {
      "text/plain": [
       "Married      0.619758\n",
       "Single       0.374251\n",
       "Other        0.004328\n",
       "Divorced     0.000831\n",
       "Partner      0.000589\n",
       "Widow        0.000208\n",
       "Seperated    0.000035\n",
       "Name: vn_marital_status, dtype: float64"
      ]
     },
     "execution_count": 36,
     "metadata": {},
     "output_type": "execute_result"
    }
   ],
   "source": [
    "df['vn_marital_status'].value_counts(normalize = True)\n",
    "#Xét thấy tỉ lệ người đã kết hôn là 61.98%, tỉ lệ cao nhất, nhóm quyết định fill các giá trị NaN bằng Married."
   ]
  },
  {
   "cell_type": "code",
   "execution_count": 37,
   "id": "70a90da6",
   "metadata": {},
   "outputs": [
    {
     "data": {
      "text/plain": [
       "Married      0.633380\n",
       "Single       0.360844\n",
       "Other        0.004173\n",
       "Divorced     0.000801\n",
       "Partner      0.000568\n",
       "Widow        0.000200\n",
       "Seperated    0.000033\n",
       "Name: vn_marital_status, dtype: float64"
      ]
     },
     "execution_count": 37,
     "metadata": {},
     "output_type": "execute_result"
    }
   ],
   "source": [
    "df['vn_marital_status'].fillna(statistics.mode(df['vn_marital_status']), inplace=True)\n",
    "df['vn_marital_status'].value_counts(normalize = True)\n",
    "#Sau khi xử lý xong thì tỉ lệ người đã kết hôn tăng lên 63.34%"
   ]
  },
  {
   "cell_type": "markdown",
   "id": "82b9549a",
   "metadata": {},
   "source": [
    "d3. Xử lý vị trí địa lý"
   ]
  },
  {
   "cell_type": "code",
   "execution_count": 38,
   "id": "4304a0dd",
   "metadata": {},
   "outputs": [
    {
     "data": {
      "text/plain": [
       "1.0     0.240922\n",
       "79.0    0.108684\n",
       "31.0    0.040566\n",
       "38.0    0.030897\n",
       "75.0    0.026280\n",
       "          ...   \n",
       "6.0     0.000727\n",
       "2.0     0.000654\n",
       "4.0     0.000654\n",
       "62.0    0.000218\n",
       "12.0    0.000109\n",
       "Name: resid_province, Length: 63, dtype: float64"
      ]
     },
     "execution_count": 38,
     "metadata": {},
     "output_type": "execute_result"
    }
   ],
   "source": [
    "df['resid_province'].value_counts(normalize= True)"
   ]
  },
  {
   "cell_type": "code",
   "execution_count": 39,
   "id": "784d756c",
   "metadata": {},
   "outputs": [
    {
     "name": "stdout",
     "output_type": "stream",
     "text": [
      "2441\n",
      "29952\n"
     ]
    }
   ],
   "source": [
    "print(df.shape[0] - df['resid_province'].value_counts().sum())\n",
    "print(df.shape[0])\n",
    "#Có 2441 giá trị NaN trên tổng 29952 dòng"
   ]
  },
  {
   "cell_type": "code",
   "execution_count": 40,
   "id": "de6d22c3",
   "metadata": {},
   "outputs": [
    {
     "data": {
      "text/plain": [
       "1.0     0.302784\n",
       "79.0    0.099826\n",
       "31.0    0.037260\n",
       "38.0    0.028379\n",
       "75.0    0.024139\n",
       "          ...   \n",
       "6.0     0.000668\n",
       "2.0     0.000601\n",
       "4.0     0.000601\n",
       "62.0    0.000200\n",
       "12.0    0.000100\n",
       "Name: resid_province, Length: 63, dtype: float64"
      ]
     },
     "execution_count": 40,
     "metadata": {},
     "output_type": "execute_result"
    }
   ],
   "source": [
    "#Xét thấy có 24.09% số người ở tỉnh thành số 1.0, nhóm quyết định fill thông tin NaN bằng tỉnh thành số 1.0\n",
    "df['resid_province'].fillna(statistics.mode(df['resid_province']), inplace= True)\n",
    "df['resid_province'].value_counts(normalize = True)\n",
    "#Sau khi xử lý xong thì số người ở tỉnh thành số 1 tăng lên 30%, nên chú ý vì thay đổi tỉ lệ khá nhiều"
   ]
  },
  {
   "cell_type": "code",
   "execution_count": 41,
   "id": "bbd8e2a7",
   "metadata": {},
   "outputs": [
    {
     "data": {
      "text/plain": [
       "6.0      0.021700\n",
       "268.0    0.016830\n",
       "8.0      0.016612\n",
       "9.0      0.016539\n",
       "1.0      0.016393\n",
       "           ...   \n",
       "388.0    0.000036\n",
       "652.0    0.000036\n",
       "638.0    0.000036\n",
       "63.0     0.000036\n",
       "220.0    0.000036\n",
       "Name: resid_district, Length: 650, dtype: float64"
      ]
     },
     "execution_count": 41,
     "metadata": {},
     "output_type": "execute_result"
    }
   ],
   "source": [
    "df['resid_district'].value_counts(normalize= True)"
   ]
  },
  {
   "cell_type": "code",
   "execution_count": 42,
   "id": "ee3976bc",
   "metadata": {},
   "outputs": [
    {
     "data": {
      "text/plain": [
       "2441"
      ]
     },
     "execution_count": 42,
     "metadata": {},
     "output_type": "execute_result"
    }
   ],
   "source": [
    "df.shape[0] - df['resid_district'].value_counts().sum()\n",
    "#Có 2441 trường hợp NaN"
   ]
  },
  {
   "cell_type": "code",
   "execution_count": 43,
   "id": "f01edb96",
   "metadata": {},
   "outputs": [
    {
     "data": {
      "text/plain": [
       "6.0      3038\n",
       "268.0     463\n",
       "8.0       457\n",
       "9.0       455\n",
       "1.0       451\n",
       "         ... \n",
       "388.0       1\n",
       "652.0       1\n",
       "638.0       1\n",
       "63.0        1\n",
       "220.0       1\n",
       "Name: resid_district, Length: 650, dtype: int64"
      ]
     },
     "execution_count": 43,
     "metadata": {},
     "output_type": "execute_result"
    }
   ],
   "source": [
    "#Xét thấy có 2.17% số người ở khu vực quận số 6, nhóm quyết định fill thông tin NaN bằng quận số 6\n",
    "df['resid_district'].fillna(statistics.mode(df['resid_district']), inplace= True)\n",
    "df['resid_district'].value_counts()\n",
    "#Sau khi xử lý xong thì số người ở quận số 6 tăng lên 10% từ 2.17%, dẫn đến sự thay đổi tương đối nhiều trong bộ dữ liệu(Lưu ý)"
   ]
  },
  {
   "cell_type": "markdown",
   "id": "fad6f9e5",
   "metadata": {},
   "source": [
    "d4. Xử lý payment code (liên quan đến giao dịch)"
   ]
  },
  {
   "cell_type": "code",
   "execution_count": 44,
   "id": "27792181",
   "metadata": {},
   "outputs": [
    {
     "data": {
      "text/plain": [
       "0.0    0.678879\n",
       "1.0    0.285401\n",
       "2.0    0.032250\n",
       "3.0    0.003164\n",
       "4.0    0.000255\n",
       "5.0    0.000051\n",
       "Name: distinct_payment_code_week, dtype: float64"
      ]
     },
     "execution_count": 44,
     "metadata": {},
     "output_type": "execute_result"
    }
   ],
   "source": [
    "df['distinct_payment_code_week'].value_counts(normalize = True)"
   ]
  },
  {
   "cell_type": "code",
   "execution_count": 45,
   "id": "49d62623",
   "metadata": {},
   "outputs": [
    {
     "name": "stdout",
     "output_type": "stream",
     "text": [
      "10355\n",
      "29952\n"
     ]
    }
   ],
   "source": [
    "print(df.shape[0] - df['distinct_payment_code_week'].value_counts().sum())\n",
    "print(df.shape[0])"
   ]
  },
  {
   "cell_type": "code",
   "execution_count": 46,
   "id": "d713bdf1",
   "metadata": {
    "scrolled": true
   },
   "outputs": [
    {
     "data": {
      "text/plain": [
       "0.0    0.789897\n",
       "1.0    0.186732\n",
       "2.0    0.021100\n",
       "3.0    0.002070\n",
       "4.0    0.000167\n",
       "5.0    0.000033\n",
       "Name: distinct_payment_code_week, dtype: float64"
      ]
     },
     "execution_count": 46,
     "metadata": {},
     "output_type": "execute_result"
    }
   ],
   "source": [
    "#Xét thấy có 67.89% số người dùng có dùng dịch vụ 0 (không dùng dịch vụ) trong tuần trước, nhóm fill giá trị NaN bằng 0\n",
    "df['distinct_payment_code_week'].fillna(statistics.mode(df['distinct_payment_code_week']), inplace= True)\n",
    "df['distinct_payment_code_week'].value_counts(normalize = True)\n",
    "#Sau khi check lại, có 78.99% số người dùng dùng dịch vụ 0 trong tuần trước"
   ]
  },
  {
   "cell_type": "code",
   "execution_count": 47,
   "id": "b1b50dd7",
   "metadata": {},
   "outputs": [
    {
     "data": {
      "text/plain": [
       "0.0    0.410376\n",
       "1.0    0.389118\n",
       "2.0    0.124759\n",
       "3.0    0.052147\n",
       "4.0    0.018049\n",
       "5.0    0.004229\n",
       "6.0    0.001208\n",
       "7.0    0.000076\n",
       "8.0    0.000038\n",
       "Name: distinct_payment_code_month, dtype: float64"
      ]
     },
     "execution_count": 47,
     "metadata": {},
     "output_type": "execute_result"
    }
   ],
   "source": [
    "df['distinct_payment_code_month'].value_counts(normalize = True)"
   ]
  },
  {
   "cell_type": "code",
   "execution_count": 48,
   "id": "72dc3bfa",
   "metadata": {
    "scrolled": true
   },
   "outputs": [
    {
     "data": {
      "text/plain": [
       "0.0    0.478666\n",
       "1.0    0.344050\n",
       "2.0    0.110310\n",
       "3.0    0.046107\n",
       "4.0    0.015959\n",
       "5.0    0.003739\n",
       "6.0    0.001068\n",
       "7.0    0.000067\n",
       "8.0    0.000033\n",
       "Name: distinct_payment_code_month, dtype: float64"
      ]
     },
     "execution_count": 48,
     "metadata": {},
     "output_type": "execute_result"
    }
   ],
   "source": [
    "#Xét thấy có 41.04% số người dùng có dùng dịch vụ 0 (không dùng dịch vụ) trong tháng trước, nhóm fill giá trị NaN bằng 0\n",
    "df['distinct_payment_code_month'].fillna(statistics.mode(df['distinct_payment_code_month']), inplace= True)\n",
    "df['distinct_payment_code_month'].value_counts(normalize = True)\n",
    "#Sau khi check lại, có 47.87% số người dùng dùng dịch vụ 0 trong tháng trước"
   ]
  },
  {
   "cell_type": "code",
   "execution_count": 49,
   "id": "9a1cb9f6",
   "metadata": {},
   "outputs": [
    {
     "data": {
      "text/plain": [
       "1    0.399573\n",
       "0    0.321982\n",
       "2    0.148337\n",
       "3    0.076456\n",
       "4    0.037593\n",
       "5    0.011752\n",
       "6    0.003339\n",
       "7    0.000768\n",
       "8    0.000134\n",
       "9    0.000067\n",
       "Name: distinct_payment_code_3month, dtype: float64"
      ]
     },
     "execution_count": 49,
     "metadata": {},
     "output_type": "execute_result"
    }
   ],
   "source": [
    "df['distinct_payment_code_3month'].value_counts(normalize = True)"
   ]
  },
  {
   "cell_type": "code",
   "execution_count": 50,
   "id": "856a669b",
   "metadata": {},
   "outputs": [
    {
     "data": {
      "text/plain": [
       "0"
      ]
     },
     "execution_count": 50,
     "metadata": {},
     "output_type": "execute_result"
    }
   ],
   "source": [
    "df.shape[0] - df['distinct_payment_code_3month'].value_counts().sum()"
   ]
  },
  {
   "cell_type": "code",
   "execution_count": 51,
   "id": "70f17021",
   "metadata": {},
   "outputs": [
    {
     "data": {
      "text/plain": [
       "1    0.399573\n",
       "0    0.321982\n",
       "2    0.148337\n",
       "3    0.076456\n",
       "4    0.037593\n",
       "5    0.011752\n",
       "6    0.003339\n",
       "7    0.000768\n",
       "8    0.000134\n",
       "9    0.000067\n",
       "Name: distinct_payment_code_3month, dtype: float64"
      ]
     },
     "execution_count": 51,
     "metadata": {},
     "output_type": "execute_result"
    }
   ],
   "source": [
    "#Xét thấy không có giá trị NaN, nhóm sẽ fill giá trị \n",
    "#Xét thấy có 39.96% số người dùng có dùng dịch vụ 1 trong 3 tháng trước, nhóm fill giá trị NaN bằng 1\n",
    "df['distinct_payment_code_3month'].fillna(statistics.mode(df['distinct_payment_code_3month']), inplace= True)\n",
    "df['distinct_payment_code_3month'].value_counts(normalize = True)\n",
    "#Sau khi check lại, vẫn có 39.96% số người dùng dùng dịch vụ 1 trong 3 tháng trước"
   ]
  },
  {
   "cell_type": "code",
   "execution_count": 52,
   "id": "d54695f7",
   "metadata": {},
   "outputs": [
    {
     "data": {
      "text/plain": [
       "0.0      0.678879\n",
       "1.0      0.189468\n",
       "2.0      0.072052\n",
       "3.0      0.030566\n",
       "4.0      0.012502\n",
       "5.0      0.006685\n",
       "6.0      0.003317\n",
       "8.0      0.001429\n",
       "10.0     0.000919\n",
       "11.0     0.000765\n",
       "9.0      0.000765\n",
       "7.0      0.000663\n",
       "16.0     0.000357\n",
       "182.0    0.000306\n",
       "23.0     0.000153\n",
       "82.0     0.000102\n",
       "43.0     0.000102\n",
       "27.0     0.000102\n",
       "14.0     0.000102\n",
       "29.0     0.000102\n",
       "13.0     0.000102\n",
       "132.0    0.000102\n",
       "21.0     0.000051\n",
       "17.0     0.000051\n",
       "40.0     0.000051\n",
       "19.0     0.000051\n",
       "28.0     0.000051\n",
       "12.0     0.000051\n",
       "24.0     0.000051\n",
       "15.0     0.000051\n",
       "20.0     0.000051\n",
       "Name: count_payment_code_week, dtype: float64"
      ]
     },
     "execution_count": 52,
     "metadata": {},
     "output_type": "execute_result"
    }
   ],
   "source": [
    "#Xử lý count_payment_code_week:\n",
    "df['count_payment_code_week'].value_counts(normalize = True)"
   ]
  },
  {
   "cell_type": "code",
   "execution_count": 53,
   "id": "f0064084",
   "metadata": {},
   "outputs": [
    {
     "data": {
      "text/plain": [
       "0.0      0.789897\n",
       "1.0      0.123965\n",
       "2.0      0.047142\n",
       "3.0      0.019999\n",
       "4.0      0.008180\n",
       "5.0      0.004374\n",
       "6.0      0.002170\n",
       "8.0      0.000935\n",
       "10.0     0.000601\n",
       "11.0     0.000501\n",
       "9.0      0.000501\n",
       "7.0      0.000434\n",
       "16.0     0.000234\n",
       "182.0    0.000200\n",
       "23.0     0.000100\n",
       "82.0     0.000067\n",
       "43.0     0.000067\n",
       "27.0     0.000067\n",
       "14.0     0.000067\n",
       "29.0     0.000067\n",
       "13.0     0.000067\n",
       "132.0    0.000067\n",
       "21.0     0.000033\n",
       "17.0     0.000033\n",
       "40.0     0.000033\n",
       "19.0     0.000033\n",
       "28.0     0.000033\n",
       "12.0     0.000033\n",
       "24.0     0.000033\n",
       "15.0     0.000033\n",
       "20.0     0.000033\n",
       "Name: count_payment_code_week, dtype: float64"
      ]
     },
     "execution_count": 53,
     "metadata": {},
     "output_type": "execute_result"
    }
   ],
   "source": [
    "df['count_payment_code_week'].fillna(statistics.mode(df['count_payment_code_week']), inplace= True)\n",
    "df['count_payment_code_week'].value_counts(normalize = True)\n",
    "#tỉ lệ 0.0 tăng từ 67.89% lên 78.99%, nên chú ý"
   ]
  },
  {
   "cell_type": "code",
   "execution_count": 54,
   "id": "bdf28598",
   "metadata": {
    "scrolled": true
   },
   "outputs": [
    {
     "data": {
      "text/plain": [
       "0.0      0.410376\n",
       "1.0      0.170147\n",
       "2.0      0.128573\n",
       "3.0      0.092814\n",
       "4.0      0.057584\n",
       "5.0      0.040743\n",
       "6.0      0.028698\n",
       "7.0      0.018729\n",
       "8.0      0.015557\n",
       "9.0      0.007401\n",
       "10.0     0.005475\n",
       "13.0     0.004342\n",
       "11.0     0.003398\n",
       "15.0     0.003059\n",
       "14.0     0.002530\n",
       "12.0     0.002454\n",
       "16.0     0.001020\n",
       "18.0     0.000793\n",
       "19.0     0.000604\n",
       "17.0     0.000529\n",
       "20.0     0.000415\n",
       "23.0     0.000378\n",
       "24.0     0.000378\n",
       "25.0     0.000378\n",
       "28.0     0.000378\n",
       "27.0     0.000340\n",
       "21.0     0.000264\n",
       "26.0     0.000264\n",
       "35.0     0.000264\n",
       "346.0    0.000227\n",
       "46.0     0.000189\n",
       "29.0     0.000151\n",
       "51.0     0.000151\n",
       "42.0     0.000151\n",
       "31.0     0.000151\n",
       "127.0    0.000113\n",
       "30.0     0.000113\n",
       "134.0    0.000076\n",
       "32.0     0.000076\n",
       "49.0     0.000076\n",
       "206.0    0.000076\n",
       "209.0    0.000076\n",
       "99.0     0.000076\n",
       "390.0    0.000038\n",
       "57.0     0.000038\n",
       "64.0     0.000038\n",
       "74.0     0.000038\n",
       "22.0     0.000038\n",
       "37.0     0.000038\n",
       "50.0     0.000038\n",
       "45.0     0.000038\n",
       "48.0     0.000038\n",
       "34.0     0.000038\n",
       "136.0    0.000038\n",
       "Name: count_payment_code_month, dtype: float64"
      ]
     },
     "execution_count": 54,
     "metadata": {},
     "output_type": "execute_result"
    }
   ],
   "source": [
    "df['count_payment_code_month'].value_counts(normalize = True)"
   ]
  },
  {
   "cell_type": "code",
   "execution_count": 55,
   "id": "360ea7b7",
   "metadata": {
    "scrolled": true
   },
   "outputs": [
    {
     "data": {
      "text/plain": [
       "0.0      0.478666\n",
       "1.0      0.150441\n",
       "2.0      0.113682\n",
       "3.0      0.082065\n",
       "4.0      0.050915\n",
       "5.0      0.036024\n",
       "6.0      0.025374\n",
       "7.0      0.016560\n",
       "8.0      0.013755\n",
       "9.0      0.006544\n",
       "10.0     0.004841\n",
       "13.0     0.003839\n",
       "11.0     0.003005\n",
       "15.0     0.002704\n",
       "14.0     0.002237\n",
       "12.0     0.002170\n",
       "16.0     0.000901\n",
       "18.0     0.000701\n",
       "19.0     0.000534\n",
       "17.0     0.000467\n",
       "20.0     0.000367\n",
       "23.0     0.000334\n",
       "24.0     0.000334\n",
       "25.0     0.000334\n",
       "28.0     0.000334\n",
       "27.0     0.000300\n",
       "21.0     0.000234\n",
       "26.0     0.000234\n",
       "35.0     0.000234\n",
       "346.0    0.000200\n",
       "46.0     0.000167\n",
       "29.0     0.000134\n",
       "51.0     0.000134\n",
       "42.0     0.000134\n",
       "31.0     0.000134\n",
       "127.0    0.000100\n",
       "30.0     0.000100\n",
       "134.0    0.000067\n",
       "32.0     0.000067\n",
       "49.0     0.000067\n",
       "206.0    0.000067\n",
       "209.0    0.000067\n",
       "99.0     0.000067\n",
       "390.0    0.000033\n",
       "57.0     0.000033\n",
       "64.0     0.000033\n",
       "74.0     0.000033\n",
       "22.0     0.000033\n",
       "37.0     0.000033\n",
       "50.0     0.000033\n",
       "45.0     0.000033\n",
       "48.0     0.000033\n",
       "34.0     0.000033\n",
       "136.0    0.000033\n",
       "Name: count_payment_code_month, dtype: float64"
      ]
     },
     "execution_count": 55,
     "metadata": {},
     "output_type": "execute_result"
    }
   ],
   "source": [
    "df['count_payment_code_month'].fillna(statistics.mode(df['count_payment_code_month']), inplace= True)\n",
    "df['count_payment_code_month'].value_counts(normalize = True)\n",
    "#Tỉ lệ 0.0 tăng từ 41.04 lên 47.87%"
   ]
  },
  {
   "cell_type": "code",
   "execution_count": 56,
   "id": "75b954f3",
   "metadata": {},
   "outputs": [
    {
     "data": {
      "text/plain": [
       "0     0.321982\n",
       "1     0.098624\n",
       "2     0.069578\n",
       "3     0.062700\n",
       "4     0.059762\n",
       "        ...   \n",
       "52    0.000033\n",
       "63    0.000033\n",
       "54    0.000033\n",
       "73    0.000033\n",
       "71    0.000033\n",
       "Name: count_payment_code_3month, Length: 87, dtype: float64"
      ]
     },
     "execution_count": 56,
     "metadata": {},
     "output_type": "execute_result"
    }
   ],
   "source": [
    "df['count_payment_code_3month'].value_counts(normalize = True)"
   ]
  },
  {
   "cell_type": "code",
   "execution_count": 57,
   "id": "def5d273",
   "metadata": {},
   "outputs": [
    {
     "data": {
      "text/plain": [
       "0     0.321982\n",
       "1     0.098624\n",
       "2     0.069578\n",
       "3     0.062700\n",
       "4     0.059762\n",
       "        ...   \n",
       "52    0.000033\n",
       "63    0.000033\n",
       "54    0.000033\n",
       "73    0.000033\n",
       "71    0.000033\n",
       "Name: count_payment_code_3month, Length: 87, dtype: float64"
      ]
     },
     "execution_count": 57,
     "metadata": {},
     "output_type": "execute_result"
    }
   ],
   "source": [
    "df['count_payment_code_3month'].fillna(statistics.mode(df['count_payment_code_3month']), inplace= True)\n",
    "df['count_payment_code_3month'].value_counts(normalize = True)\n",
    "#Tỉ lệ 0 giữ nguyên với giá trị 32.19% (chứng tỏ %NaN = 0)"
   ]
  },
  {
   "cell_type": "code",
   "execution_count": 58,
   "id": "0f885546",
   "metadata": {},
   "outputs": [
    {
     "data": {
      "text/plain": [
       "1.0      0.173751\n",
       "2.0      0.122723\n",
       "3.0      0.095015\n",
       "4.0      0.067970\n",
       "6.0      0.051130\n",
       "           ...   \n",
       "182.0    0.000051\n",
       "64.0     0.000051\n",
       "99.0     0.000051\n",
       "108.0    0.000051\n",
       "111.0    0.000051\n",
       "Name: distinct_ref_no_week, Length: 102, dtype: float64"
      ]
     },
     "execution_count": 58,
     "metadata": {},
     "output_type": "execute_result"
    }
   ],
   "source": [
    "df['distinct_ref_no_week'].value_counts(normalize= True)"
   ]
  },
  {
   "cell_type": "code",
   "execution_count": 59,
   "id": "ed4bd739",
   "metadata": {
    "scrolled": true
   },
   "outputs": [
    {
     "data": {
      "text/plain": [
       "1.0      0.459402\n",
       "2.0      0.080295\n",
       "3.0      0.062166\n",
       "4.0      0.044471\n",
       "6.0      0.033454\n",
       "           ...   \n",
       "182.0    0.000033\n",
       "64.0     0.000033\n",
       "99.0     0.000033\n",
       "108.0    0.000033\n",
       "111.0    0.000033\n",
       "Name: distinct_ref_no_week, Length: 102, dtype: float64"
      ]
     },
     "execution_count": 59,
     "metadata": {},
     "output_type": "execute_result"
    }
   ],
   "source": [
    "df[\"distinct_ref_no_week\"].fillna(statistics.mode(df['distinct_ref_no_week']), inplace = True)\n",
    "df['distinct_ref_no_week'].value_counts(normalize= True)\n",
    "#Tỷ lệ 1.0 tăng lên 45.94% từ 17.38%, nên chú ý!"
   ]
  },
  {
   "cell_type": "code",
   "execution_count": 60,
   "id": "fc64e8ad",
   "metadata": {},
   "outputs": [
    {
     "data": {
      "text/plain": [
       "1.0      0.086546\n",
       "2.0      0.063663\n",
       "3.0      0.046294\n",
       "4.0      0.041536\n",
       "5.0      0.034550\n",
       "           ...   \n",
       "207.0    0.000038\n",
       "748.0    0.000038\n",
       "610.0    0.000038\n",
       "209.0    0.000038\n",
       "458.0    0.000038\n",
       "Name: distinct_ref_no_month, Length: 258, dtype: float64"
      ]
     },
     "execution_count": 60,
     "metadata": {},
     "output_type": "execute_result"
    }
   ],
   "source": [
    "df['distinct_ref_no_month'].value_counts(normalize= True)"
   ]
  },
  {
   "cell_type": "code",
   "execution_count": 61,
   "id": "8bc6125f",
   "metadata": {},
   "outputs": [
    {
     "data": {
      "text/plain": [
       "1.0      0.192341\n",
       "2.0      0.056290\n",
       "3.0      0.040932\n",
       "4.0      0.036725\n",
       "5.0      0.030549\n",
       "           ...   \n",
       "207.0    0.000033\n",
       "748.0    0.000033\n",
       "610.0    0.000033\n",
       "209.0    0.000033\n",
       "458.0    0.000033\n",
       "Name: distinct_ref_no_month, Length: 258, dtype: float64"
      ]
     },
     "execution_count": 61,
     "metadata": {},
     "output_type": "execute_result"
    }
   ],
   "source": [
    "df[\"distinct_ref_no_month\"].fillna(statistics.mode(df['distinct_ref_no_month']), inplace = True)\n",
    "df['distinct_ref_no_month'].value_counts(normalize= True)\n",
    "#Chú ý: tỉ lệ 1.0 tăng từ 8.65% lên 19.23%"
   ]
  },
  {
   "cell_type": "code",
   "execution_count": 62,
   "id": "ad558935",
   "metadata": {
    "scrolled": true
   },
   "outputs": [
    {
     "data": {
      "text/plain": [
       "1       0.053920\n",
       "2       0.036993\n",
       "3       0.032886\n",
       "5       0.026676\n",
       "4       0.024907\n",
       "          ...   \n",
       "497     0.000033\n",
       "1108    0.000033\n",
       "942     0.000033\n",
       "472     0.000033\n",
       "404     0.000033\n",
       "Name: distinct_ref_no_3month, Length: 489, dtype: float64"
      ]
     },
     "execution_count": 62,
     "metadata": {},
     "output_type": "execute_result"
    }
   ],
   "source": [
    "df['distinct_ref_no_3month'].value_counts(normalize= True)"
   ]
  },
  {
   "cell_type": "code",
   "execution_count": 63,
   "id": "16fac5cd",
   "metadata": {},
   "outputs": [
    {
     "data": {
      "text/plain": [
       "1       0.053920\n",
       "2       0.036993\n",
       "3       0.032886\n",
       "5       0.026676\n",
       "4       0.024907\n",
       "          ...   \n",
       "497     0.000033\n",
       "1108    0.000033\n",
       "942     0.000033\n",
       "472     0.000033\n",
       "404     0.000033\n",
       "Name: distinct_ref_no_3month, Length: 489, dtype: float64"
      ]
     },
     "execution_count": 63,
     "metadata": {},
     "output_type": "execute_result"
    }
   ],
   "source": [
    "df[\"distinct_ref_no_3month\"].fillna(statistics.mode(df['distinct_ref_no_3month']), inplace = True)\n",
    "df['distinct_ref_no_3month'].value_counts(normalize= True)\n",
    "#tỉ lệ có 1 người nhận giao dịch không đổi, chứng tỏ NaN = 0"
   ]
  },
  {
   "cell_type": "markdown",
   "id": "2c4b5bd7",
   "metadata": {},
   "source": [
    "e. Xử lý các cột còn lại với KNN Imputer"
   ]
  },
  {
   "cell_type": "code",
   "execution_count": 64,
   "id": "f8d608e2",
   "metadata": {},
   "outputs": [
    {
     "data": {
      "text/html": [
       "<div>\n",
       "<style scoped>\n",
       "    .dataframe tbody tr th:only-of-type {\n",
       "        vertical-align: middle;\n",
       "    }\n",
       "\n",
       "    .dataframe tbody tr th {\n",
       "        vertical-align: top;\n",
       "    }\n",
       "\n",
       "    .dataframe thead th {\n",
       "        text-align: right;\n",
       "    }\n",
       "</style>\n",
       "<table border=\"1\" class=\"dataframe\">\n",
       "  <thead>\n",
       "    <tr style=\"text-align: right;\">\n",
       "      <th></th>\n",
       "      <th>index</th>\n",
       "      <th>local_ref_1</th>\n",
       "      <th>vn_marital_status</th>\n",
       "      <th>resid_province</th>\n",
       "      <th>resid_district</th>\n",
       "      <th>resid_wards</th>\n",
       "      <th>birth_incorp_date</th>\n",
       "      <th>amount_week</th>\n",
       "      <th>max_amount_week</th>\n",
       "      <th>min_amount_week</th>\n",
       "      <th>...</th>\n",
       "      <th>balanceJuin2021</th>\n",
       "      <th>nominal_interestJuin2021</th>\n",
       "      <th>real_interestJuin2021</th>\n",
       "      <th>nhomno_xhtdJuin2021</th>\n",
       "      <th>categoryJuin2021</th>\n",
       "      <th>sub_productJuin2021</th>\n",
       "      <th>loaikyhanJuin2021</th>\n",
       "      <th>sectorJuin2021</th>\n",
       "      <th>product_codeJuin2021</th>\n",
       "      <th>birth_incorp_age</th>\n",
       "    </tr>\n",
       "  </thead>\n",
       "  <tbody>\n",
       "    <tr>\n",
       "      <th>0</th>\n",
       "      <td>1</td>\n",
       "      <td>MALE</td>\n",
       "      <td>Single</td>\n",
       "      <td>79.0</td>\n",
       "      <td>769.0</td>\n",
       "      <td>27097.0</td>\n",
       "      <td>1986.0</td>\n",
       "      <td>NaN</td>\n",
       "      <td>NaN</td>\n",
       "      <td>NaN</td>\n",
       "      <td>...</td>\n",
       "      <td>0.003666</td>\n",
       "      <td>0.006953</td>\n",
       "      <td>0.004128</td>\n",
       "      <td>1.0</td>\n",
       "      <td>21061.0</td>\n",
       "      <td>365.0</td>\n",
       "      <td>DH</td>\n",
       "      <td>1890.0</td>\n",
       "      <td>22321.0</td>\n",
       "      <td>37.0</td>\n",
       "    </tr>\n",
       "    <tr>\n",
       "      <th>1</th>\n",
       "      <td>7</td>\n",
       "      <td>MALE</td>\n",
       "      <td>Married</td>\n",
       "      <td>38.0</td>\n",
       "      <td>394.0</td>\n",
       "      <td>15436.0</td>\n",
       "      <td>1992.0</td>\n",
       "      <td>0.0</td>\n",
       "      <td>0.000476</td>\n",
       "      <td>0.000011</td>\n",
       "      <td>...</td>\n",
       "      <td>0.000139</td>\n",
       "      <td>0.000456</td>\n",
       "      <td>0.000000</td>\n",
       "      <td>1.0</td>\n",
       "      <td>1005.0</td>\n",
       "      <td>379.0</td>\n",
       "      <td>NH</td>\n",
       "      <td>1740.0</td>\n",
       "      <td>23311.0</td>\n",
       "      <td>31.0</td>\n",
       "    </tr>\n",
       "    <tr>\n",
       "      <th>2</th>\n",
       "      <td>11</td>\n",
       "      <td>MALE</td>\n",
       "      <td>Married</td>\n",
       "      <td>64.0</td>\n",
       "      <td>632.0</td>\n",
       "      <td>23899.0</td>\n",
       "      <td>1987.0</td>\n",
       "      <td>NaN</td>\n",
       "      <td>NaN</td>\n",
       "      <td>NaN</td>\n",
       "      <td>...</td>\n",
       "      <td>0.012917</td>\n",
       "      <td>0.024721</td>\n",
       "      <td>0.014677</td>\n",
       "      <td>1.0</td>\n",
       "      <td>21063.0</td>\n",
       "      <td>330.0</td>\n",
       "      <td>DH</td>\n",
       "      <td>1889.0</td>\n",
       "      <td>22111.0</td>\n",
       "      <td>36.0</td>\n",
       "    </tr>\n",
       "    <tr>\n",
       "      <th>3</th>\n",
       "      <td>12</td>\n",
       "      <td>MALE</td>\n",
       "      <td>Single</td>\n",
       "      <td>56.0</td>\n",
       "      <td>568.0</td>\n",
       "      <td>22357.0</td>\n",
       "      <td>1996.0</td>\n",
       "      <td>0.0</td>\n",
       "      <td>0.000014</td>\n",
       "      <td>0.000079</td>\n",
       "      <td>...</td>\n",
       "      <td>0.000000</td>\n",
       "      <td>0.000000</td>\n",
       "      <td>0.000000</td>\n",
       "      <td>1.0</td>\n",
       "      <td>17001.0</td>\n",
       "      <td>NaN</td>\n",
       "      <td>NH</td>\n",
       "      <td>1740.0</td>\n",
       "      <td>26111.0</td>\n",
       "      <td>27.0</td>\n",
       "    </tr>\n",
       "    <tr>\n",
       "      <th>4</th>\n",
       "      <td>14</td>\n",
       "      <td>MALE</td>\n",
       "      <td>Married</td>\n",
       "      <td>1.0</td>\n",
       "      <td>5.0</td>\n",
       "      <td>166.0</td>\n",
       "      <td>1973.0</td>\n",
       "      <td>NaN</td>\n",
       "      <td>NaN</td>\n",
       "      <td>NaN</td>\n",
       "      <td>...</td>\n",
       "      <td>0.026599</td>\n",
       "      <td>0.049072</td>\n",
       "      <td>0.029538</td>\n",
       "      <td>1.0</td>\n",
       "      <td>21061.0</td>\n",
       "      <td>362.0</td>\n",
       "      <td>DH</td>\n",
       "      <td>1888.0</td>\n",
       "      <td>21311.0</td>\n",
       "      <td>50.0</td>\n",
       "    </tr>\n",
       "    <tr>\n",
       "      <th>...</th>\n",
       "      <td>...</td>\n",
       "      <td>...</td>\n",
       "      <td>...</td>\n",
       "      <td>...</td>\n",
       "      <td>...</td>\n",
       "      <td>...</td>\n",
       "      <td>...</td>\n",
       "      <td>...</td>\n",
       "      <td>...</td>\n",
       "      <td>...</td>\n",
       "      <td>...</td>\n",
       "      <td>...</td>\n",
       "      <td>...</td>\n",
       "      <td>...</td>\n",
       "      <td>...</td>\n",
       "      <td>...</td>\n",
       "      <td>...</td>\n",
       "      <td>...</td>\n",
       "      <td>...</td>\n",
       "      <td>...</td>\n",
       "      <td>...</td>\n",
       "    </tr>\n",
       "    <tr>\n",
       "      <th>29947</th>\n",
       "      <td>99850</td>\n",
       "      <td>MALE</td>\n",
       "      <td>Single</td>\n",
       "      <td>48.0</td>\n",
       "      <td>493.0</td>\n",
       "      <td>20263.0</td>\n",
       "      <td>1988.0</td>\n",
       "      <td>NaN</td>\n",
       "      <td>NaN</td>\n",
       "      <td>NaN</td>\n",
       "      <td>...</td>\n",
       "      <td>0.001271</td>\n",
       "      <td>0.003703</td>\n",
       "      <td>0.002198</td>\n",
       "      <td>1.0</td>\n",
       "      <td>21064.0</td>\n",
       "      <td>462.0</td>\n",
       "      <td>TH</td>\n",
       "      <td>1700.0</td>\n",
       "      <td>23231.0</td>\n",
       "      <td>35.0</td>\n",
       "    </tr>\n",
       "    <tr>\n",
       "      <th>29948</th>\n",
       "      <td>99853</td>\n",
       "      <td>FEMALE</td>\n",
       "      <td>Married</td>\n",
       "      <td>1.0</td>\n",
       "      <td>3.0</td>\n",
       "      <td>94.0</td>\n",
       "      <td>1992.0</td>\n",
       "      <td>NaN</td>\n",
       "      <td>NaN</td>\n",
       "      <td>NaN</td>\n",
       "      <td>...</td>\n",
       "      <td>0.000000</td>\n",
       "      <td>0.000000</td>\n",
       "      <td>0.000000</td>\n",
       "      <td>1.0</td>\n",
       "      <td>17001.0</td>\n",
       "      <td>NaN</td>\n",
       "      <td>NH</td>\n",
       "      <td>1891.0</td>\n",
       "      <td>26112.0</td>\n",
       "      <td>31.0</td>\n",
       "    </tr>\n",
       "    <tr>\n",
       "      <th>29949</th>\n",
       "      <td>99864</td>\n",
       "      <td>MALE</td>\n",
       "      <td>Single</td>\n",
       "      <td>84.0</td>\n",
       "      <td>845.0</td>\n",
       "      <td>29335.0</td>\n",
       "      <td>1991.0</td>\n",
       "      <td>NaN</td>\n",
       "      <td>NaN</td>\n",
       "      <td>NaN</td>\n",
       "      <td>...</td>\n",
       "      <td>0.020625</td>\n",
       "      <td>0.028805</td>\n",
       "      <td>0.017101</td>\n",
       "      <td>1.0</td>\n",
       "      <td>21061.0</td>\n",
       "      <td>365.0</td>\n",
       "      <td>DH</td>\n",
       "      <td>1891.0</td>\n",
       "      <td>22321.0</td>\n",
       "      <td>32.0</td>\n",
       "    </tr>\n",
       "    <tr>\n",
       "      <th>29950</th>\n",
       "      <td>99915</td>\n",
       "      <td>FEMALE</td>\n",
       "      <td>Married</td>\n",
       "      <td>89.0</td>\n",
       "      <td>883.0</td>\n",
       "      <td>30310.0</td>\n",
       "      <td>1985.0</td>\n",
       "      <td>NaN</td>\n",
       "      <td>NaN</td>\n",
       "      <td>NaN</td>\n",
       "      <td>...</td>\n",
       "      <td>0.000000</td>\n",
       "      <td>0.000000</td>\n",
       "      <td>0.000000</td>\n",
       "      <td>1.0</td>\n",
       "      <td>17001.0</td>\n",
       "      <td>NaN</td>\n",
       "      <td>NH</td>\n",
       "      <td>1700.0</td>\n",
       "      <td>26111.0</td>\n",
       "      <td>38.0</td>\n",
       "    </tr>\n",
       "    <tr>\n",
       "      <th>29951</th>\n",
       "      <td>99993</td>\n",
       "      <td>MALE</td>\n",
       "      <td>Married</td>\n",
       "      <td>79.0</td>\n",
       "      <td>778.0</td>\n",
       "      <td>27475.0</td>\n",
       "      <td>1989.0</td>\n",
       "      <td>0.0</td>\n",
       "      <td>0.001633</td>\n",
       "      <td>0.009083</td>\n",
       "      <td>...</td>\n",
       "      <td>0.002750</td>\n",
       "      <td>0.004267</td>\n",
       "      <td>0.002533</td>\n",
       "      <td>1.0</td>\n",
       "      <td>21061.0</td>\n",
       "      <td>365.0</td>\n",
       "      <td>DH</td>\n",
       "      <td>1700.0</td>\n",
       "      <td>22321.0</td>\n",
       "      <td>34.0</td>\n",
       "    </tr>\n",
       "  </tbody>\n",
       "</table>\n",
       "<p>29952 rows × 52 columns</p>\n",
       "</div>"
      ],
      "text/plain": [
       "       index local_ref_1 vn_marital_status  resid_province  resid_district  \\\n",
       "0          1        MALE            Single            79.0           769.0   \n",
       "1          7        MALE           Married            38.0           394.0   \n",
       "2         11        MALE           Married            64.0           632.0   \n",
       "3         12        MALE            Single            56.0           568.0   \n",
       "4         14        MALE           Married             1.0             5.0   \n",
       "...      ...         ...               ...             ...             ...   \n",
       "29947  99850        MALE            Single            48.0           493.0   \n",
       "29948  99853      FEMALE           Married             1.0             3.0   \n",
       "29949  99864        MALE            Single            84.0           845.0   \n",
       "29950  99915      FEMALE           Married            89.0           883.0   \n",
       "29951  99993        MALE           Married            79.0           778.0   \n",
       "\n",
       "       resid_wards  birth_incorp_date  amount_week  max_amount_week  \\\n",
       "0          27097.0             1986.0          NaN              NaN   \n",
       "1          15436.0             1992.0          0.0         0.000476   \n",
       "2          23899.0             1987.0          NaN              NaN   \n",
       "3          22357.0             1996.0          0.0         0.000014   \n",
       "4            166.0             1973.0          NaN              NaN   \n",
       "...            ...                ...          ...              ...   \n",
       "29947      20263.0             1988.0          NaN              NaN   \n",
       "29948         94.0             1992.0          NaN              NaN   \n",
       "29949      29335.0             1991.0          NaN              NaN   \n",
       "29950      30310.0             1985.0          NaN              NaN   \n",
       "29951      27475.0             1989.0          0.0         0.001633   \n",
       "\n",
       "       min_amount_week  ...  balanceJuin2021  nominal_interestJuin2021  \\\n",
       "0                  NaN  ...         0.003666                  0.006953   \n",
       "1             0.000011  ...         0.000139                  0.000456   \n",
       "2                  NaN  ...         0.012917                  0.024721   \n",
       "3             0.000079  ...         0.000000                  0.000000   \n",
       "4                  NaN  ...         0.026599                  0.049072   \n",
       "...                ...  ...              ...                       ...   \n",
       "29947              NaN  ...         0.001271                  0.003703   \n",
       "29948              NaN  ...         0.000000                  0.000000   \n",
       "29949              NaN  ...         0.020625                  0.028805   \n",
       "29950              NaN  ...         0.000000                  0.000000   \n",
       "29951         0.009083  ...         0.002750                  0.004267   \n",
       "\n",
       "       real_interestJuin2021  nhomno_xhtdJuin2021  categoryJuin2021  \\\n",
       "0                   0.004128                  1.0           21061.0   \n",
       "1                   0.000000                  1.0            1005.0   \n",
       "2                   0.014677                  1.0           21063.0   \n",
       "3                   0.000000                  1.0           17001.0   \n",
       "4                   0.029538                  1.0           21061.0   \n",
       "...                      ...                  ...               ...   \n",
       "29947               0.002198                  1.0           21064.0   \n",
       "29948               0.000000                  1.0           17001.0   \n",
       "29949               0.017101                  1.0           21061.0   \n",
       "29950               0.000000                  1.0           17001.0   \n",
       "29951               0.002533                  1.0           21061.0   \n",
       "\n",
       "       sub_productJuin2021  loaikyhanJuin2021  sectorJuin2021  \\\n",
       "0                    365.0                 DH          1890.0   \n",
       "1                    379.0                 NH          1740.0   \n",
       "2                    330.0                 DH          1889.0   \n",
       "3                      NaN                 NH          1740.0   \n",
       "4                    362.0                 DH          1888.0   \n",
       "...                    ...                ...             ...   \n",
       "29947                462.0                 TH          1700.0   \n",
       "29948                  NaN                 NH          1891.0   \n",
       "29949                365.0                 DH          1891.0   \n",
       "29950                  NaN                 NH          1700.0   \n",
       "29951                365.0                 DH          1700.0   \n",
       "\n",
       "       product_codeJuin2021  birth_incorp_age  \n",
       "0                   22321.0              37.0  \n",
       "1                   23311.0              31.0  \n",
       "2                   22111.0              36.0  \n",
       "3                   26111.0              27.0  \n",
       "4                   21311.0              50.0  \n",
       "...                     ...               ...  \n",
       "29947               23231.0              35.0  \n",
       "29948               26112.0              31.0  \n",
       "29949               22321.0              32.0  \n",
       "29950               26111.0              38.0  \n",
       "29951               22321.0              34.0  \n",
       "\n",
       "[29952 rows x 52 columns]"
      ]
     },
     "execution_count": 64,
     "metadata": {},
     "output_type": "execute_result"
    }
   ],
   "source": [
    "df2 = df.reset_index()\n",
    "df2"
   ]
  },
  {
   "cell_type": "code",
   "execution_count": 65,
   "id": "8fbe7533",
   "metadata": {},
   "outputs": [
    {
     "data": {
      "text/html": [
       "<style>#sk-container-id-1 {color: black;background-color: white;}#sk-container-id-1 pre{padding: 0;}#sk-container-id-1 div.sk-toggleable {background-color: white;}#sk-container-id-1 label.sk-toggleable__label {cursor: pointer;display: block;width: 100%;margin-bottom: 0;padding: 0.3em;box-sizing: border-box;text-align: center;}#sk-container-id-1 label.sk-toggleable__label-arrow:before {content: \"▸\";float: left;margin-right: 0.25em;color: #696969;}#sk-container-id-1 label.sk-toggleable__label-arrow:hover:before {color: black;}#sk-container-id-1 div.sk-estimator:hover label.sk-toggleable__label-arrow:before {color: black;}#sk-container-id-1 div.sk-toggleable__content {max-height: 0;max-width: 0;overflow: hidden;text-align: left;background-color: #f0f8ff;}#sk-container-id-1 div.sk-toggleable__content pre {margin: 0.2em;color: black;border-radius: 0.25em;background-color: #f0f8ff;}#sk-container-id-1 input.sk-toggleable__control:checked~div.sk-toggleable__content {max-height: 200px;max-width: 100%;overflow: auto;}#sk-container-id-1 input.sk-toggleable__control:checked~label.sk-toggleable__label-arrow:before {content: \"▾\";}#sk-container-id-1 div.sk-estimator input.sk-toggleable__control:checked~label.sk-toggleable__label {background-color: #d4ebff;}#sk-container-id-1 div.sk-label input.sk-toggleable__control:checked~label.sk-toggleable__label {background-color: #d4ebff;}#sk-container-id-1 input.sk-hidden--visually {border: 0;clip: rect(1px 1px 1px 1px);clip: rect(1px, 1px, 1px, 1px);height: 1px;margin: -1px;overflow: hidden;padding: 0;position: absolute;width: 1px;}#sk-container-id-1 div.sk-estimator {font-family: monospace;background-color: #f0f8ff;border: 1px dotted black;border-radius: 0.25em;box-sizing: border-box;margin-bottom: 0.5em;}#sk-container-id-1 div.sk-estimator:hover {background-color: #d4ebff;}#sk-container-id-1 div.sk-parallel-item::after {content: \"\";width: 100%;border-bottom: 1px solid gray;flex-grow: 1;}#sk-container-id-1 div.sk-label:hover label.sk-toggleable__label {background-color: #d4ebff;}#sk-container-id-1 div.sk-serial::before {content: \"\";position: absolute;border-left: 1px solid gray;box-sizing: border-box;top: 0;bottom: 0;left: 50%;z-index: 0;}#sk-container-id-1 div.sk-serial {display: flex;flex-direction: column;align-items: center;background-color: white;padding-right: 0.2em;padding-left: 0.2em;position: relative;}#sk-container-id-1 div.sk-item {position: relative;z-index: 1;}#sk-container-id-1 div.sk-parallel {display: flex;align-items: stretch;justify-content: center;background-color: white;position: relative;}#sk-container-id-1 div.sk-item::before, #sk-container-id-1 div.sk-parallel-item::before {content: \"\";position: absolute;border-left: 1px solid gray;box-sizing: border-box;top: 0;bottom: 0;left: 50%;z-index: -1;}#sk-container-id-1 div.sk-parallel-item {display: flex;flex-direction: column;z-index: 1;position: relative;background-color: white;}#sk-container-id-1 div.sk-parallel-item:first-child::after {align-self: flex-end;width: 50%;}#sk-container-id-1 div.sk-parallel-item:last-child::after {align-self: flex-start;width: 50%;}#sk-container-id-1 div.sk-parallel-item:only-child::after {width: 0;}#sk-container-id-1 div.sk-dashed-wrapped {border: 1px dashed gray;margin: 0 0.4em 0.5em 0.4em;box-sizing: border-box;padding-bottom: 0.4em;background-color: white;}#sk-container-id-1 div.sk-label label {font-family: monospace;font-weight: bold;display: inline-block;line-height: 1.2em;}#sk-container-id-1 div.sk-label-container {text-align: center;}#sk-container-id-1 div.sk-container {/* jupyter's `normalize.less` sets `[hidden] { display: none; }` but bootstrap.min.css set `[hidden] { display: none !important; }` so we also need the `!important` here to be able to override the default hidden behavior on the sphinx rendered scikit-learn.org. See: https://github.com/scikit-learn/scikit-learn/issues/21755 */display: inline-block !important;position: relative;}#sk-container-id-1 div.sk-text-repr-fallback {display: none;}</style><div id=\"sk-container-id-1\" class=\"sk-top-container\"><div class=\"sk-text-repr-fallback\"><pre>KNNImputer()</pre><b>In a Jupyter environment, please rerun this cell to show the HTML representation or trust the notebook. <br />On GitHub, the HTML representation is unable to render, please try loading this page with nbviewer.org.</b></div><div class=\"sk-container\" hidden><div class=\"sk-item\"><div class=\"sk-estimator sk-toggleable\"><input class=\"sk-toggleable__control sk-hidden--visually\" id=\"sk-estimator-id-1\" type=\"checkbox\" checked><label for=\"sk-estimator-id-1\" class=\"sk-toggleable__label sk-toggleable__label-arrow\">KNNImputer</label><div class=\"sk-toggleable__content\"><pre>KNNImputer()</pre></div></div></div></div></div>"
      ],
      "text/plain": [
       "KNNImputer()"
      ]
     },
     "execution_count": 65,
     "metadata": {},
     "output_type": "execute_result"
    }
   ],
   "source": [
    "df2_imputer = KNNImputer(n_neighbors=5)\n",
    "#df_imputer = KNNImputer(n_neighbors=5, weights='uniform', metric='nan_euclidean')\n",
    "df2_imputer"
   ]
  },
  {
   "cell_type": "code",
   "execution_count": 66,
   "id": "6bf5bd74",
   "metadata": {},
   "outputs": [],
   "source": [
    "df2_filled = df2_imputer.fit_transform(df2[['max_amount_week', 'max_amount_month', 'max_amount_3month',\n",
    "                                      'amount_week','amount_month','amount_3month',\n",
    "                                     'min_amount_week', 'min_amount_month', 'min_amount_3month']])"
   ]
  },
  {
   "cell_type": "code",
   "execution_count": 67,
   "id": "89e96307",
   "metadata": {},
   "outputs": [
    {
     "data": {
      "text/html": [
       "<div>\n",
       "<style scoped>\n",
       "    .dataframe tbody tr th:only-of-type {\n",
       "        vertical-align: middle;\n",
       "    }\n",
       "\n",
       "    .dataframe tbody tr th {\n",
       "        vertical-align: top;\n",
       "    }\n",
       "\n",
       "    .dataframe thead th {\n",
       "        text-align: right;\n",
       "    }\n",
       "</style>\n",
       "<table border=\"1\" class=\"dataframe\">\n",
       "  <thead>\n",
       "    <tr style=\"text-align: right;\">\n",
       "      <th></th>\n",
       "      <th>index</th>\n",
       "      <th>local_ref_1</th>\n",
       "      <th>vn_marital_status</th>\n",
       "      <th>resid_province</th>\n",
       "      <th>resid_district</th>\n",
       "      <th>resid_wards</th>\n",
       "      <th>birth_incorp_date</th>\n",
       "      <th>amount_week</th>\n",
       "      <th>max_amount_week</th>\n",
       "      <th>min_amount_week</th>\n",
       "      <th>...</th>\n",
       "      <th>balanceJuin2021</th>\n",
       "      <th>nominal_interestJuin2021</th>\n",
       "      <th>real_interestJuin2021</th>\n",
       "      <th>nhomno_xhtdJuin2021</th>\n",
       "      <th>categoryJuin2021</th>\n",
       "      <th>sub_productJuin2021</th>\n",
       "      <th>loaikyhanJuin2021</th>\n",
       "      <th>sectorJuin2021</th>\n",
       "      <th>product_codeJuin2021</th>\n",
       "      <th>birth_incorp_age</th>\n",
       "    </tr>\n",
       "  </thead>\n",
       "  <tbody>\n",
       "    <tr>\n",
       "      <th>0</th>\n",
       "      <td>1</td>\n",
       "      <td>MALE</td>\n",
       "      <td>Single</td>\n",
       "      <td>79.0</td>\n",
       "      <td>769.0</td>\n",
       "      <td>27097.0</td>\n",
       "      <td>1986.0</td>\n",
       "      <td>0.000000</td>\n",
       "      <td>0.000127</td>\n",
       "      <td>0.000706</td>\n",
       "      <td>...</td>\n",
       "      <td>0.003666</td>\n",
       "      <td>0.006953</td>\n",
       "      <td>0.004128</td>\n",
       "      <td>1.0</td>\n",
       "      <td>21061.0</td>\n",
       "      <td>365.0</td>\n",
       "      <td>DH</td>\n",
       "      <td>1890.0</td>\n",
       "      <td>22321.0</td>\n",
       "      <td>37.0</td>\n",
       "    </tr>\n",
       "    <tr>\n",
       "      <th>1</th>\n",
       "      <td>7</td>\n",
       "      <td>MALE</td>\n",
       "      <td>Married</td>\n",
       "      <td>38.0</td>\n",
       "      <td>394.0</td>\n",
       "      <td>15436.0</td>\n",
       "      <td>1992.0</td>\n",
       "      <td>0.000000</td>\n",
       "      <td>0.000476</td>\n",
       "      <td>0.000011</td>\n",
       "      <td>...</td>\n",
       "      <td>0.000139</td>\n",
       "      <td>0.000456</td>\n",
       "      <td>0.000000</td>\n",
       "      <td>1.0</td>\n",
       "      <td>1005.0</td>\n",
       "      <td>379.0</td>\n",
       "      <td>NH</td>\n",
       "      <td>1740.0</td>\n",
       "      <td>23311.0</td>\n",
       "      <td>31.0</td>\n",
       "    </tr>\n",
       "    <tr>\n",
       "      <th>2</th>\n",
       "      <td>11</td>\n",
       "      <td>MALE</td>\n",
       "      <td>Married</td>\n",
       "      <td>64.0</td>\n",
       "      <td>632.0</td>\n",
       "      <td>23899.0</td>\n",
       "      <td>1987.0</td>\n",
       "      <td>0.000000</td>\n",
       "      <td>0.000025</td>\n",
       "      <td>0.000029</td>\n",
       "      <td>...</td>\n",
       "      <td>0.012917</td>\n",
       "      <td>0.024721</td>\n",
       "      <td>0.014677</td>\n",
       "      <td>1.0</td>\n",
       "      <td>21063.0</td>\n",
       "      <td>330.0</td>\n",
       "      <td>DH</td>\n",
       "      <td>1889.0</td>\n",
       "      <td>22111.0</td>\n",
       "      <td>36.0</td>\n",
       "    </tr>\n",
       "    <tr>\n",
       "      <th>3</th>\n",
       "      <td>12</td>\n",
       "      <td>MALE</td>\n",
       "      <td>Single</td>\n",
       "      <td>56.0</td>\n",
       "      <td>568.0</td>\n",
       "      <td>22357.0</td>\n",
       "      <td>1996.0</td>\n",
       "      <td>0.000000</td>\n",
       "      <td>0.000014</td>\n",
       "      <td>0.000079</td>\n",
       "      <td>...</td>\n",
       "      <td>0.000000</td>\n",
       "      <td>0.000000</td>\n",
       "      <td>0.000000</td>\n",
       "      <td>1.0</td>\n",
       "      <td>17001.0</td>\n",
       "      <td>NaN</td>\n",
       "      <td>NH</td>\n",
       "      <td>1740.0</td>\n",
       "      <td>26111.0</td>\n",
       "      <td>27.0</td>\n",
       "    </tr>\n",
       "    <tr>\n",
       "      <th>4</th>\n",
       "      <td>14</td>\n",
       "      <td>MALE</td>\n",
       "      <td>Married</td>\n",
       "      <td>1.0</td>\n",
       "      <td>5.0</td>\n",
       "      <td>166.0</td>\n",
       "      <td>1973.0</td>\n",
       "      <td>0.000000</td>\n",
       "      <td>0.001293</td>\n",
       "      <td>0.006196</td>\n",
       "      <td>...</td>\n",
       "      <td>0.026599</td>\n",
       "      <td>0.049072</td>\n",
       "      <td>0.029538</td>\n",
       "      <td>1.0</td>\n",
       "      <td>21061.0</td>\n",
       "      <td>362.0</td>\n",
       "      <td>DH</td>\n",
       "      <td>1888.0</td>\n",
       "      <td>21311.0</td>\n",
       "      <td>50.0</td>\n",
       "    </tr>\n",
       "    <tr>\n",
       "      <th>...</th>\n",
       "      <td>...</td>\n",
       "      <td>...</td>\n",
       "      <td>...</td>\n",
       "      <td>...</td>\n",
       "      <td>...</td>\n",
       "      <td>...</td>\n",
       "      <td>...</td>\n",
       "      <td>...</td>\n",
       "      <td>...</td>\n",
       "      <td>...</td>\n",
       "      <td>...</td>\n",
       "      <td>...</td>\n",
       "      <td>...</td>\n",
       "      <td>...</td>\n",
       "      <td>...</td>\n",
       "      <td>...</td>\n",
       "      <td>...</td>\n",
       "      <td>...</td>\n",
       "      <td>...</td>\n",
       "      <td>...</td>\n",
       "      <td>...</td>\n",
       "    </tr>\n",
       "    <tr>\n",
       "      <th>29947</th>\n",
       "      <td>99850</td>\n",
       "      <td>MALE</td>\n",
       "      <td>Single</td>\n",
       "      <td>48.0</td>\n",
       "      <td>493.0</td>\n",
       "      <td>20263.0</td>\n",
       "      <td>1988.0</td>\n",
       "      <td>0.000000</td>\n",
       "      <td>0.000025</td>\n",
       "      <td>0.000109</td>\n",
       "      <td>...</td>\n",
       "      <td>0.001271</td>\n",
       "      <td>0.003703</td>\n",
       "      <td>0.002198</td>\n",
       "      <td>1.0</td>\n",
       "      <td>21064.0</td>\n",
       "      <td>462.0</td>\n",
       "      <td>TH</td>\n",
       "      <td>1700.0</td>\n",
       "      <td>23231.0</td>\n",
       "      <td>35.0</td>\n",
       "    </tr>\n",
       "    <tr>\n",
       "      <th>29948</th>\n",
       "      <td>99853</td>\n",
       "      <td>FEMALE</td>\n",
       "      <td>Married</td>\n",
       "      <td>1.0</td>\n",
       "      <td>3.0</td>\n",
       "      <td>94.0</td>\n",
       "      <td>1992.0</td>\n",
       "      <td>0.000000</td>\n",
       "      <td>0.000013</td>\n",
       "      <td>0.000073</td>\n",
       "      <td>...</td>\n",
       "      <td>0.000000</td>\n",
       "      <td>0.000000</td>\n",
       "      <td>0.000000</td>\n",
       "      <td>1.0</td>\n",
       "      <td>17001.0</td>\n",
       "      <td>NaN</td>\n",
       "      <td>NH</td>\n",
       "      <td>1891.0</td>\n",
       "      <td>26112.0</td>\n",
       "      <td>31.0</td>\n",
       "    </tr>\n",
       "    <tr>\n",
       "      <th>29949</th>\n",
       "      <td>99864</td>\n",
       "      <td>MALE</td>\n",
       "      <td>Single</td>\n",
       "      <td>84.0</td>\n",
       "      <td>845.0</td>\n",
       "      <td>29335.0</td>\n",
       "      <td>1991.0</td>\n",
       "      <td>0.000975</td>\n",
       "      <td>0.001842</td>\n",
       "      <td>0.000493</td>\n",
       "      <td>...</td>\n",
       "      <td>0.020625</td>\n",
       "      <td>0.028805</td>\n",
       "      <td>0.017101</td>\n",
       "      <td>1.0</td>\n",
       "      <td>21061.0</td>\n",
       "      <td>365.0</td>\n",
       "      <td>DH</td>\n",
       "      <td>1891.0</td>\n",
       "      <td>22321.0</td>\n",
       "      <td>32.0</td>\n",
       "    </tr>\n",
       "    <tr>\n",
       "      <th>29950</th>\n",
       "      <td>99915</td>\n",
       "      <td>FEMALE</td>\n",
       "      <td>Married</td>\n",
       "      <td>89.0</td>\n",
       "      <td>883.0</td>\n",
       "      <td>30310.0</td>\n",
       "      <td>1985.0</td>\n",
       "      <td>0.000000</td>\n",
       "      <td>0.000041</td>\n",
       "      <td>0.000224</td>\n",
       "      <td>...</td>\n",
       "      <td>0.000000</td>\n",
       "      <td>0.000000</td>\n",
       "      <td>0.000000</td>\n",
       "      <td>1.0</td>\n",
       "      <td>17001.0</td>\n",
       "      <td>NaN</td>\n",
       "      <td>NH</td>\n",
       "      <td>1700.0</td>\n",
       "      <td>26111.0</td>\n",
       "      <td>38.0</td>\n",
       "    </tr>\n",
       "    <tr>\n",
       "      <th>29951</th>\n",
       "      <td>99993</td>\n",
       "      <td>MALE</td>\n",
       "      <td>Married</td>\n",
       "      <td>79.0</td>\n",
       "      <td>778.0</td>\n",
       "      <td>27475.0</td>\n",
       "      <td>1989.0</td>\n",
       "      <td>0.000000</td>\n",
       "      <td>0.001633</td>\n",
       "      <td>0.009083</td>\n",
       "      <td>...</td>\n",
       "      <td>0.002750</td>\n",
       "      <td>0.004267</td>\n",
       "      <td>0.002533</td>\n",
       "      <td>1.0</td>\n",
       "      <td>21061.0</td>\n",
       "      <td>365.0</td>\n",
       "      <td>DH</td>\n",
       "      <td>1700.0</td>\n",
       "      <td>22321.0</td>\n",
       "      <td>34.0</td>\n",
       "    </tr>\n",
       "  </tbody>\n",
       "</table>\n",
       "<p>29952 rows × 52 columns</p>\n",
       "</div>"
      ],
      "text/plain": [
       "       index local_ref_1 vn_marital_status  resid_province  resid_district  \\\n",
       "0          1        MALE            Single            79.0           769.0   \n",
       "1          7        MALE           Married            38.0           394.0   \n",
       "2         11        MALE           Married            64.0           632.0   \n",
       "3         12        MALE            Single            56.0           568.0   \n",
       "4         14        MALE           Married             1.0             5.0   \n",
       "...      ...         ...               ...             ...             ...   \n",
       "29947  99850        MALE            Single            48.0           493.0   \n",
       "29948  99853      FEMALE           Married             1.0             3.0   \n",
       "29949  99864        MALE            Single            84.0           845.0   \n",
       "29950  99915      FEMALE           Married            89.0           883.0   \n",
       "29951  99993        MALE           Married            79.0           778.0   \n",
       "\n",
       "       resid_wards  birth_incorp_date  amount_week  max_amount_week  \\\n",
       "0          27097.0             1986.0     0.000000         0.000127   \n",
       "1          15436.0             1992.0     0.000000         0.000476   \n",
       "2          23899.0             1987.0     0.000000         0.000025   \n",
       "3          22357.0             1996.0     0.000000         0.000014   \n",
       "4            166.0             1973.0     0.000000         0.001293   \n",
       "...            ...                ...          ...              ...   \n",
       "29947      20263.0             1988.0     0.000000         0.000025   \n",
       "29948         94.0             1992.0     0.000000         0.000013   \n",
       "29949      29335.0             1991.0     0.000975         0.001842   \n",
       "29950      30310.0             1985.0     0.000000         0.000041   \n",
       "29951      27475.0             1989.0     0.000000         0.001633   \n",
       "\n",
       "       min_amount_week  ...  balanceJuin2021  nominal_interestJuin2021  \\\n",
       "0             0.000706  ...         0.003666                  0.006953   \n",
       "1             0.000011  ...         0.000139                  0.000456   \n",
       "2             0.000029  ...         0.012917                  0.024721   \n",
       "3             0.000079  ...         0.000000                  0.000000   \n",
       "4             0.006196  ...         0.026599                  0.049072   \n",
       "...                ...  ...              ...                       ...   \n",
       "29947         0.000109  ...         0.001271                  0.003703   \n",
       "29948         0.000073  ...         0.000000                  0.000000   \n",
       "29949         0.000493  ...         0.020625                  0.028805   \n",
       "29950         0.000224  ...         0.000000                  0.000000   \n",
       "29951         0.009083  ...         0.002750                  0.004267   \n",
       "\n",
       "       real_interestJuin2021  nhomno_xhtdJuin2021  categoryJuin2021  \\\n",
       "0                   0.004128                  1.0           21061.0   \n",
       "1                   0.000000                  1.0            1005.0   \n",
       "2                   0.014677                  1.0           21063.0   \n",
       "3                   0.000000                  1.0           17001.0   \n",
       "4                   0.029538                  1.0           21061.0   \n",
       "...                      ...                  ...               ...   \n",
       "29947               0.002198                  1.0           21064.0   \n",
       "29948               0.000000                  1.0           17001.0   \n",
       "29949               0.017101                  1.0           21061.0   \n",
       "29950               0.000000                  1.0           17001.0   \n",
       "29951               0.002533                  1.0           21061.0   \n",
       "\n",
       "       sub_productJuin2021  loaikyhanJuin2021  sectorJuin2021  \\\n",
       "0                    365.0                 DH          1890.0   \n",
       "1                    379.0                 NH          1740.0   \n",
       "2                    330.0                 DH          1889.0   \n",
       "3                      NaN                 NH          1740.0   \n",
       "4                    362.0                 DH          1888.0   \n",
       "...                    ...                ...             ...   \n",
       "29947                462.0                 TH          1700.0   \n",
       "29948                  NaN                 NH          1891.0   \n",
       "29949                365.0                 DH          1891.0   \n",
       "29950                  NaN                 NH          1700.0   \n",
       "29951                365.0                 DH          1700.0   \n",
       "\n",
       "       product_codeJuin2021  birth_incorp_age  \n",
       "0                   22321.0              37.0  \n",
       "1                   23311.0              31.0  \n",
       "2                   22111.0              36.0  \n",
       "3                   26111.0              27.0  \n",
       "4                   21311.0              50.0  \n",
       "...                     ...               ...  \n",
       "29947               23231.0              35.0  \n",
       "29948               26112.0              31.0  \n",
       "29949               22321.0              32.0  \n",
       "29950               26111.0              38.0  \n",
       "29951               22321.0              34.0  \n",
       "\n",
       "[29952 rows x 52 columns]"
      ]
     },
     "execution_count": 67,
     "metadata": {},
     "output_type": "execute_result"
    }
   ],
   "source": [
    "df2['max_amount_week']=df2_filled[:,0]\n",
    "df2['max_amount_month']=df2_filled[:,1]\n",
    "df2['max_amount_3month']=df2_filled[:,2]\n",
    "df2['amount_week']=df2_filled[:,3]\n",
    "df2['amount_month']=df2_filled[:,4]\n",
    "df2['amount_3month']=df2_filled[:,5]\n",
    "df2['min_amount_week']=df2_filled[:,6]\n",
    "df2['min_amount_month']=df2_filled[:,7]\n",
    "df2['min_amount_3month']=df2_filled[:,8]\n",
    "\n",
    "df2"
   ]
  },
  {
   "cell_type": "markdown",
   "id": "62983225",
   "metadata": {},
   "source": [
    "# 2. EDA"
   ]
  },
  {
   "cell_type": "markdown",
   "id": "4f17e0b5",
   "metadata": {},
   "source": [
    "## Initial Guess: (Dự đoán)\n",
    "\n",
    "(1) Higher max amount per week/month/3 months --> Better debt group\n",
    "\n",
    "(2) Higher total amount per week/month/3 months --> Better debt group\n",
    "\n",
    "(3) Higher amount over time --> Better debt group "
   ]
  },
  {
   "cell_type": "code",
   "execution_count": 68,
   "id": "412dfa56",
   "metadata": {},
   "outputs": [
    {
     "data": {
      "text/plain": [
       "<AxesSubplot:xlabel='index', ylabel='nhomno_xhtdJuin2021'>"
      ]
     },
     "execution_count": 68,
     "metadata": {},
     "output_type": "execute_result"
    },
    {
     "data": {
      "image/png": "[encoded data removed]",
      "text/plain": [
       "<Figure size 432x288 with 1 Axes>"
      ]
     },
     "metadata": {
      "needs_background": "light"
     },
     "output_type": "display_data"
    }
   ],
   "source": [
    "sns.barplot(data=df2['nhomno_xhtdJuin2021'].value_counts().reset_index(), x='index', y='nhomno_xhtdJuin2021')"
   ]
  },
  {
   "cell_type": "code",
   "execution_count": 69,
   "id": "a70dd6b0",
   "metadata": {},
   "outputs": [],
   "source": [
    "df2 = df.reset_index()"
   ]
  },
  {
   "cell_type": "code",
   "execution_count": 70,
   "id": "40aff8de",
   "metadata": {
    "scrolled": true
   },
   "outputs": [
    {
     "name": "stdout",
     "output_type": "stream",
     "text": [
      "<class 'pandas.core.frame.DataFrame'>\n",
      "RangeIndex: 29952 entries, 0 to 29951\n",
      "Data columns (total 52 columns):\n",
      " #   Column                        Non-Null Count  Dtype  \n",
      "---  ------                        --------------  -----  \n",
      " 0   index                         29952 non-null  int64  \n",
      " 1   local_ref_1                   29952 non-null  object \n",
      " 2   vn_marital_status             29952 non-null  object \n",
      " 3   resid_province                29952 non-null  float64\n",
      " 4   resid_district                29952 non-null  float64\n",
      " 5   resid_wards                   27511 non-null  float64\n",
      " 6   birth_incorp_date             29951 non-null  float64\n",
      " 7   amount_week                   19224 non-null  float64\n",
      " 8   max_amount_week               19224 non-null  float64\n",
      " 9   min_amount_week               19224 non-null  float64\n",
      " 10  distinct_payment_code_week    29952 non-null  float64\n",
      " 11  count_payment_code_week       29952 non-null  float64\n",
      " 12  distinct_trans_group_week     19597 non-null  float64\n",
      " 13  distinct_ref_no_week          29952 non-null  float64\n",
      " 14  amount_month                  25844 non-null  float64\n",
      " 15  max_amount_month              25844 non-null  float64\n",
      " 16  min_amount_month              25844 non-null  float64\n",
      " 17  distinct_payment_code_month   29952 non-null  float64\n",
      " 18  count_payment_code_month      29952 non-null  float64\n",
      " 19  distinct_trans_group_month    26483 non-null  float64\n",
      " 20  distinct_ref_no_month         29952 non-null  float64\n",
      " 21  amount_3month                 28908 non-null  float64\n",
      " 22  max_amount_3month             28908 non-null  float64\n",
      " 23  min_amount_3month             28908 non-null  float64\n",
      " 24  distinct_payment_code_3month  29952 non-null  int64  \n",
      " 25  count_payment_code_3month     29952 non-null  int64  \n",
      " 26  distinct_trans_group_3month   29952 non-null  int64  \n",
      " 27  distinct_ref_no_3month        29952 non-null  int64  \n",
      " 28  most_act_mar2021_count        24176 non-null  float64\n",
      " 29  most_act_mar2021              24175 non-null  object \n",
      " 30  total_act_mar2021             24176 non-null  float64\n",
      " 31  total_amt_mar2021             23979 non-null  float64\n",
      " 32  most_act_juin2021_count       22817 non-null  float64\n",
      " 33  most_act_juin2021             22815 non-null  object \n",
      " 34  total_act_juin2021            22817 non-null  float64\n",
      " 35  total_amt_juin2021            22569 non-null  float64\n",
      " 36  rd_id                         29952 non-null  int64  \n",
      " 37  savingValueMar2021_heoSo      2118 non-null   float64\n",
      " 38  savingValueJuin2021_heoSo     2780 non-null   float64\n",
      " 39  totalLoginMar2021_heoSo       2873 non-null   float64\n",
      " 40  totalLoginJuin2021_heoSo      2912 non-null   float64\n",
      " 41  totalSavings2021_heoSo        2913 non-null   float64\n",
      " 42  balanceJuin2021               29952 non-null  float64\n",
      " 43  nominal_interestJuin2021      29952 non-null  float64\n",
      " 44  real_interestJuin2021         29952 non-null  float64\n",
      " 45  nhomno_xhtdJuin2021           29952 non-null  float64\n",
      " 46  categoryJuin2021              29952 non-null  float64\n",
      " 47  sub_productJuin2021           20747 non-null  float64\n",
      " 48  loaikyhanJuin2021             29952 non-null  object \n",
      " 49  sectorJuin2021                29952 non-null  float64\n",
      " 50  product_codeJuin2021          29952 non-null  float64\n",
      " 51  birth_incorp_age              29951 non-null  float64\n",
      "dtypes: float64(41), int64(6), object(5)\n",
      "memory usage: 11.9+ MB\n"
     ]
    }
   ],
   "source": [
    "df2.info()"
   ]
  },
  {
   "cell_type": "markdown",
   "id": "2cfccf0e",
   "metadata": {},
   "source": [
    "## a. Demographics"
   ]
  },
  {
   "cell_type": "code",
   "execution_count": 71,
   "id": "0dea45fa",
   "metadata": {},
   "outputs": [
    {
     "data": {
      "text/html": [
       "<div>\n",
       "<style scoped>\n",
       "    .dataframe tbody tr th:only-of-type {\n",
       "        vertical-align: middle;\n",
       "    }\n",
       "\n",
       "    .dataframe tbody tr th {\n",
       "        vertical-align: top;\n",
       "    }\n",
       "\n",
       "    .dataframe thead th {\n",
       "        text-align: right;\n",
       "    }\n",
       "</style>\n",
       "<table border=\"1\" class=\"dataframe\">\n",
       "  <thead>\n",
       "    <tr style=\"text-align: right;\">\n",
       "      <th></th>\n",
       "      <th>nhomno_xhtdJuin2021</th>\n",
       "      <th>index</th>\n",
       "      <th>sub_productJuin2021</th>\n",
       "      <th>product_codeJuin2021</th>\n",
       "      <th>min_amount_3month</th>\n",
       "      <th>categoryJuin2021</th>\n",
       "      <th>birth_incorp_date</th>\n",
       "      <th>rd_id</th>\n",
       "      <th>min_amount_month</th>\n",
       "      <th>count_payment_code_week</th>\n",
       "      <th>...</th>\n",
       "      <th>max_amount_3month</th>\n",
       "      <th>distinct_ref_no_week</th>\n",
       "      <th>most_act_juin2021_count</th>\n",
       "      <th>sectorJuin2021</th>\n",
       "      <th>distinct_trans_group_week</th>\n",
       "      <th>total_act_juin2021</th>\n",
       "      <th>distinct_payment_code_3month</th>\n",
       "      <th>distinct_payment_code_month</th>\n",
       "      <th>distinct_trans_group_month</th>\n",
       "      <th>distinct_trans_group_3month</th>\n",
       "    </tr>\n",
       "  </thead>\n",
       "  <tbody>\n",
       "    <tr>\n",
       "      <th>nhomno_xhtdJuin2021</th>\n",
       "      <td>1.0</td>\n",
       "      <td>0.483659</td>\n",
       "      <td>0.15434</td>\n",
       "      <td>0.094618</td>\n",
       "      <td>0.075869</td>\n",
       "      <td>0.046361</td>\n",
       "      <td>0.018836</td>\n",
       "      <td>-0.000033</td>\n",
       "      <td>-0.002449</td>\n",
       "      <td>-0.006108</td>\n",
       "      <td>...</td>\n",
       "      <td>-0.130005</td>\n",
       "      <td>-0.14495</td>\n",
       "      <td>-0.146146</td>\n",
       "      <td>-0.146166</td>\n",
       "      <td>-0.151838</td>\n",
       "      <td>-0.173725</td>\n",
       "      <td>-0.206207</td>\n",
       "      <td>-0.224571</td>\n",
       "      <td>-0.252204</td>\n",
       "      <td>-0.272586</td>\n",
       "    </tr>\n",
       "  </tbody>\n",
       "</table>\n",
       "<p>1 rows × 47 columns</p>\n",
       "</div>"
      ],
      "text/plain": [
       "                     nhomno_xhtdJuin2021     index  sub_productJuin2021  \\\n",
       "nhomno_xhtdJuin2021                  1.0  0.483659              0.15434   \n",
       "\n",
       "                     product_codeJuin2021  min_amount_3month  \\\n",
       "nhomno_xhtdJuin2021              0.094618           0.075869   \n",
       "\n",
       "                     categoryJuin2021  birth_incorp_date     rd_id  \\\n",
       "nhomno_xhtdJuin2021          0.046361           0.018836 -0.000033   \n",
       "\n",
       "                     min_amount_month  count_payment_code_week  ...  \\\n",
       "nhomno_xhtdJuin2021         -0.002449                -0.006108  ...   \n",
       "\n",
       "                     max_amount_3month  distinct_ref_no_week  \\\n",
       "nhomno_xhtdJuin2021          -0.130005              -0.14495   \n",
       "\n",
       "                     most_act_juin2021_count  sectorJuin2021  \\\n",
       "nhomno_xhtdJuin2021                -0.146146       -0.146166   \n",
       "\n",
       "                     distinct_trans_group_week  total_act_juin2021  \\\n",
       "nhomno_xhtdJuin2021                  -0.151838           -0.173725   \n",
       "\n",
       "                     distinct_payment_code_3month  \\\n",
       "nhomno_xhtdJuin2021                     -0.206207   \n",
       "\n",
       "                     distinct_payment_code_month  distinct_trans_group_month  \\\n",
       "nhomno_xhtdJuin2021                    -0.224571                   -0.252204   \n",
       "\n",
       "                     distinct_trans_group_3month  \n",
       "nhomno_xhtdJuin2021                    -0.272586  \n",
       "\n",
       "[1 rows x 47 columns]"
      ]
     },
     "execution_count": 71,
     "metadata": {},
     "output_type": "execute_result"
    }
   ],
   "source": [
    "df2.corr().loc['nhomno_xhtdJuin2021'].to_frame().sort_values(by='nhomno_xhtdJuin2021', ascending=False).T"
   ]
  },
  {
   "cell_type": "code",
   "execution_count": 72,
   "id": "3a4754b8",
   "metadata": {},
   "outputs": [
    {
     "data": {
      "text/html": [
       "<div>\n",
       "<style scoped>\n",
       "    .dataframe tbody tr th:only-of-type {\n",
       "        vertical-align: middle;\n",
       "    }\n",
       "\n",
       "    .dataframe tbody tr th {\n",
       "        vertical-align: top;\n",
       "    }\n",
       "\n",
       "    .dataframe thead th {\n",
       "        text-align: right;\n",
       "    }\n",
       "</style>\n",
       "<table border=\"1\" class=\"dataframe\">\n",
       "  <thead>\n",
       "    <tr style=\"text-align: right;\">\n",
       "      <th></th>\n",
       "      <th>index</th>\n",
       "      <th>resid_province</th>\n",
       "      <th>resid_district</th>\n",
       "      <th>resid_wards</th>\n",
       "      <th>birth_incorp_date</th>\n",
       "      <th>amount_week</th>\n",
       "      <th>max_amount_week</th>\n",
       "      <th>min_amount_week</th>\n",
       "      <th>distinct_payment_code_week</th>\n",
       "      <th>count_payment_code_week</th>\n",
       "      <th>...</th>\n",
       "      <th>totalLoginJuin2021_heoSo</th>\n",
       "      <th>totalSavings2021_heoSo</th>\n",
       "      <th>balanceJuin2021</th>\n",
       "      <th>nominal_interestJuin2021</th>\n",
       "      <th>real_interestJuin2021</th>\n",
       "      <th>categoryJuin2021</th>\n",
       "      <th>sub_productJuin2021</th>\n",
       "      <th>sectorJuin2021</th>\n",
       "      <th>product_codeJuin2021</th>\n",
       "      <th>birth_incorp_age</th>\n",
       "    </tr>\n",
       "    <tr>\n",
       "      <th>nhomno_xhtdJuin2021</th>\n",
       "      <th></th>\n",
       "      <th></th>\n",
       "      <th></th>\n",
       "      <th></th>\n",
       "      <th></th>\n",
       "      <th></th>\n",
       "      <th></th>\n",
       "      <th></th>\n",
       "      <th></th>\n",
       "      <th></th>\n",
       "      <th></th>\n",
       "      <th></th>\n",
       "      <th></th>\n",
       "      <th></th>\n",
       "      <th></th>\n",
       "      <th></th>\n",
       "      <th></th>\n",
       "      <th></th>\n",
       "      <th></th>\n",
       "      <th></th>\n",
       "      <th></th>\n",
       "    </tr>\n",
       "  </thead>\n",
       "  <tbody>\n",
       "    <tr>\n",
       "      <th>1.0</th>\n",
       "      <td>49478.097549</td>\n",
       "      <td>38.873010</td>\n",
       "      <td>400.288792</td>\n",
       "      <td>15665.122675</td>\n",
       "      <td>1985.741202</td>\n",
       "      <td>0.001159</td>\n",
       "      <td>0.002229</td>\n",
       "      <td>0.000514</td>\n",
       "      <td>0.282790</td>\n",
       "      <td>0.435810</td>\n",
       "      <td>...</td>\n",
       "      <td>30.629553</td>\n",
       "      <td>0.017455</td>\n",
       "      <td>0.005142</td>\n",
       "      <td>0.008412</td>\n",
       "      <td>0.005014</td>\n",
       "      <td>17499.858605</td>\n",
       "      <td>398.688191</td>\n",
       "      <td>1813.628001</td>\n",
       "      <td>24014.667614</td>\n",
       "      <td>37.258798</td>\n",
       "    </tr>\n",
       "    <tr>\n",
       "      <th>2.0</th>\n",
       "      <td>83413.800331</td>\n",
       "      <td>35.093455</td>\n",
       "      <td>369.828450</td>\n",
       "      <td>15020.216216</td>\n",
       "      <td>1985.520676</td>\n",
       "      <td>0.000634</td>\n",
       "      <td>0.001378</td>\n",
       "      <td>0.000529</td>\n",
       "      <td>0.222944</td>\n",
       "      <td>0.429820</td>\n",
       "      <td>...</td>\n",
       "      <td>17.380952</td>\n",
       "      <td>0.013678</td>\n",
       "      <td>0.001435</td>\n",
       "      <td>0.003047</td>\n",
       "      <td>0.001582</td>\n",
       "      <td>18170.654064</td>\n",
       "      <td>426.391185</td>\n",
       "      <td>1798.441871</td>\n",
       "      <td>24558.388351</td>\n",
       "      <td>37.479324</td>\n",
       "    </tr>\n",
       "    <tr>\n",
       "      <th>3.0</th>\n",
       "      <td>83497.128827</td>\n",
       "      <td>37.373040</td>\n",
       "      <td>385.593353</td>\n",
       "      <td>15162.728998</td>\n",
       "      <td>1986.460418</td>\n",
       "      <td>0.001037</td>\n",
       "      <td>0.000945</td>\n",
       "      <td>0.000309</td>\n",
       "      <td>0.169156</td>\n",
       "      <td>0.830844</td>\n",
       "      <td>...</td>\n",
       "      <td>7.500000</td>\n",
       "      <td>0.015957</td>\n",
       "      <td>0.001678</td>\n",
       "      <td>0.003731</td>\n",
       "      <td>0.001486</td>\n",
       "      <td>17319.045556</td>\n",
       "      <td>417.154700</td>\n",
       "      <td>1788.240851</td>\n",
       "      <td>24542.777072</td>\n",
       "      <td>36.539582</td>\n",
       "    </tr>\n",
       "    <tr>\n",
       "      <th>4.0</th>\n",
       "      <td>84484.264706</td>\n",
       "      <td>35.508824</td>\n",
       "      <td>370.552521</td>\n",
       "      <td>15140.232613</td>\n",
       "      <td>1986.052521</td>\n",
       "      <td>0.000250</td>\n",
       "      <td>0.000611</td>\n",
       "      <td>0.000249</td>\n",
       "      <td>0.082353</td>\n",
       "      <td>0.194958</td>\n",
       "      <td>...</td>\n",
       "      <td>20.000000</td>\n",
       "      <td>0.010638</td>\n",
       "      <td>0.001350</td>\n",
       "      <td>0.003141</td>\n",
       "      <td>0.000464</td>\n",
       "      <td>18391.648319</td>\n",
       "      <td>413.437096</td>\n",
       "      <td>1781.506723</td>\n",
       "      <td>24455.747899</td>\n",
       "      <td>36.947479</td>\n",
       "    </tr>\n",
       "    <tr>\n",
       "      <th>5.0</th>\n",
       "      <td>85620.441860</td>\n",
       "      <td>32.692691</td>\n",
       "      <td>338.440199</td>\n",
       "      <td>14986.439759</td>\n",
       "      <td>1986.098007</td>\n",
       "      <td>0.000512</td>\n",
       "      <td>0.000612</td>\n",
       "      <td>0.000342</td>\n",
       "      <td>0.093023</td>\n",
       "      <td>0.129568</td>\n",
       "      <td>...</td>\n",
       "      <td>NaN</td>\n",
       "      <td>NaN</td>\n",
       "      <td>0.000937</td>\n",
       "      <td>0.002302</td>\n",
       "      <td>0.000305</td>\n",
       "      <td>19120.257475</td>\n",
       "      <td>404.056657</td>\n",
       "      <td>1777.742525</td>\n",
       "      <td>24367.503322</td>\n",
       "      <td>36.901993</td>\n",
       "    </tr>\n",
       "  </tbody>\n",
       "</table>\n",
       "<p>5 rows × 46 columns</p>\n",
       "</div>"
      ],
      "text/plain": [
       "                            index  resid_province  resid_district  \\\n",
       "nhomno_xhtdJuin2021                                                 \n",
       "1.0                  49478.097549       38.873010      400.288792   \n",
       "2.0                  83413.800331       35.093455      369.828450   \n",
       "3.0                  83497.128827       37.373040      385.593353   \n",
       "4.0                  84484.264706       35.508824      370.552521   \n",
       "5.0                  85620.441860       32.692691      338.440199   \n",
       "\n",
       "                      resid_wards  birth_incorp_date  amount_week  \\\n",
       "nhomno_xhtdJuin2021                                                 \n",
       "1.0                  15665.122675        1985.741202     0.001159   \n",
       "2.0                  15020.216216        1985.520676     0.000634   \n",
       "3.0                  15162.728998        1986.460418     0.001037   \n",
       "4.0                  15140.232613        1986.052521     0.000250   \n",
       "5.0                  14986.439759        1986.098007     0.000512   \n",
       "\n",
       "                     max_amount_week  min_amount_week  \\\n",
       "nhomno_xhtdJuin2021                                     \n",
       "1.0                         0.002229         0.000514   \n",
       "2.0                         0.001378         0.000529   \n",
       "3.0                         0.000945         0.000309   \n",
       "4.0                         0.000611         0.000249   \n",
       "5.0                         0.000612         0.000342   \n",
       "\n",
       "                     distinct_payment_code_week  count_payment_code_week  ...  \\\n",
       "nhomno_xhtdJuin2021                                                       ...   \n",
       "1.0                                    0.282790                 0.435810  ...   \n",
       "2.0                                    0.222944                 0.429820  ...   \n",
       "3.0                                    0.169156                 0.830844  ...   \n",
       "4.0                                    0.082353                 0.194958  ...   \n",
       "5.0                                    0.093023                 0.129568  ...   \n",
       "\n",
       "                     totalLoginJuin2021_heoSo  totalSavings2021_heoSo  \\\n",
       "nhomno_xhtdJuin2021                                                     \n",
       "1.0                                 30.629553                0.017455   \n",
       "2.0                                 17.380952                0.013678   \n",
       "3.0                                  7.500000                0.015957   \n",
       "4.0                                 20.000000                0.010638   \n",
       "5.0                                       NaN                     NaN   \n",
       "\n",
       "                     balanceJuin2021  nominal_interestJuin2021  \\\n",
       "nhomno_xhtdJuin2021                                              \n",
       "1.0                         0.005142                  0.008412   \n",
       "2.0                         0.001435                  0.003047   \n",
       "3.0                         0.001678                  0.003731   \n",
       "4.0                         0.001350                  0.003141   \n",
       "5.0                         0.000937                  0.002302   \n",
       "\n",
       "                     real_interestJuin2021  categoryJuin2021  \\\n",
       "nhomno_xhtdJuin2021                                            \n",
       "1.0                               0.005014      17499.858605   \n",
       "2.0                               0.001582      18170.654064   \n",
       "3.0                               0.001486      17319.045556   \n",
       "4.0                               0.000464      18391.648319   \n",
       "5.0                               0.000305      19120.257475   \n",
       "\n",
       "                     sub_productJuin2021  sectorJuin2021  \\\n",
       "nhomno_xhtdJuin2021                                        \n",
       "1.0                           398.688191     1813.628001   \n",
       "2.0                           426.391185     1798.441871   \n",
       "3.0                           417.154700     1788.240851   \n",
       "4.0                           413.437096     1781.506723   \n",
       "5.0                           404.056657     1777.742525   \n",
       "\n",
       "                     product_codeJuin2021  birth_incorp_age  \n",
       "nhomno_xhtdJuin2021                                          \n",
       "1.0                          24014.667614         37.258798  \n",
       "2.0                          24558.388351         37.479324  \n",
       "3.0                          24542.777072         36.539582  \n",
       "4.0                          24455.747899         36.947479  \n",
       "5.0                          24367.503322         36.901993  \n",
       "\n",
       "[5 rows x 46 columns]"
      ]
     },
     "execution_count": 72,
     "metadata": {},
     "output_type": "execute_result"
    }
   ],
   "source": [
    "df2.groupby('nhomno_xhtdJuin2021').mean()"
   ]
  },
  {
   "cell_type": "markdown",
   "id": "ecb64ce7",
   "metadata": {},
   "source": [
    "### a1. Mối quan hệ giữa nhóm nợ và độ tuổi"
   ]
  },
  {
   "cell_type": "code",
   "execution_count": 73,
   "id": "03408420",
   "metadata": {},
   "outputs": [
    {
     "data": {
      "text/plain": [
       "7.332433733574574"
      ]
     },
     "execution_count": 73,
     "metadata": {},
     "output_type": "execute_result"
    }
   ],
   "source": [
    "sqrt(np.var(df2['birth_incorp_age']))"
   ]
  },
  {
   "cell_type": "code",
   "execution_count": 74,
   "id": "c5465d9b",
   "metadata": {},
   "outputs": [
    {
     "data": {
      "text/plain": [
       "[<matplotlib.lines.Line2D at 0x2a823507130>]"
      ]
     },
     "execution_count": 74,
     "metadata": {},
     "output_type": "execute_result"
    },
    {
     "data": {
      "image/png": "[encoded data removed]",
      "text/plain": [
       "<Figure size 432x288 with 1 Axes>"
      ]
     },
     "metadata": {
      "needs_background": "light"
     },
     "output_type": "display_data"
    }
   ],
   "source": [
    "age_chart = plt.plot(df['nhomno_xhtdJuin2021'].unique(), df2.groupby('nhomno_xhtdJuin2021').mean()['birth_incorp_age'], color = 'b', marker='o')\n",
    "age_chart\n",
    "# Xét thấy độ tuổi của các nhóm nợ là tương đối giống nhau, vì vậy độ tuổi không phù hợp để đưa vào trong mô hình"
   ]
  },
  {
   "cell_type": "markdown",
   "id": "683f1731",
   "metadata": {},
   "source": [
    "### a2. Mối quan hệ giữa nhóm nợ và giới tính"
   ]
  },
  {
   "cell_type": "code",
   "execution_count": 75,
   "id": "b90f5a1d",
   "metadata": {},
   "outputs": [
    {
     "data": {
      "text/html": [
       "<div>\n",
       "<style scoped>\n",
       "    .dataframe tbody tr th:only-of-type {\n",
       "        vertical-align: middle;\n",
       "    }\n",
       "\n",
       "    .dataframe tbody tr th {\n",
       "        vertical-align: top;\n",
       "    }\n",
       "\n",
       "    .dataframe thead th {\n",
       "        text-align: right;\n",
       "    }\n",
       "</style>\n",
       "<table border=\"1\" class=\"dataframe\">\n",
       "  <thead>\n",
       "    <tr style=\"text-align: right;\">\n",
       "      <th>local_ref_1</th>\n",
       "      <th>FEMALE</th>\n",
       "      <th>MALE</th>\n",
       "    </tr>\n",
       "    <tr>\n",
       "      <th>nhomno_xhtdJuin2021</th>\n",
       "      <th></th>\n",
       "      <th></th>\n",
       "    </tr>\n",
       "  </thead>\n",
       "  <tbody>\n",
       "    <tr>\n",
       "      <th>1.0</th>\n",
       "      <td>0.363154</td>\n",
       "      <td>0.636846</td>\n",
       "    </tr>\n",
       "    <tr>\n",
       "      <th>2.0</th>\n",
       "      <td>0.180411</td>\n",
       "      <td>0.819589</td>\n",
       "    </tr>\n",
       "    <tr>\n",
       "      <th>3.0</th>\n",
       "      <td>0.189320</td>\n",
       "      <td>0.810680</td>\n",
       "    </tr>\n",
       "    <tr>\n",
       "      <th>4.0</th>\n",
       "      <td>0.184034</td>\n",
       "      <td>0.815966</td>\n",
       "    </tr>\n",
       "    <tr>\n",
       "      <th>5.0</th>\n",
       "      <td>0.212625</td>\n",
       "      <td>0.787375</td>\n",
       "    </tr>\n",
       "  </tbody>\n",
       "</table>\n",
       "</div>"
      ],
      "text/plain": [
       "local_ref_1            FEMALE      MALE\n",
       "nhomno_xhtdJuin2021                    \n",
       "1.0                  0.363154  0.636846\n",
       "2.0                  0.180411  0.819589\n",
       "3.0                  0.189320  0.810680\n",
       "4.0                  0.184034  0.815966\n",
       "5.0                  0.212625  0.787375"
      ]
     },
     "execution_count": 75,
     "metadata": {},
     "output_type": "execute_result"
    }
   ],
   "source": [
    "gender_check = pd.crosstab(index=df2['nhomno_xhtdJuin2021'],\n",
    "                             columns=df2['local_ref_1'],\n",
    "                             normalize=\"index\")\n",
    "gender_check"
   ]
  },
  {
   "cell_type": "code",
   "execution_count": 76,
   "id": "17f10ee2",
   "metadata": {},
   "outputs": [
    {
     "data": {
      "text/plain": [
       "<matplotlib.legend.Legend at 0x2a825d70970>"
      ]
     },
     "execution_count": 76,
     "metadata": {},
     "output_type": "execute_result"
    },
    {
     "data": {
      "image/png": "[encoded data removed]",
      "text/plain": [
       "<Figure size 432x288 with 1 Axes>"
      ]
     },
     "metadata": {
      "needs_background": "light"
     },
     "output_type": "display_data"
    }
   ],
   "source": [
    "gender_chart = gender_check.plot(kind='bar', stacked=True)\n",
    "gender_chart.legend(bbox_to_anchor =(1, 0.5))"
   ]
  },
  {
   "cell_type": "markdown",
   "id": "c33beb3c",
   "metadata": {},
   "source": [
    "#### *Xét thấy tỉ lệ khách hàng nữ ở trong khách hàng loại 1 cao hơn gần gấp đôi so với các nhóm xhtd khác,cân nhắc đưa vào mô hình"
   ]
  },
  {
   "cell_type": "markdown",
   "id": "66747605",
   "metadata": {},
   "source": [
    "### a3. Mối quan hệ giữa nhóm nợ và tình trạng hôn nhân của khách hàng"
   ]
  },
  {
   "cell_type": "code",
   "execution_count": 77,
   "id": "5358e7a0",
   "metadata": {},
   "outputs": [
    {
     "data": {
      "text/html": [
       "<div>\n",
       "<style scoped>\n",
       "    .dataframe tbody tr th:only-of-type {\n",
       "        vertical-align: middle;\n",
       "    }\n",
       "\n",
       "    .dataframe tbody tr th {\n",
       "        vertical-align: top;\n",
       "    }\n",
       "\n",
       "    .dataframe thead th {\n",
       "        text-align: right;\n",
       "    }\n",
       "</style>\n",
       "<table border=\"1\" class=\"dataframe\">\n",
       "  <thead>\n",
       "    <tr style=\"text-align: right;\">\n",
       "      <th>vn_marital_status</th>\n",
       "      <th>Divorced</th>\n",
       "      <th>Married</th>\n",
       "      <th>Other</th>\n",
       "      <th>Partner</th>\n",
       "      <th>Seperated</th>\n",
       "      <th>Single</th>\n",
       "      <th>Widow</th>\n",
       "    </tr>\n",
       "    <tr>\n",
       "      <th>nhomno_xhtdJuin2021</th>\n",
       "      <th></th>\n",
       "      <th></th>\n",
       "      <th></th>\n",
       "      <th></th>\n",
       "      <th></th>\n",
       "      <th></th>\n",
       "      <th></th>\n",
       "    </tr>\n",
       "  </thead>\n",
       "  <tbody>\n",
       "    <tr>\n",
       "      <th>1.0</th>\n",
       "      <td>0.001074</td>\n",
       "      <td>0.637857</td>\n",
       "      <td>0.003791</td>\n",
       "      <td>0.000442</td>\n",
       "      <td>0.000063</td>\n",
       "      <td>0.356583</td>\n",
       "      <td>0.00019</td>\n",
       "    </tr>\n",
       "    <tr>\n",
       "      <th>2.0</th>\n",
       "      <td>0.000473</td>\n",
       "      <td>0.645203</td>\n",
       "      <td>0.006026</td>\n",
       "      <td>0.000118</td>\n",
       "      <td>0.000000</td>\n",
       "      <td>0.348181</td>\n",
       "      <td>0.00000</td>\n",
       "    </tr>\n",
       "    <tr>\n",
       "      <th>3.0</th>\n",
       "      <td>0.001120</td>\n",
       "      <td>0.587752</td>\n",
       "      <td>0.002614</td>\n",
       "      <td>0.001867</td>\n",
       "      <td>0.000000</td>\n",
       "      <td>0.405527</td>\n",
       "      <td>0.00112</td>\n",
       "    </tr>\n",
       "    <tr>\n",
       "      <th>4.0</th>\n",
       "      <td>0.000000</td>\n",
       "      <td>0.627311</td>\n",
       "      <td>0.002521</td>\n",
       "      <td>0.001681</td>\n",
       "      <td>0.000000</td>\n",
       "      <td>0.368487</td>\n",
       "      <td>0.00000</td>\n",
       "    </tr>\n",
       "    <tr>\n",
       "      <th>5.0</th>\n",
       "      <td>0.000000</td>\n",
       "      <td>0.576412</td>\n",
       "      <td>0.001661</td>\n",
       "      <td>0.000000</td>\n",
       "      <td>0.000000</td>\n",
       "      <td>0.421927</td>\n",
       "      <td>0.00000</td>\n",
       "    </tr>\n",
       "  </tbody>\n",
       "</table>\n",
       "</div>"
      ],
      "text/plain": [
       "vn_marital_status    Divorced   Married     Other   Partner  Seperated  \\\n",
       "nhomno_xhtdJuin2021                                                      \n",
       "1.0                  0.001074  0.637857  0.003791  0.000442   0.000063   \n",
       "2.0                  0.000473  0.645203  0.006026  0.000118   0.000000   \n",
       "3.0                  0.001120  0.587752  0.002614  0.001867   0.000000   \n",
       "4.0                  0.000000  0.627311  0.002521  0.001681   0.000000   \n",
       "5.0                  0.000000  0.576412  0.001661  0.000000   0.000000   \n",
       "\n",
       "vn_marital_status      Single    Widow  \n",
       "nhomno_xhtdJuin2021                     \n",
       "1.0                  0.356583  0.00019  \n",
       "2.0                  0.348181  0.00000  \n",
       "3.0                  0.405527  0.00112  \n",
       "4.0                  0.368487  0.00000  \n",
       "5.0                  0.421927  0.00000  "
      ]
     },
     "execution_count": 77,
     "metadata": {},
     "output_type": "execute_result"
    }
   ],
   "source": [
    "marriage_check = pd.crosstab(index = df2['nhomno_xhtdJuin2021'],\n",
    "                             columns = df2['vn_marital_status'],\n",
    "                             normalize = \"index\")\n",
    "marriage_check"
   ]
  },
  {
   "cell_type": "code",
   "execution_count": 78,
   "id": "f53745e0",
   "metadata": {},
   "outputs": [
    {
     "data": {
      "text/plain": [
       "<matplotlib.legend.Legend at 0x2a825e243a0>"
      ]
     },
     "execution_count": 78,
     "metadata": {},
     "output_type": "execute_result"
    },
    {
     "data": {
      "image/png": "[encoded data removed]",
      "text/plain": [
       "<Figure size 432x288 with 1 Axes>"
      ]
     },
     "metadata": {
      "needs_background": "light"
     },
     "output_type": "display_data"
    }
   ],
   "source": [
    "marriage_chart = marriage_check.plot(kind = 'bar', stacked = True)\n",
    "marriage_chart.legend(bbox_to_anchor =(1, 0.5))\n",
    "#Xét thấy tỉ lệ khách hàng theo tình trạng hôn nhân từng nhóm tương đối giống nhau, với married xoay quanh 57-63%\n",
    "#và single là 34-42%, không đưa vào mô hình"
   ]
  },
  {
   "cell_type": "markdown",
   "id": "4d4ad6b3",
   "metadata": {},
   "source": [
    "### a4. Mối quan hệ giữa nhóm nợ và nhóm ngành kinh doanh của khách hàng"
   ]
  },
  {
   "cell_type": "code",
   "execution_count": 79,
   "id": "7b30170b",
   "metadata": {},
   "outputs": [
    {
     "data": {
      "text/plain": [
       "<matplotlib.legend.Legend at 0x2a825ef99d0>"
      ]
     },
     "execution_count": 79,
     "metadata": {},
     "output_type": "execute_result"
    },
    {
     "data": {
      "image/png": "[encoded data removed]",
      "text/plain": [
       "<Figure size 864x576 with 1 Axes>"
      ]
     },
     "metadata": {
      "needs_background": "light"
     },
     "output_type": "display_data"
    }
   ],
   "source": [
    "sector_check = pd.crosstab(index=df2['categoryJuin2021'],\n",
    "                             columns=df2['nhomno_xhtdJuin2021'],\n",
    "                             normalize=\"index\")\n",
    "\n",
    "# create plot\n",
    "sector_chart = sector_check.plot(kind='bar', \n",
    "                    stacked=True, \n",
    "                    colormap='winter', \n",
    "                    figsize=(12, 8))\n",
    "sector_chart.legend(bbox_to_anchor =(1, 0.5))\n",
    "\n",
    "#có hai nhóm khách hàng thuộc nhóm 4 và 5 là 17004 và 17005, nên chú ý và đưa vào mô hình.\n",
    "#ngoài ra có những nhóm khách hàng chỉ thuộc loại 1,2 hoặc 3."
   ]
  },
  {
   "cell_type": "markdown",
   "id": "c8cd4c37",
   "metadata": {},
   "source": [
    "## b. Transaction & Service"
   ]
  },
  {
   "cell_type": "markdown",
   "id": "32ff282f",
   "metadata": {},
   "source": [
    "### b1.  Mối quan hệ tương quan giữa các biến 3 tháng trước - 1 tháng trước - 1 tuần trước:"
   ]
  },
  {
   "cell_type": "code",
   "execution_count": 80,
   "id": "8222fd89",
   "metadata": {},
   "outputs": [
    {
     "data": {
      "text/html": [
       "<div>\n",
       "<style scoped>\n",
       "    .dataframe tbody tr th:only-of-type {\n",
       "        vertical-align: middle;\n",
       "    }\n",
       "\n",
       "    .dataframe tbody tr th {\n",
       "        vertical-align: top;\n",
       "    }\n",
       "\n",
       "    .dataframe thead th {\n",
       "        text-align: right;\n",
       "    }\n",
       "</style>\n",
       "<table border=\"1\" class=\"dataframe\">\n",
       "  <thead>\n",
       "    <tr style=\"text-align: right;\">\n",
       "      <th></th>\n",
       "      <th>max_amount_week</th>\n",
       "      <th>max_amount_month</th>\n",
       "      <th>max_amount_3month</th>\n",
       "    </tr>\n",
       "  </thead>\n",
       "  <tbody>\n",
       "    <tr>\n",
       "      <th>max_amount_week</th>\n",
       "      <td>1.000000</td>\n",
       "      <td>0.706378</td>\n",
       "      <td>0.567885</td>\n",
       "    </tr>\n",
       "    <tr>\n",
       "      <th>max_amount_month</th>\n",
       "      <td>0.706378</td>\n",
       "      <td>1.000000</td>\n",
       "      <td>0.777731</td>\n",
       "    </tr>\n",
       "    <tr>\n",
       "      <th>max_amount_3month</th>\n",
       "      <td>0.567885</td>\n",
       "      <td>0.777731</td>\n",
       "      <td>1.000000</td>\n",
       "    </tr>\n",
       "  </tbody>\n",
       "</table>\n",
       "</div>"
      ],
      "text/plain": [
       "                   max_amount_week  max_amount_month  max_amount_3month\n",
       "max_amount_week           1.000000          0.706378           0.567885\n",
       "max_amount_month          0.706378          1.000000           0.777731\n",
       "max_amount_3month         0.567885          0.777731           1.000000"
      ]
     },
     "execution_count": 80,
     "metadata": {},
     "output_type": "execute_result"
    }
   ],
   "source": [
    "df2[['max_amount_week','max_amount_month','max_amount_3month']].corr()"
   ]
  },
  {
   "cell_type": "code",
   "execution_count": 81,
   "id": "f93bb4de",
   "metadata": {},
   "outputs": [
    {
     "data": {
      "text/html": [
       "<div>\n",
       "<style scoped>\n",
       "    .dataframe tbody tr th:only-of-type {\n",
       "        vertical-align: middle;\n",
       "    }\n",
       "\n",
       "    .dataframe tbody tr th {\n",
       "        vertical-align: top;\n",
       "    }\n",
       "\n",
       "    .dataframe thead th {\n",
       "        text-align: right;\n",
       "    }\n",
       "</style>\n",
       "<table border=\"1\" class=\"dataframe\">\n",
       "  <thead>\n",
       "    <tr style=\"text-align: right;\">\n",
       "      <th></th>\n",
       "      <th>min_amount_week</th>\n",
       "      <th>min_amount_month</th>\n",
       "      <th>min_amount_3month</th>\n",
       "    </tr>\n",
       "  </thead>\n",
       "  <tbody>\n",
       "    <tr>\n",
       "      <th>min_amount_week</th>\n",
       "      <td>1.000000</td>\n",
       "      <td>0.547432</td>\n",
       "      <td>0.459637</td>\n",
       "    </tr>\n",
       "    <tr>\n",
       "      <th>min_amount_month</th>\n",
       "      <td>0.547432</td>\n",
       "      <td>1.000000</td>\n",
       "      <td>0.916255</td>\n",
       "    </tr>\n",
       "    <tr>\n",
       "      <th>min_amount_3month</th>\n",
       "      <td>0.459637</td>\n",
       "      <td>0.916255</td>\n",
       "      <td>1.000000</td>\n",
       "    </tr>\n",
       "  </tbody>\n",
       "</table>\n",
       "</div>"
      ],
      "text/plain": [
       "                   min_amount_week  min_amount_month  min_amount_3month\n",
       "min_amount_week           1.000000          0.547432           0.459637\n",
       "min_amount_month          0.547432          1.000000           0.916255\n",
       "min_amount_3month         0.459637          0.916255           1.000000"
      ]
     },
     "execution_count": 81,
     "metadata": {},
     "output_type": "execute_result"
    }
   ],
   "source": [
    "df2[['min_amount_week','min_amount_month','min_amount_3month']].corr()"
   ]
  },
  {
   "cell_type": "code",
   "execution_count": 82,
   "id": "d94fccd8",
   "metadata": {},
   "outputs": [
    {
     "data": {
      "text/html": [
       "<div>\n",
       "<style scoped>\n",
       "    .dataframe tbody tr th:only-of-type {\n",
       "        vertical-align: middle;\n",
       "    }\n",
       "\n",
       "    .dataframe tbody tr th {\n",
       "        vertical-align: top;\n",
       "    }\n",
       "\n",
       "    .dataframe thead th {\n",
       "        text-align: right;\n",
       "    }\n",
       "</style>\n",
       "<table border=\"1\" class=\"dataframe\">\n",
       "  <thead>\n",
       "    <tr style=\"text-align: right;\">\n",
       "      <th></th>\n",
       "      <th>amount_week</th>\n",
       "      <th>amount_month</th>\n",
       "      <th>amount_3month</th>\n",
       "    </tr>\n",
       "  </thead>\n",
       "  <tbody>\n",
       "    <tr>\n",
       "      <th>amount_week</th>\n",
       "      <td>1.000000</td>\n",
       "      <td>0.801155</td>\n",
       "      <td>0.700543</td>\n",
       "    </tr>\n",
       "    <tr>\n",
       "      <th>amount_month</th>\n",
       "      <td>0.801155</td>\n",
       "      <td>1.000000</td>\n",
       "      <td>0.895673</td>\n",
       "    </tr>\n",
       "    <tr>\n",
       "      <th>amount_3month</th>\n",
       "      <td>0.700543</td>\n",
       "      <td>0.895673</td>\n",
       "      <td>1.000000</td>\n",
       "    </tr>\n",
       "  </tbody>\n",
       "</table>\n",
       "</div>"
      ],
      "text/plain": [
       "               amount_week  amount_month  amount_3month\n",
       "amount_week       1.000000      0.801155       0.700543\n",
       "amount_month      0.801155      1.000000       0.895673\n",
       "amount_3month     0.700543      0.895673       1.000000"
      ]
     },
     "execution_count": 82,
     "metadata": {},
     "output_type": "execute_result"
    }
   ],
   "source": [
    "df2[['amount_week','amount_month','amount_3month']].corr()"
   ]
  },
  {
   "cell_type": "code",
   "execution_count": 83,
   "id": "4a240112",
   "metadata": {},
   "outputs": [
    {
     "data": {
      "text/plain": [
       "<AxesSubplot:>"
      ]
     },
     "execution_count": 83,
     "metadata": {},
     "output_type": "execute_result"
    },
    {
     "data": {
      "image/png": "[encoded data removed]",
      "text/plain": [
       "<Figure size 576x576 with 2 Axes>"
      ]
     },
     "metadata": {
      "needs_background": "light"
     },
     "output_type": "display_data"
    }
   ],
   "source": [
    "plt.figure(figsize=(8,8))\n",
    "corr_rate = (df2[['amount_week','max_amount_week','min_amount_week','count_payment_code_week','distinct_ref_no_week',\n",
    "         'amount_month','max_amount_month','min_amount_month','count_payment_code_month','distinct_ref_no_month',\n",
    "         'amount_3month','max_amount_3month','min_amount_3month','count_payment_code_3month','distinct_ref_no_3month']].corr())\n",
    "sns.heatmap(corr_rate[corr_rate>=0.8], mask=np.triu(corr_rate[corr_rate>=0.5]))"
   ]
  },
  {
   "cell_type": "markdown",
   "id": "be5cfb65",
   "metadata": {},
   "source": [
    "### b2. Thay đổi trong tổng số tiền giao dịch qua thời gian (trong quá khứ) & Nhóm nợ:"
   ]
  },
  {
   "cell_type": "code",
   "execution_count": 84,
   "id": "eec125f7",
   "metadata": {},
   "outputs": [],
   "source": [
    "df2.loc[:,'3m_to_1m'] = df2.loc[:,'amount_month'] - df2.loc[:,'amount_3month']\n",
    "df2.loc[:,'1m_to_1w'] = df2.loc[:,'amount_week'] - df2.loc[:,'amount_month']\n",
    "df2.loc[:,'3m_to_1w'] = df2.loc[:,'amount_week'] - df2.loc[:,'amount_3month']"
   ]
  },
  {
   "cell_type": "code",
   "execution_count": 85,
   "id": "869014d0",
   "metadata": {},
   "outputs": [],
   "source": [
    "df2.loc[:,'3m_to_1m_positive'] = (df2.loc[:,'3m_to_1m'] >= 0)\n",
    "df2.loc[:,'1m_to_1w_positive'] = (df2.loc[:,'1m_to_1w'] >= 0)\n",
    "df2.loc[:,'3m_to_1w_positive'] = (df2.loc[:,'3m_to_1w'] >= 0)"
   ]
  },
  {
   "cell_type": "code",
   "execution_count": 86,
   "id": "75cd1955",
   "metadata": {},
   "outputs": [
    {
     "data": {
      "text/html": [
       "<div>\n",
       "<style scoped>\n",
       "    .dataframe tbody tr th:only-of-type {\n",
       "        vertical-align: middle;\n",
       "    }\n",
       "\n",
       "    .dataframe tbody tr th {\n",
       "        vertical-align: top;\n",
       "    }\n",
       "\n",
       "    .dataframe thead th {\n",
       "        text-align: right;\n",
       "    }\n",
       "</style>\n",
       "<table border=\"1\" class=\"dataframe\">\n",
       "  <thead>\n",
       "    <tr style=\"text-align: right;\">\n",
       "      <th>3m_to_1m_positive</th>\n",
       "      <th>False</th>\n",
       "      <th>True</th>\n",
       "    </tr>\n",
       "    <tr>\n",
       "      <th>nhomno_xhtdJuin2021</th>\n",
       "      <th></th>\n",
       "      <th></th>\n",
       "    </tr>\n",
       "  </thead>\n",
       "  <tbody>\n",
       "    <tr>\n",
       "      <th>1.0</th>\n",
       "      <td>0.305977</td>\n",
       "      <td>0.694023</td>\n",
       "    </tr>\n",
       "    <tr>\n",
       "      <th>2.0</th>\n",
       "      <td>0.390123</td>\n",
       "      <td>0.609877</td>\n",
       "    </tr>\n",
       "    <tr>\n",
       "      <th>3.0</th>\n",
       "      <td>0.455564</td>\n",
       "      <td>0.544436</td>\n",
       "    </tr>\n",
       "    <tr>\n",
       "      <th>4.0</th>\n",
       "      <td>0.662185</td>\n",
       "      <td>0.337815</td>\n",
       "    </tr>\n",
       "    <tr>\n",
       "      <th>5.0</th>\n",
       "      <td>0.488372</td>\n",
       "      <td>0.511628</td>\n",
       "    </tr>\n",
       "  </tbody>\n",
       "</table>\n",
       "</div>"
      ],
      "text/plain": [
       "3m_to_1m_positive       False      True\n",
       "nhomno_xhtdJuin2021                    \n",
       "1.0                  0.305977  0.694023\n",
       "2.0                  0.390123  0.609877\n",
       "3.0                  0.455564  0.544436\n",
       "4.0                  0.662185  0.337815\n",
       "5.0                  0.488372  0.511628"
      ]
     },
     "execution_count": 86,
     "metadata": {},
     "output_type": "execute_result"
    }
   ],
   "source": [
    "cross_tab_check = pd.crosstab(index=df2['nhomno_xhtdJuin2021'],\n",
    "                             columns=df2['3m_to_1m_positive'],\n",
    "                             normalize=\"index\")\n",
    "cross_tab_check"
   ]
  },
  {
   "cell_type": "code",
   "execution_count": 87,
   "id": "d891c6b4",
   "metadata": {},
   "outputs": [
    {
     "data": {
      "text/plain": [
       "<AxesSubplot:xlabel='nhomno_xhtdJuin2021'>"
      ]
     },
     "execution_count": 87,
     "metadata": {},
     "output_type": "execute_result"
    },
    {
     "data": {
      "image/png": "[encoded data removed]",
      "text/plain": [
       "<Figure size 432x288 with 1 Axes>"
      ]
     },
     "metadata": {
      "needs_background": "light"
     },
     "output_type": "display_data"
    }
   ],
   "source": [
    "cross_tab_check.plot(kind='bar', stacked=True)\n",
    "#Tỷ lệ các khách hàng có tổng số tiền giao dịch tăng lên qua thời gian (3 tháng - 1 tháng) cao hơn ở những nhóm nợ tốt hơn.\n",
    "# ⇒ Có thể sử dụng biến thay đổi về số tiền giao dịch qua thời gian (3 tháng - 1 tháng) để phân loại và dự đoán biến nhóm nợ. "
   ]
  },
  {
   "cell_type": "code",
   "execution_count": 88,
   "id": "bd53d658",
   "metadata": {},
   "outputs": [
    {
     "data": {
      "text/html": [
       "<div>\n",
       "<style scoped>\n",
       "    .dataframe tbody tr th:only-of-type {\n",
       "        vertical-align: middle;\n",
       "    }\n",
       "\n",
       "    .dataframe tbody tr th {\n",
       "        vertical-align: top;\n",
       "    }\n",
       "\n",
       "    .dataframe thead th {\n",
       "        text-align: right;\n",
       "    }\n",
       "</style>\n",
       "<table border=\"1\" class=\"dataframe\">\n",
       "  <thead>\n",
       "    <tr style=\"text-align: right;\">\n",
       "      <th></th>\n",
       "      <th>amount_3month</th>\n",
       "      <th>amount_month</th>\n",
       "      <th>3m_to_1m</th>\n",
       "    </tr>\n",
       "  </thead>\n",
       "  <tbody>\n",
       "    <tr>\n",
       "      <th>0</th>\n",
       "      <td>0.000014</td>\n",
       "      <td>0.000019</td>\n",
       "      <td>0.000005</td>\n",
       "    </tr>\n",
       "    <tr>\n",
       "      <th>1</th>\n",
       "      <td>0.000344</td>\n",
       "      <td>0.000468</td>\n",
       "      <td>0.000124</td>\n",
       "    </tr>\n",
       "    <tr>\n",
       "      <th>2</th>\n",
       "      <td>0.000028</td>\n",
       "      <td>0.000031</td>\n",
       "      <td>0.000004</td>\n",
       "    </tr>\n",
       "    <tr>\n",
       "      <th>3</th>\n",
       "      <td>0.000007</td>\n",
       "      <td>0.000011</td>\n",
       "      <td>0.000004</td>\n",
       "    </tr>\n",
       "    <tr>\n",
       "      <th>5</th>\n",
       "      <td>0.000051</td>\n",
       "      <td>0.000097</td>\n",
       "      <td>0.000047</td>\n",
       "    </tr>\n",
       "    <tr>\n",
       "      <th>...</th>\n",
       "      <td>...</td>\n",
       "      <td>...</td>\n",
       "      <td>...</td>\n",
       "    </tr>\n",
       "    <tr>\n",
       "      <th>29943</th>\n",
       "      <td>0.000031</td>\n",
       "      <td>0.000046</td>\n",
       "      <td>0.000015</td>\n",
       "    </tr>\n",
       "    <tr>\n",
       "      <th>29947</th>\n",
       "      <td>0.000013</td>\n",
       "      <td>0.000055</td>\n",
       "      <td>0.000042</td>\n",
       "    </tr>\n",
       "    <tr>\n",
       "      <th>29948</th>\n",
       "      <td>0.000006</td>\n",
       "      <td>0.000011</td>\n",
       "      <td>0.000005</td>\n",
       "    </tr>\n",
       "    <tr>\n",
       "      <th>29950</th>\n",
       "      <td>0.000002</td>\n",
       "      <td>0.000005</td>\n",
       "      <td>0.000003</td>\n",
       "    </tr>\n",
       "    <tr>\n",
       "      <th>29951</th>\n",
       "      <td>0.000053</td>\n",
       "      <td>0.000224</td>\n",
       "      <td>0.000171</td>\n",
       "    </tr>\n",
       "  </tbody>\n",
       "</table>\n",
       "<p>18710 rows × 3 columns</p>\n",
       "</div>"
      ],
      "text/plain": [
       "       amount_3month  amount_month  3m_to_1m\n",
       "0           0.000014      0.000019  0.000005\n",
       "1           0.000344      0.000468  0.000124\n",
       "2           0.000028      0.000031  0.000004\n",
       "3           0.000007      0.000011  0.000004\n",
       "5           0.000051      0.000097  0.000047\n",
       "...              ...           ...       ...\n",
       "29943       0.000031      0.000046  0.000015\n",
       "29947       0.000013      0.000055  0.000042\n",
       "29948       0.000006      0.000011  0.000005\n",
       "29950       0.000002      0.000005  0.000003\n",
       "29951       0.000053      0.000224  0.000171\n",
       "\n",
       "[18710 rows x 3 columns]"
      ]
     },
     "execution_count": 88,
     "metadata": {},
     "output_type": "execute_result"
    }
   ],
   "source": [
    "df2[df2['3m_to_1m']>0][['amount_3month','amount_month','3m_to_1m']]"
   ]
  },
  {
   "cell_type": "markdown",
   "id": "7ffd27c2",
   "metadata": {},
   "source": [
    "#### Conclusion:\n",
    "- Change in amount in the short term (3 month -> 1 month -> 1 week)\n",
    "\n",
    "- Kết luận: Dùng change in amount 3 month - 1 month (vì 2 trường hợp còn lại không có nhiều sự khác biệt giữa các nhóm nợ)"
   ]
  },
  {
   "cell_type": "markdown",
   "id": "9b7ccc6e",
   "metadata": {},
   "source": [
    "### b3.  Tổng số tiền giao dịch trong vòng 1 tháng & Nhóm nợ:"
   ]
  },
  {
   "cell_type": "code",
   "execution_count": 89,
   "id": "2ebae3da",
   "metadata": {},
   "outputs": [
    {
     "data": {
      "text/plain": [
       "<AxesSubplot:xlabel='max_month_binned', ylabel='Count'>"
      ]
     },
     "execution_count": 89,
     "metadata": {},
     "output_type": "execute_result"
    },
    {
     "data": {
      "image/png": "[encoded data removed]",
      "text/plain": [
       "<Figure size 864x576 with 1 Axes>"
      ]
     },
     "metadata": {
      "needs_background": "light"
     },
     "output_type": "display_data"
    }
   ],
   "source": [
    "# nhomno VS max_amount_month: OK\n",
    "fig = plt.figure(figsize=(12,8))\n",
    "ax1 = fig.add_subplot(111)\n",
    "df2.loc[:,'max_month_binned'] = pd.qcut(df2['max_amount_month'], q=10, labels=['1st','2nd','3rd','4th','5th','6th','7th','8th','9th','10th'])\n",
    "\n",
    "sns.histplot(data=df2, x=\"max_month_binned\", hue='nhomno_xhtdJuin2021', palette='CMRmap_r', ax=ax1)"
   ]
  },
  {
   "cell_type": "code",
   "execution_count": 90,
   "id": "e089782e",
   "metadata": {},
   "outputs": [
    {
     "data": {
      "text/plain": [
       "<AxesSubplot:xlabel='amount_month_binned', ylabel='Count'>"
      ]
     },
     "execution_count": 90,
     "metadata": {},
     "output_type": "execute_result"
    },
    {
     "data": {
      "image/png": "[encoded data removed]",
      "text/plain": [
       "<Figure size 864x576 with 1 Axes>"
      ]
     },
     "metadata": {
      "needs_background": "light"
     },
     "output_type": "display_data"
    }
   ],
   "source": [
    "# nhomno VS amount_month:\n",
    "fig = plt.figure(figsize=(12,8))\n",
    "ax1 = fig.add_subplot(111)\n",
    "df2.loc[:,'amount_month_binned'] = pd.qcut(df2['amount_month'], q=10, labels=['1st','2nd','3rd','4th','5th','6th','7th','8th','9th','10th'])\n",
    "\n",
    "sns.histplot(data=df2, x=\"amount_month_binned\", hue='nhomno_xhtdJuin2021', palette='winter_r', ax=ax1)"
   ]
  },
  {
   "cell_type": "code",
   "execution_count": 91,
   "id": "ec2d2dc8",
   "metadata": {
    "scrolled": true
   },
   "outputs": [
    {
     "data": {
      "text/plain": [
       "(0.0, 600.0)"
      ]
     },
     "execution_count": 91,
     "metadata": {},
     "output_type": "execute_result"
    },
    {
     "data": {
      "image/png": "[encoded data removed]",
      "text/plain": [
       "<Figure size 864x288 with 1 Axes>"
      ]
     },
     "metadata": {
      "needs_background": "light"
     },
     "output_type": "display_data"
    }
   ],
   "source": [
    "# Phân tích nhóm 3, 4, 5\n",
    "plt.figure(figsize=(12,4))\n",
    "sns.histplot(data=df2[df2['nhomno_xhtdJuin2021']>=3], x=\"max_month_binned\", hue='nhomno_xhtdJuin2021', palette='winter_r')\n",
    "plt.ylim(0,600)"
   ]
  },
  {
   "cell_type": "markdown",
   "id": "cbfad94c",
   "metadata": {},
   "source": [
    " #### *Tổng số tiền giao dịch có thể là một biến giải thích tốt đối với việc phân loại nhóm nợ"
   ]
  },
  {
   "cell_type": "markdown",
   "id": "e21d4149",
   "metadata": {},
   "source": [
    "### b4. Tỉ lệ khách hàng trong mỗi nhóm nợ, chia theo nhóm amount"
   ]
  },
  {
   "cell_type": "code",
   "execution_count": 92,
   "id": "134db6d4",
   "metadata": {},
   "outputs": [
    {
     "data": {
      "text/plain": [
       "<AxesSubplot:xlabel='amount_month_binned'>"
      ]
     },
     "execution_count": 92,
     "metadata": {},
     "output_type": "execute_result"
    },
    {
     "data": {
      "text/plain": [
       "<Figure size 720x576 with 0 Axes>"
      ]
     },
     "metadata": {},
     "output_type": "display_data"
    },
    {
     "data": {
      "image/png": "[encoded data removed]",
      "text/plain": [
       "<Figure size 432x288 with 1 Axes>"
      ]
     },
     "metadata": {
      "needs_background": "light"
     },
     "output_type": "display_data"
    }
   ],
   "source": [
    "plt.figure(figsize=(10,8))\n",
    "cross_tab_check2 = pd.crosstab(index=df2['amount_month_binned'],\n",
    "                             columns=df2['nhomno_xhtdJuin2021'],\n",
    "                             normalize=\"index\")\n",
    "cross_tab_check2.plot(kind='bar', stacked=True)"
   ]
  },
  {
   "cell_type": "markdown",
   "id": "285a5831",
   "metadata": {},
   "source": [
    "#### Suy đoán:\n",
    "- Nhóm 1: Tập trung ở nhóm >6 \n",
    "- Nhóm 2: Tập trung ở nhóm 1-5\n",
    "- Nhóm 3: Tập trung ở 4-6\n",
    "- Nhóm 4, 5: Tập trung trung bình thấp"
   ]
  },
  {
   "cell_type": "markdown",
   "id": "38b80944",
   "metadata": {},
   "source": [
    "#### Suy đoán: Những khách hàng có giá trị giao dịch cao dường như có xu hướng cao hơn thuộc nhóm đáng tin cậy.\n",
    "\n",
    "==> amount_month can be a good predictor for the df2\n",
    "- It's a little bit counterintuitive for group 2 - the % of customers with high max transaction values being in group 2 decreases as the value increases\n",
    "- Decrease for group 4 (ok)\n",
    "- Decrease for group 5 (ok)"
   ]
  },
  {
   "cell_type": "markdown",
   "id": "f34088fb",
   "metadata": {},
   "source": [
    "### b5. Tương quan giữa số tiền giao dịch của tháng 3 và tháng 6\n"
   ]
  },
  {
   "cell_type": "code",
   "execution_count": 93,
   "id": "6bae94e5",
   "metadata": {},
   "outputs": [
    {
     "data": {
      "text/html": [
       "<div>\n",
       "<style scoped>\n",
       "    .dataframe tbody tr th:only-of-type {\n",
       "        vertical-align: middle;\n",
       "    }\n",
       "\n",
       "    .dataframe tbody tr th {\n",
       "        vertical-align: top;\n",
       "    }\n",
       "\n",
       "    .dataframe thead th {\n",
       "        text-align: right;\n",
       "    }\n",
       "</style>\n",
       "<table border=\"1\" class=\"dataframe\">\n",
       "  <thead>\n",
       "    <tr style=\"text-align: right;\">\n",
       "      <th></th>\n",
       "      <th>total_amt_mar2021</th>\n",
       "      <th>total_act_mar2021</th>\n",
       "      <th>most_act_mar2021_count</th>\n",
       "    </tr>\n",
       "  </thead>\n",
       "  <tbody>\n",
       "    <tr>\n",
       "      <th>total_amt_mar2021</th>\n",
       "      <td>1.000000</td>\n",
       "      <td>0.290021</td>\n",
       "      <td>0.300497</td>\n",
       "    </tr>\n",
       "    <tr>\n",
       "      <th>total_act_mar2021</th>\n",
       "      <td>0.290021</td>\n",
       "      <td>1.000000</td>\n",
       "      <td>0.991323</td>\n",
       "    </tr>\n",
       "    <tr>\n",
       "      <th>most_act_mar2021_count</th>\n",
       "      <td>0.300497</td>\n",
       "      <td>0.991323</td>\n",
       "      <td>1.000000</td>\n",
       "    </tr>\n",
       "  </tbody>\n",
       "</table>\n",
       "</div>"
      ],
      "text/plain": [
       "                        total_amt_mar2021  total_act_mar2021  \\\n",
       "total_amt_mar2021                1.000000           0.290021   \n",
       "total_act_mar2021                0.290021           1.000000   \n",
       "most_act_mar2021_count           0.300497           0.991323   \n",
       "\n",
       "                        most_act_mar2021_count  \n",
       "total_amt_mar2021                     0.300497  \n",
       "total_act_mar2021                     0.991323  \n",
       "most_act_mar2021_count                1.000000  "
      ]
     },
     "execution_count": 93,
     "metadata": {},
     "output_type": "execute_result"
    }
   ],
   "source": [
    "df2[['total_amt_mar2021','total_act_mar2021','most_act_mar2021_count']].corr()"
   ]
  },
  {
   "cell_type": "code",
   "execution_count": 94,
   "id": "78704c49",
   "metadata": {},
   "outputs": [
    {
     "data": {
      "text/html": [
       "<div>\n",
       "<style scoped>\n",
       "    .dataframe tbody tr th:only-of-type {\n",
       "        vertical-align: middle;\n",
       "    }\n",
       "\n",
       "    .dataframe tbody tr th {\n",
       "        vertical-align: top;\n",
       "    }\n",
       "\n",
       "    .dataframe thead th {\n",
       "        text-align: right;\n",
       "    }\n",
       "</style>\n",
       "<table border=\"1\" class=\"dataframe\">\n",
       "  <thead>\n",
       "    <tr style=\"text-align: right;\">\n",
       "      <th></th>\n",
       "      <th>total_amt_juin2021</th>\n",
       "      <th>total_act_juin2021</th>\n",
       "      <th>most_act_juin2021_count</th>\n",
       "    </tr>\n",
       "  </thead>\n",
       "  <tbody>\n",
       "    <tr>\n",
       "      <th>total_amt_juin2021</th>\n",
       "      <td>1.000000</td>\n",
       "      <td>0.320554</td>\n",
       "      <td>0.329396</td>\n",
       "    </tr>\n",
       "    <tr>\n",
       "      <th>total_act_juin2021</th>\n",
       "      <td>0.320554</td>\n",
       "      <td>1.000000</td>\n",
       "      <td>0.981147</td>\n",
       "    </tr>\n",
       "    <tr>\n",
       "      <th>most_act_juin2021_count</th>\n",
       "      <td>0.329396</td>\n",
       "      <td>0.981147</td>\n",
       "      <td>1.000000</td>\n",
       "    </tr>\n",
       "  </tbody>\n",
       "</table>\n",
       "</div>"
      ],
      "text/plain": [
       "                         total_amt_juin2021  total_act_juin2021  \\\n",
       "total_amt_juin2021                 1.000000            0.320554   \n",
       "total_act_juin2021                 0.320554            1.000000   \n",
       "most_act_juin2021_count            0.329396            0.981147   \n",
       "\n",
       "                         most_act_juin2021_count  \n",
       "total_amt_juin2021                      0.329396  \n",
       "total_act_juin2021                      0.981147  \n",
       "most_act_juin2021_count                 1.000000  "
      ]
     },
     "execution_count": 94,
     "metadata": {},
     "output_type": "execute_result"
    }
   ],
   "source": [
    "df2[['total_amt_juin2021','total_act_juin2021','most_act_juin2021_count']].corr()"
   ]
  },
  {
   "cell_type": "code",
   "execution_count": 95,
   "id": "48aa4d58",
   "metadata": {},
   "outputs": [
    {
     "data": {
      "text/html": [
       "<div>\n",
       "<style scoped>\n",
       "    .dataframe tbody tr th:only-of-type {\n",
       "        vertical-align: middle;\n",
       "    }\n",
       "\n",
       "    .dataframe tbody tr th {\n",
       "        vertical-align: top;\n",
       "    }\n",
       "\n",
       "    .dataframe thead th {\n",
       "        text-align: right;\n",
       "    }\n",
       "</style>\n",
       "<table border=\"1\" class=\"dataframe\">\n",
       "  <thead>\n",
       "    <tr style=\"text-align: right;\">\n",
       "      <th></th>\n",
       "      <th>total_amt_mar2021</th>\n",
       "      <th>total_amt_juin2021</th>\n",
       "      <th>total_act_mar2021</th>\n",
       "      <th>total_act_juin2021</th>\n",
       "    </tr>\n",
       "  </thead>\n",
       "  <tbody>\n",
       "    <tr>\n",
       "      <th>total_amt_mar2021</th>\n",
       "      <td>1.000000</td>\n",
       "      <td>0.610365</td>\n",
       "      <td>0.290021</td>\n",
       "      <td>0.217027</td>\n",
       "    </tr>\n",
       "    <tr>\n",
       "      <th>total_amt_juin2021</th>\n",
       "      <td>0.610365</td>\n",
       "      <td>1.000000</td>\n",
       "      <td>0.205404</td>\n",
       "      <td>0.320554</td>\n",
       "    </tr>\n",
       "    <tr>\n",
       "      <th>total_act_mar2021</th>\n",
       "      <td>0.290021</td>\n",
       "      <td>0.205404</td>\n",
       "      <td>1.000000</td>\n",
       "      <td>0.674379</td>\n",
       "    </tr>\n",
       "    <tr>\n",
       "      <th>total_act_juin2021</th>\n",
       "      <td>0.217027</td>\n",
       "      <td>0.320554</td>\n",
       "      <td>0.674379</td>\n",
       "      <td>1.000000</td>\n",
       "    </tr>\n",
       "  </tbody>\n",
       "</table>\n",
       "</div>"
      ],
      "text/plain": [
       "                    total_amt_mar2021  total_amt_juin2021  total_act_mar2021  \\\n",
       "total_amt_mar2021            1.000000            0.610365           0.290021   \n",
       "total_amt_juin2021           0.610365            1.000000           0.205404   \n",
       "total_act_mar2021            0.290021            0.205404           1.000000   \n",
       "total_act_juin2021           0.217027            0.320554           0.674379   \n",
       "\n",
       "                    total_act_juin2021  \n",
       "total_amt_mar2021             0.217027  \n",
       "total_amt_juin2021            0.320554  \n",
       "total_act_mar2021             0.674379  \n",
       "total_act_juin2021            1.000000  "
      ]
     },
     "execution_count": 95,
     "metadata": {},
     "output_type": "execute_result"
    }
   ],
   "source": [
    "df2[['total_amt_mar2021','total_amt_juin2021','total_act_mar2021','total_act_juin2021']].corr()"
   ]
  },
  {
   "cell_type": "code",
   "execution_count": 96,
   "id": "a665fcca",
   "metadata": {},
   "outputs": [
    {
     "data": {
      "text/plain": [
       "count    2.584400e+04\n",
       "mean              inf\n",
       "std               NaN\n",
       "min      7.985714e-09\n",
       "25%      6.533098e-06\n",
       "50%      1.555784e-05\n",
       "75%      4.300378e-05\n",
       "max               inf\n",
       "Name: avg_trans_month, dtype: float64"
      ]
     },
     "execution_count": 96,
     "metadata": {},
     "output_type": "execute_result"
    }
   ],
   "source": [
    "# Số tiền giao dịch trung bình mỗi lần\n",
    "df2.loc[:,'avg_trans_month'] = df2.loc[:,'amount_month'] / df2.loc[:,'distinct_ref_no_month']\n",
    "df2.loc[:,'avg_trans_month'].describe()"
   ]
  },
  {
   "cell_type": "code",
   "execution_count": 97,
   "id": "82181b67",
   "metadata": {},
   "outputs": [
    {
     "data": {
      "text/plain": [
       "<matplotlib.legend.Legend at 0x2a824ad9d90>"
      ]
     },
     "execution_count": 97,
     "metadata": {},
     "output_type": "execute_result"
    },
    {
     "data": {
      "image/png": "[encoded data removed]",
      "text/plain": [
       "<Figure size 432x288 with 1 Axes>"
      ]
     },
     "metadata": {
      "needs_background": "light"
     },
     "output_type": "display_data"
    }
   ],
   "source": [
    "a = df2.groupby(['nhomno_xhtdJuin2021']).agg({'avg_trans_month': ['min','max','mean','median']}).plot()\n",
    "plt.legend(bbox_to_anchor=(1.6,0.005))\n",
    "# --> Không có ý nghĩa gì lắm"
   ]
  },
  {
   "cell_type": "markdown",
   "id": "acca1f90",
   "metadata": {},
   "source": [
    "# 3. Phân biệt 2 nhóm 'đáng tin cậy' & ' không đáng tin cậy' ?\n",
    "- Có nhiều interval trùng nhau \n",
    "- Vấn đề: Cần tìm ra điểm đặc trưng của mỗi nhóm -> mục đích: chia thành 2 nhóm (tin cậy & không tin cậy)\n",
    "- Đã tách nhóm 1, gộp 4+5 --> Giờ cần tìm điểm đặc trưng & ngưỡng phân biệt giữa 2, 3, 4 để tách thành 2 nửa\n",
    "- Khi predict thì làm thế nào? Predict 1+2, 3+4+5 hay tốt vs không tốt?"
   ]
  },
  {
   "cell_type": "code",
   "execution_count": 98,
   "id": "b01dae04",
   "metadata": {},
   "outputs": [
    {
     "data": {
      "text/plain": [
       "<AxesSubplot:xlabel='nhomno_xhtdJuin2021', ylabel='amount_month'>"
      ]
     },
     "execution_count": 98,
     "metadata": {},
     "output_type": "execute_result"
    },
    {
     "data": {
      "image/png": "[encoded data removed]",
      "text/plain": [
       "<Figure size 432x288 with 1 Axes>"
      ]
     },
     "metadata": {
      "needs_background": "light"
     },
     "output_type": "display_data"
    }
   ],
   "source": [
    "sns.violinplot(data=df2, x='nhomno_xhtdJuin2021', y='amount_month')"
   ]
  },
  {
   "cell_type": "code",
   "execution_count": 99,
   "id": "63ed0c72",
   "metadata": {},
   "outputs": [
    {
     "data": {
      "text/plain": [
       "<AxesSubplot:xlabel='nhomno_xhtdJuin2021', ylabel='min_amount_month'>"
      ]
     },
     "execution_count": 99,
     "metadata": {},
     "output_type": "execute_result"
    },
    {
     "data": {
      "image/png": "[encoded data removed]",
      "text/plain": [
       "<Figure size 432x288 with 1 Axes>"
      ]
     },
     "metadata": {
      "needs_background": "light"
     },
     "output_type": "display_data"
    }
   ],
   "source": [
    "sns.violinplot(data=df2, x='nhomno_xhtdJuin2021', y='min_amount_month')"
   ]
  },
  {
   "cell_type": "code",
   "execution_count": 100,
   "id": "48031c5f",
   "metadata": {},
   "outputs": [
    {
     "data": {
      "text/plain": [
       "<AxesSubplot:xlabel='nhomno_xhtdJuin2021', ylabel='count_payment_code_week'>"
      ]
     },
     "execution_count": 100,
     "metadata": {},
     "output_type": "execute_result"
    },
    {
     "data": {
      "image/png": "[encoded data removed]",
      "text/plain": [
       "<Figure size 432x288 with 1 Axes>"
      ]
     },
     "metadata": {
      "needs_background": "light"
     },
     "output_type": "display_data"
    }
   ],
   "source": [
    "sns.violinplot(data=df2, x='nhomno_xhtdJuin2021', y='count_payment_code_week')"
   ]
  },
  {
   "cell_type": "code",
   "execution_count": 101,
   "id": "bd2102c3",
   "metadata": {},
   "outputs": [
    {
     "data": {
      "text/plain": [
       "<AxesSubplot:xlabel='nhomno_xhtdJuin2021', ylabel='distinct_ref_no_week'>"
      ]
     },
     "execution_count": 101,
     "metadata": {},
     "output_type": "execute_result"
    },
    {
     "data": {
      "image/png": "[encoded data removed]",
      "text/plain": [
       "<Figure size 432x288 with 1 Axes>"
      ]
     },
     "metadata": {
      "needs_background": "light"
     },
     "output_type": "display_data"
    }
   ],
   "source": [
    "sns.violinplot(data=df2, x='nhomno_xhtdJuin2021', y='distinct_ref_no_week')"
   ]
  },
  {
   "cell_type": "code",
   "execution_count": 102,
   "id": "fd09c607",
   "metadata": {},
   "outputs": [
    {
     "data": {
      "text/plain": [
       "1.0    15828\n",
       "2.0     8464\n",
       "3.0     2678\n",
       "4.0     2380\n",
       "5.0      602\n",
       "Name: nhomno_xhtdJuin2021, dtype: int64"
      ]
     },
     "execution_count": 102,
     "metadata": {},
     "output_type": "execute_result"
    }
   ],
   "source": [
    "df2['nhomno_xhtdJuin2021'].value_counts()"
   ]
  },
  {
   "cell_type": "markdown",
   "id": "db2ed991",
   "metadata": {},
   "source": [
    "#### a. Phân tích Tổng số tiền giao dịch trong tháng theo từng nhóm nợ"
   ]
  },
  {
   "cell_type": "code",
   "execution_count": 105,
   "id": "01a4dca4",
   "metadata": {},
   "outputs": [
    {
     "data": {
      "text/plain": [
       "<matplotlib.legend.Legend at 0x2a829bec6a0>"
      ]
     },
     "execution_count": 105,
     "metadata": {},
     "output_type": "execute_result"
    },
    {
     "data": {
      "image/png": "[encoded data removed]",
      "text/plain": [
       "<Figure size 864x576 with 1 Axes>"
      ]
     },
     "metadata": {
      "needs_background": "light"
     },
     "output_type": "display_data"
    }
   ],
   "source": [
    "mar = df2.groupby('nhomno_xhtdJuin2021')['total_amt_mar2021'].mean().reset_index().drop('nhomno_xhtdJuin2021', axis=1)\n",
    "jun = df2.groupby('nhomno_xhtdJuin2021')['total_amt_juin2021'].mean().reset_index().drop('nhomno_xhtdJuin2021', axis=1)\n",
    "dec = df2.groupby('nhomno_xhtdJuin2021')['amount_month'].mean().reset_index()\n",
    "amount_dec_mar_jun = pd.concat([dec, mar, jun], axis=1).set_index('nhomno_xhtdJuin2021')\n",
    "amount_dec_mar_jun = amount_dec_mar_jun.T.rename(index={'amount_month': 'total_dec_mar2021'})\n",
    "\n",
    "figure = plt.figure(figsize=(12,8))\n",
    "ax = fig.add_subplot(111)\n",
    "\n",
    "plt.plot(amount_dec_mar_jun.index, amount_dec_mar_jun.iloc[:,0], label='Group 1', marker='D')\n",
    "plt.plot(amount_dec_mar_jun.index, amount_dec_mar_jun.iloc[:,1], label='Group 2', marker='o')\n",
    "plt.plot(amount_dec_mar_jun.index, amount_dec_mar_jun.iloc[:,2], label='Group 3', marker='x')\n",
    "plt.plot(amount_dec_mar_jun.index, amount_dec_mar_jun.iloc[:,3], label='Group 4', marker='v')\n",
    "plt.plot(amount_dec_mar_jun.index, amount_dec_mar_jun.iloc[:,4], label='Group 5', marker='s')\n",
    "\n",
    "plt.legend(bbox_to_anchor =(1, 0.5))"
   ]
  },
  {
   "cell_type": "code",
   "execution_count": 106,
   "id": "7807fa2f",
   "metadata": {},
   "outputs": [
    {
     "data": {
      "text/plain": [
       "<matplotlib.legend.Legend at 0x2a8261f9790>"
      ]
     },
     "execution_count": 106,
     "metadata": {},
     "output_type": "execute_result"
    },
    {
     "data": {
      "image/png": "[encoded data removed]",
      "text/plain": [
       "<Figure size 432x288 with 1 Axes>"
      ]
     },
     "metadata": {
      "needs_background": "light"
     },
     "output_type": "display_data"
    }
   ],
   "source": [
    "# Tìm tỉ lệ sử dụng so với # khách hàng mỗi debt group --> Tìm xem dịch vụ nào là tốt\n",
    "\n",
    "payment_code = df2.groupby(['nhomno_xhtdJuin2021', 'distinct_payment_code_week']).size().unstack().replace(np.nan, 0)\n",
    "\n",
    "payment_code['total'] = payment_code.sum(axis=1)\n",
    "payment_code['code_0'] = payment_code.iloc[:,0] / payment_code.iloc[:,6]\n",
    "payment_code['code_1'] = payment_code.iloc[:,1] / payment_code.iloc[:,6]\n",
    "payment_code['code_2'] = payment_code.iloc[:,2] / payment_code.iloc[:,6]\n",
    "payment_code['code_3'] = payment_code.iloc[:,3] / payment_code.iloc[:,6]\n",
    "payment_code['code_4'] = payment_code.iloc[:,4] / payment_code.iloc[:,6]\n",
    "payment_code['code_5'] = payment_code.iloc[:,5] / payment_code.iloc[:,6]\n",
    "payment_code.drop([0.0, 1.0, 2.0, 3.0, 4.0, 5.0, 'total'], axis=1, inplace=True)\n",
    "\n",
    "axis2 = payment_code.plot(kind='bar', stacked=True)\n",
    "axis2.legend(bbox_to_anchor =(1, 0.5))"
   ]
  },
  {
   "cell_type": "markdown",
   "id": "27129053",
   "metadata": {},
   "source": [
    "### b. Thực hiện phân tích Principal Component Analysis PCA"
   ]
  },
  {
   "cell_type": "code",
   "execution_count": 108,
   "id": "0f6ef366",
   "metadata": {},
   "outputs": [],
   "source": [
    "amount = df[['nhomno_xhtdJuin2021',\n",
    "         'amount_week','max_amount_week','min_amount_week','count_payment_code_week','distinct_trans_group_week','distinct_ref_no_week',\n",
    "         'amount_month','max_amount_month','min_amount_month','count_payment_code_month','distinct_trans_group_month','distinct_ref_no_month',\n",
    "         'amount_3month','max_amount_3month','min_amount_3month','count_payment_code_3month','distinct_trans_group_3month','distinct_ref_no_3month']][df['nhomno_xhtdJuin2021'].notnull()].dropna(how='any')"
   ]
  },
  {
   "cell_type": "code",
   "execution_count": 109,
   "id": "1235cfed",
   "metadata": {},
   "outputs": [
    {
     "data": {
      "text/plain": [
       "nhomno_xhtdJuin2021            0\n",
       "amount_week                    0\n",
       "max_amount_week                0\n",
       "min_amount_week                0\n",
       "count_payment_code_week        0\n",
       "distinct_trans_group_week      0\n",
       "distinct_ref_no_week           0\n",
       "amount_month                   0\n",
       "max_amount_month               0\n",
       "min_amount_month               0\n",
       "count_payment_code_month       0\n",
       "distinct_trans_group_month     0\n",
       "distinct_ref_no_month          0\n",
       "amount_3month                  0\n",
       "max_amount_3month              0\n",
       "min_amount_3month              0\n",
       "count_payment_code_3month      0\n",
       "distinct_trans_group_3month    0\n",
       "distinct_ref_no_3month         0\n",
       "dtype: int64"
      ]
     },
     "execution_count": 109,
     "metadata": {},
     "output_type": "execute_result"
    }
   ],
   "source": [
    "amount.isnull().sum()"
   ]
  },
  {
   "cell_type": "code",
   "execution_count": 110,
   "id": "b457e4bb",
   "metadata": {},
   "outputs": [],
   "source": [
    "amount_train, amount_test = train_test_split(amount, test_size = 0.3, random_state = 16)"
   ]
  },
  {
   "cell_type": "code",
   "execution_count": 111,
   "id": "1feba860",
   "metadata": {},
   "outputs": [],
   "source": [
    "pca = PCA(n_components=5)\n",
    "pca.fit(amount_train)\n",
    "pca_data = pca.transform(amount_train)"
   ]
  },
  {
   "cell_type": "code",
   "execution_count": 118,
   "id": "d9d322b8",
   "metadata": {},
   "outputs": [
    {
     "data": {
      "text/plain": [
       "Text(0.5, 1.0, '% of Explained Variance')"
      ]
     },
     "execution_count": 118,
     "metadata": {},
     "output_type": "execute_result"
    },
    {
     "data": {
      "image/png": "[encoded data removed]",
      "text/plain": [
       "<Figure size 432x288 with 1 Axes>"
      ]
     },
     "metadata": {
      "needs_background": "light"
     },
     "output_type": "display_data"
    }
   ],
   "source": [
    "per_var = np.round(pca.explained_variance_ratio_*100, decimals = 2)\n",
    "labels = ['PC' + str(x) for x in range(1, len(per_var)+1)]\n",
    "\n",
    "plt.bar(x=range(1, len(per_var)+1), height=per_var, color = 'b', tick_label=labels)\n",
    "plt.ylabel('% of Explained Variance')\n",
    "plt.xlabel('Principle Component')\n",
    "plt.title('% of Explained Variance')"
   ]
  },
  {
   "cell_type": "code",
   "execution_count": 117,
   "id": "947e33ed",
   "metadata": {},
   "outputs": [
    {
     "data": {
      "text/plain": [
       "Text(0, 0.5, 'PC2 - 2.89%')"
      ]
     },
     "execution_count": 117,
     "metadata": {},
     "output_type": "execute_result"
    },
    {
     "data": {
      "image/png": "[encoded data removed]",
      "text/plain": [
       "<Figure size 432x288 with 1 Axes>"
      ]
     },
     "metadata": {
      "needs_background": "light"
     },
     "output_type": "display_data"
    }
   ],
   "source": [
    "pca_df = pd.DataFrame(pca_data, columns=labels)\n",
    "plt.scatter(pca_df.PC1, pca_df.PC2, color = 'b')\n",
    "plt.title('PCA Graph')\n",
    "plt.xlabel('PC1 - {}%'.format(per_var[0]))\n",
    "plt.ylabel('PC2 - {}%'.format(per_var[1]))"
   ]
  },
  {
   "cell_type": "code",
   "execution_count": 120,
   "id": "ac89bb8b",
   "metadata": {},
   "outputs": [
    {
     "data": {
      "text/plain": [
       "<AxesSubplot:>"
      ]
     },
     "execution_count": 120,
     "metadata": {},
     "output_type": "execute_result"
    },
    {
     "data": {
      "image/png": "[encoded data removed]",
      "text/plain": [
       "<Figure size 576x720 with 2 Axes>"
      ]
     },
     "metadata": {
      "needs_background": "light"
     },
     "output_type": "display_data"
    }
   ],
   "source": [
    "plt.figure(figsize=(8,10))\n",
    "loadings = pd.DataFrame(pca.components_.T, columns=['PC1', 'PC2', 'PC3', 'PC4', 'PC5'], index=amount_train.columns)\n",
    "sns.heatmap(data=loadings[loadings>=0.2])"
   ]
  },
  {
   "cell_type": "markdown",
   "id": "d477b75a",
   "metadata": {},
   "source": [
    "#### Phán đoán:\n",
    "- Principal Component 1 giải thích hầu hết biến trong dataset\n",
    "- PC1 (Principal Component 1) liên quan tới distinct_ref_no_month và distinct_ref_no_3month"
   ]
  },
  {
   "cell_type": "markdown",
   "id": "3f38670b",
   "metadata": {},
   "source": [
    "# 4. MODELLING: \n",
    "\n",
    "### - Logistic Regression\n",
    "### - Decision Tree\n",
    "### - k-NN"
   ]
  },
  {
   "cell_type": "markdown",
   "id": "5e5469bf",
   "metadata": {},
   "source": [
    "## 4.1. Datasets:"
   ]
  },
  {
   "cell_type": "markdown",
   "id": "a6760ba7",
   "metadata": {},
   "source": [
    "### Proprocessing step: Dummy variables + Drop null"
   ]
  },
  {
   "cell_type": "code",
   "execution_count": 121,
   "id": "836e6829",
   "metadata": {},
   "outputs": [],
   "source": [
    "df_process = df2.drop(columns=['savingValueMar2021_heoSo', 'savingValueJuin2021_heoSo', 'totalLoginMar2021_heoSo', 'totalLoginJuin2021_heoSo', 'totalSavings2021_heoSo'])\\\n",
    "            .replace(to_replace={'nhomno_xhtdJuin2021':{1:0, \n",
    "                                                        2:0,\n",
    "                                                        3:0,\n",
    "                                                        4:1,\n",
    "                                                        5:1}})\\\n",
    "            .dropna(subset=['amount_month','min_amount_month','distinct_ref_no_month'])"
   ]
  },
  {
   "cell_type": "code",
   "execution_count": 128,
   "id": "2ea25dd6",
   "metadata": {},
   "outputs": [
    {
     "data": {
      "text/plain": [
       "Index(['index', 'resid_province', 'resid_district', 'resid_wards',\n",
       "       'birth_incorp_date', 'amount_week', 'max_amount_week',\n",
       "       'min_amount_week', 'distinct_payment_code_week',\n",
       "       'count_payment_code_week', 'distinct_trans_group_week',\n",
       "       'distinct_ref_no_week', 'amount_month', 'max_amount_month',\n",
       "       'min_amount_month', 'distinct_payment_code_month',\n",
       "       'count_payment_code_month', 'distinct_trans_group_month',\n",
       "       'distinct_ref_no_month', 'amount_3month', 'max_amount_3month',\n",
       "       'min_amount_3month', 'distinct_payment_code_3month',\n",
       "       'count_payment_code_3month', 'distinct_trans_group_3month',\n",
       "       'distinct_ref_no_3month', 'most_act_mar2021_count', 'most_act_mar2021',\n",
       "       'total_act_mar2021', 'total_amt_mar2021', 'most_act_juin2021_count',\n",
       "       'total_act_juin2021', 'total_amt_juin2021', 'rd_id', 'balanceJuin2021',\n",
       "       'nominal_interestJuin2021', 'real_interestJuin2021',\n",
       "       'nhomno_xhtdJuin2021', 'categoryJuin2021', 'sub_productJuin2021',\n",
       "       'sectorJuin2021', 'product_codeJuin2021', 'birth_incorp_age',\n",
       "       '3m_to_1m', '1m_to_1w', '3m_to_1w', '3m_to_1m_positive',\n",
       "       '1m_to_1w_positive', '3m_to_1w_positive', 'max_month_binned',\n",
       "       'amount_month_binned', 'avg_trans_month', 'DUM_MALE', 'DUM_Married',\n",
       "       'DUM_Other', 'DUM_Partner', 'DUM_Seperated', 'DUM_Single', 'DUM_Widow',\n",
       "       'DUM_GIAO DICH RUT TIEN ATM', 'DUM_GIAO DICH THANH TOAN',\n",
       "       'DUM_GIAO DICH TIET KIEM', 'DUM_GIAO DICH VAY',\n",
       "       'DUM_Giao dich chuyen khoan', 'DUM_Giao dich thanh toan', 'DUM_NH',\n",
       "       'DUM_TH'],\n",
       "      dtype='object')"
      ]
     },
     "execution_count": 128,
     "metadata": {},
     "output_type": "execute_result"
    }
   ],
   "source": [
    "df_process_dummies = pd.get_dummies(data=df_process,\n",
    "                     columns=[\"local_ref_1\",\"vn_marital_status\",\"most_act_juin2021\",\"loaikyhanJuin2021\"], \n",
    "                     prefix=\"DUM\", prefix_sep=\"_\",\n",
    "                     drop_first=True)\n",
    "df_process_dummies.columns"
   ]
  },
  {
   "cell_type": "code",
   "execution_count": 164,
   "id": "8be45c5d",
   "metadata": {},
   "outputs": [],
   "source": [
    "df3 = df_process_dummies.reset_index()"
   ]
  },
  {
   "cell_type": "code",
   "execution_count": 166,
   "id": "77ef9cf5",
   "metadata": {
    "scrolled": true
   },
   "outputs": [],
   "source": [
    "X_ori = df3[[ 'amount_month','min_amount_month','distinct_payment_code_month','count_payment_code_month','distinct_ref_no_month',\n",
    "        'DUM_MALE','DUM_Married', 'DUM_Other', 'DUM_Partner', 'DUM_Single', 'DUM_Widow',\n",
    "        'DUM_phi tai chinh', 'DUM_rut tien atm', 'DUM_thanh toan', 'DUM_tiet kiem', 'DUM_vay', \n",
    "        'DUM_NH', 'DUM_TH',    \n",
    "        'categoryJuin2021', 'sectorJuin2021','balanceJuin2021','3m_to_1m_positive','nominal_interestJuin2021'\n",
    "        ]].replace(np.nan, 0)\n",
    "y_ori = df3['nhomno_xhtdJuin2021'].astype('int')"
   ]
  },
  {
   "cell_type": "code",
   "execution_count": 167,
   "id": "e23c1a0b",
   "metadata": {},
   "outputs": [],
   "source": [
    "X_ori_train, X_ori_test, y_ori_train, y_ori_test = train_test_split(X_ori, y_ori, test_size=0.3, random_state=1)"
   ]
  },
  {
   "cell_type": "markdown",
   "id": "3ebb1f07",
   "metadata": {},
   "source": [
    "### a. DF3: Thuat toan Upsampling (SMOTE)"
   ]
  },
  {
   "cell_type": "code",
   "execution_count": 168,
   "id": "bff7218e",
   "metadata": {},
   "outputs": [],
   "source": [
    "oversample_ori = SMOTE()"
   ]
  },
  {
   "cell_type": "code",
   "execution_count": 169,
   "id": "98535918",
   "metadata": {},
   "outputs": [
    {
     "ename": "AttributeError",
     "evalue": "'NoneType' object has no attribute 'split'",
     "output_type": "error",
     "traceback": [
      "\u001b[1;31m---------------------------------------------------------------------------\u001b[0m",
      "\u001b[1;31mAttributeError\u001b[0m                            Traceback (most recent call last)",
      "Input \u001b[1;32mIn [169]\u001b[0m, in \u001b[0;36m<cell line: 1>\u001b[1;34m()\u001b[0m\n\u001b[1;32m----> 1\u001b[0m \u001b[43moversample_ori\u001b[49m\u001b[38;5;241;43m.\u001b[39;49m\u001b[43mfit_resample\u001b[49m\u001b[43m(\u001b[49m\u001b[43mX_ori\u001b[49m\u001b[43m,\u001b[49m\u001b[43m \u001b[49m\u001b[43my_ori\u001b[49m\u001b[43m)\u001b[49m\n",
      "File \u001b[1;32m~\\anaconda3\\lib\\site-packages\\imblearn\\base.py:83\u001b[0m, in \u001b[0;36mSamplerMixin.fit_resample\u001b[1;34m(self, X, y)\u001b[0m\n\u001b[0;32m     77\u001b[0m X, y, binarize_y \u001b[38;5;241m=\u001b[39m \u001b[38;5;28mself\u001b[39m\u001b[38;5;241m.\u001b[39m_check_X_y(X, y)\n\u001b[0;32m     79\u001b[0m \u001b[38;5;28mself\u001b[39m\u001b[38;5;241m.\u001b[39msampling_strategy_ \u001b[38;5;241m=\u001b[39m check_sampling_strategy(\n\u001b[0;32m     80\u001b[0m     \u001b[38;5;28mself\u001b[39m\u001b[38;5;241m.\u001b[39msampling_strategy, y, \u001b[38;5;28mself\u001b[39m\u001b[38;5;241m.\u001b[39m_sampling_type\n\u001b[0;32m     81\u001b[0m )\n\u001b[1;32m---> 83\u001b[0m output \u001b[38;5;241m=\u001b[39m \u001b[38;5;28;43mself\u001b[39;49m\u001b[38;5;241;43m.\u001b[39;49m\u001b[43m_fit_resample\u001b[49m\u001b[43m(\u001b[49m\u001b[43mX\u001b[49m\u001b[43m,\u001b[49m\u001b[43m \u001b[49m\u001b[43my\u001b[49m\u001b[43m)\u001b[49m\n\u001b[0;32m     85\u001b[0m y_ \u001b[38;5;241m=\u001b[39m (\n\u001b[0;32m     86\u001b[0m     label_binarize(output[\u001b[38;5;241m1\u001b[39m], classes\u001b[38;5;241m=\u001b[39mnp\u001b[38;5;241m.\u001b[39munique(y)) \u001b[38;5;28;01mif\u001b[39;00m binarize_y \u001b[38;5;28;01melse\u001b[39;00m output[\u001b[38;5;241m1\u001b[39m]\n\u001b[0;32m     87\u001b[0m )\n\u001b[0;32m     89\u001b[0m X_, y_ \u001b[38;5;241m=\u001b[39m arrays_transformer\u001b[38;5;241m.\u001b[39mtransform(output[\u001b[38;5;241m0\u001b[39m], y_)\n",
      "File \u001b[1;32m~\\anaconda3\\lib\\site-packages\\imblearn\\over_sampling\\_smote\\base.py:324\u001b[0m, in \u001b[0;36mSMOTE._fit_resample\u001b[1;34m(self, X, y)\u001b[0m\n\u001b[0;32m    321\u001b[0m X_class \u001b[38;5;241m=\u001b[39m _safe_indexing(X, target_class_indices)\n\u001b[0;32m    323\u001b[0m \u001b[38;5;28mself\u001b[39m\u001b[38;5;241m.\u001b[39mnn_k_\u001b[38;5;241m.\u001b[39mfit(X_class)\n\u001b[1;32m--> 324\u001b[0m nns \u001b[38;5;241m=\u001b[39m \u001b[38;5;28;43mself\u001b[39;49m\u001b[38;5;241;43m.\u001b[39;49m\u001b[43mnn_k_\u001b[49m\u001b[38;5;241;43m.\u001b[39;49m\u001b[43mkneighbors\u001b[49m\u001b[43m(\u001b[49m\u001b[43mX_class\u001b[49m\u001b[43m,\u001b[49m\u001b[43m \u001b[49m\u001b[43mreturn_distance\u001b[49m\u001b[38;5;241;43m=\u001b[39;49m\u001b[38;5;28;43;01mFalse\u001b[39;49;00m\u001b[43m)\u001b[49m[:, \u001b[38;5;241m1\u001b[39m:]\n\u001b[0;32m    325\u001b[0m X_new, y_new \u001b[38;5;241m=\u001b[39m \u001b[38;5;28mself\u001b[39m\u001b[38;5;241m.\u001b[39m_make_samples(\n\u001b[0;32m    326\u001b[0m     X_class, y\u001b[38;5;241m.\u001b[39mdtype, class_sample, X_class, nns, n_samples, \u001b[38;5;241m1.0\u001b[39m\n\u001b[0;32m    327\u001b[0m )\n\u001b[0;32m    328\u001b[0m X_resampled\u001b[38;5;241m.\u001b[39mappend(X_new)\n",
      "File \u001b[1;32m~\\anaconda3\\lib\\site-packages\\sklearn\\neighbors\\_base.py:763\u001b[0m, in \u001b[0;36mKNeighborsMixin.kneighbors\u001b[1;34m(self, X, n_neighbors, return_distance)\u001b[0m\n\u001b[0;32m    756\u001b[0m use_pairwise_distances_reductions \u001b[38;5;241m=\u001b[39m (\n\u001b[0;32m    757\u001b[0m     \u001b[38;5;28mself\u001b[39m\u001b[38;5;241m.\u001b[39m_fit_method \u001b[38;5;241m==\u001b[39m \u001b[38;5;124m\"\u001b[39m\u001b[38;5;124mbrute\u001b[39m\u001b[38;5;124m\"\u001b[39m\n\u001b[0;32m    758\u001b[0m     \u001b[38;5;129;01mand\u001b[39;00m PairwiseDistancesArgKmin\u001b[38;5;241m.\u001b[39mis_usable_for(\n\u001b[0;32m    759\u001b[0m         X \u001b[38;5;28;01mif\u001b[39;00m X \u001b[38;5;129;01mis\u001b[39;00m \u001b[38;5;129;01mnot\u001b[39;00m \u001b[38;5;28;01mNone\u001b[39;00m \u001b[38;5;28;01melse\u001b[39;00m \u001b[38;5;28mself\u001b[39m\u001b[38;5;241m.\u001b[39m_fit_X, \u001b[38;5;28mself\u001b[39m\u001b[38;5;241m.\u001b[39m_fit_X, \u001b[38;5;28mself\u001b[39m\u001b[38;5;241m.\u001b[39meffective_metric_\n\u001b[0;32m    760\u001b[0m     )\n\u001b[0;32m    761\u001b[0m )\n\u001b[0;32m    762\u001b[0m \u001b[38;5;28;01mif\u001b[39;00m use_pairwise_distances_reductions:\n\u001b[1;32m--> 763\u001b[0m     results \u001b[38;5;241m=\u001b[39m \u001b[43mPairwiseDistancesArgKmin\u001b[49m\u001b[38;5;241;43m.\u001b[39;49m\u001b[43mcompute\u001b[49m\u001b[43m(\u001b[49m\n\u001b[0;32m    764\u001b[0m \u001b[43m        \u001b[49m\u001b[43mX\u001b[49m\u001b[38;5;241;43m=\u001b[39;49m\u001b[43mX\u001b[49m\u001b[43m,\u001b[49m\n\u001b[0;32m    765\u001b[0m \u001b[43m        \u001b[49m\u001b[43mY\u001b[49m\u001b[38;5;241;43m=\u001b[39;49m\u001b[38;5;28;43mself\u001b[39;49m\u001b[38;5;241;43m.\u001b[39;49m\u001b[43m_fit_X\u001b[49m\u001b[43m,\u001b[49m\n\u001b[0;32m    766\u001b[0m \u001b[43m        \u001b[49m\u001b[43mk\u001b[49m\u001b[38;5;241;43m=\u001b[39;49m\u001b[43mn_neighbors\u001b[49m\u001b[43m,\u001b[49m\n\u001b[0;32m    767\u001b[0m \u001b[43m        \u001b[49m\u001b[43mmetric\u001b[49m\u001b[38;5;241;43m=\u001b[39;49m\u001b[38;5;28;43mself\u001b[39;49m\u001b[38;5;241;43m.\u001b[39;49m\u001b[43meffective_metric_\u001b[49m\u001b[43m,\u001b[49m\n\u001b[0;32m    768\u001b[0m \u001b[43m        \u001b[49m\u001b[43mmetric_kwargs\u001b[49m\u001b[38;5;241;43m=\u001b[39;49m\u001b[38;5;28;43mself\u001b[39;49m\u001b[38;5;241;43m.\u001b[39;49m\u001b[43meffective_metric_params_\u001b[49m\u001b[43m,\u001b[49m\n\u001b[0;32m    769\u001b[0m \u001b[43m        \u001b[49m\u001b[43mstrategy\u001b[49m\u001b[38;5;241;43m=\u001b[39;49m\u001b[38;5;124;43m\"\u001b[39;49m\u001b[38;5;124;43mauto\u001b[39;49m\u001b[38;5;124;43m\"\u001b[39;49m\u001b[43m,\u001b[49m\n\u001b[0;32m    770\u001b[0m \u001b[43m        \u001b[49m\u001b[43mreturn_distance\u001b[49m\u001b[38;5;241;43m=\u001b[39;49m\u001b[43mreturn_distance\u001b[49m\u001b[43m,\u001b[49m\n\u001b[0;32m    771\u001b[0m \u001b[43m    \u001b[49m\u001b[43m)\u001b[49m\n\u001b[0;32m    773\u001b[0m \u001b[38;5;28;01melif\u001b[39;00m (\n\u001b[0;32m    774\u001b[0m     \u001b[38;5;28mself\u001b[39m\u001b[38;5;241m.\u001b[39m_fit_method \u001b[38;5;241m==\u001b[39m \u001b[38;5;124m\"\u001b[39m\u001b[38;5;124mbrute\u001b[39m\u001b[38;5;124m\"\u001b[39m \u001b[38;5;129;01mand\u001b[39;00m \u001b[38;5;28mself\u001b[39m\u001b[38;5;241m.\u001b[39mmetric \u001b[38;5;241m==\u001b[39m \u001b[38;5;124m\"\u001b[39m\u001b[38;5;124mprecomputed\u001b[39m\u001b[38;5;124m\"\u001b[39m \u001b[38;5;129;01mand\u001b[39;00m issparse(X)\n\u001b[0;32m    775\u001b[0m ):\n\u001b[0;32m    776\u001b[0m     results \u001b[38;5;241m=\u001b[39m _kneighbors_from_graph(\n\u001b[0;32m    777\u001b[0m         X, n_neighbors\u001b[38;5;241m=\u001b[39mn_neighbors, return_distance\u001b[38;5;241m=\u001b[39mreturn_distance\n\u001b[0;32m    778\u001b[0m     )\n",
      "File \u001b[1;32msklearn\\metrics\\_pairwise_distances_reduction.pyx:691\u001b[0m, in \u001b[0;36msklearn.metrics._pairwise_distances_reduction.PairwiseDistancesArgKmin.compute\u001b[1;34m()\u001b[0m\n",
      "File \u001b[1;32m~\\anaconda3\\lib\\site-packages\\sklearn\\utils\\fixes.py:151\u001b[0m, in \u001b[0;36mthreadpool_limits\u001b[1;34m(limits, user_api)\u001b[0m\n\u001b[0;32m    149\u001b[0m     \u001b[38;5;28;01mreturn\u001b[39;00m controller\u001b[38;5;241m.\u001b[39mlimit(limits\u001b[38;5;241m=\u001b[39mlimits, user_api\u001b[38;5;241m=\u001b[39muser_api)\n\u001b[0;32m    150\u001b[0m \u001b[38;5;28;01melse\u001b[39;00m:\n\u001b[1;32m--> 151\u001b[0m     \u001b[38;5;28;01mreturn\u001b[39;00m \u001b[43mthreadpoolctl\u001b[49m\u001b[38;5;241;43m.\u001b[39;49m\u001b[43mthreadpool_limits\u001b[49m\u001b[43m(\u001b[49m\u001b[43mlimits\u001b[49m\u001b[38;5;241;43m=\u001b[39;49m\u001b[43mlimits\u001b[49m\u001b[43m,\u001b[49m\u001b[43m \u001b[49m\u001b[43muser_api\u001b[49m\u001b[38;5;241;43m=\u001b[39;49m\u001b[43muser_api\u001b[49m\u001b[43m)\u001b[49m\n",
      "File \u001b[1;32m~\\anaconda3\\lib\\site-packages\\threadpoolctl.py:171\u001b[0m, in \u001b[0;36mthreadpool_limits.__init__\u001b[1;34m(self, limits, user_api)\u001b[0m\n\u001b[0;32m    167\u001b[0m \u001b[38;5;28;01mdef\u001b[39;00m \u001b[38;5;21m__init__\u001b[39m(\u001b[38;5;28mself\u001b[39m, limits\u001b[38;5;241m=\u001b[39m\u001b[38;5;28;01mNone\u001b[39;00m, user_api\u001b[38;5;241m=\u001b[39m\u001b[38;5;28;01mNone\u001b[39;00m):\n\u001b[0;32m    168\u001b[0m     \u001b[38;5;28mself\u001b[39m\u001b[38;5;241m.\u001b[39m_limits, \u001b[38;5;28mself\u001b[39m\u001b[38;5;241m.\u001b[39m_user_api, \u001b[38;5;28mself\u001b[39m\u001b[38;5;241m.\u001b[39m_prefixes \u001b[38;5;241m=\u001b[39m \\\n\u001b[0;32m    169\u001b[0m         \u001b[38;5;28mself\u001b[39m\u001b[38;5;241m.\u001b[39m_check_params(limits, user_api)\n\u001b[1;32m--> 171\u001b[0m     \u001b[38;5;28mself\u001b[39m\u001b[38;5;241m.\u001b[39m_original_info \u001b[38;5;241m=\u001b[39m \u001b[38;5;28;43mself\u001b[39;49m\u001b[38;5;241;43m.\u001b[39;49m\u001b[43m_set_threadpool_limits\u001b[49m\u001b[43m(\u001b[49m\u001b[43m)\u001b[49m\n",
      "File \u001b[1;32m~\\anaconda3\\lib\\site-packages\\threadpoolctl.py:268\u001b[0m, in \u001b[0;36mthreadpool_limits._set_threadpool_limits\u001b[1;34m(self)\u001b[0m\n\u001b[0;32m    265\u001b[0m \u001b[38;5;28;01mif\u001b[39;00m \u001b[38;5;28mself\u001b[39m\u001b[38;5;241m.\u001b[39m_limits \u001b[38;5;129;01mis\u001b[39;00m \u001b[38;5;28;01mNone\u001b[39;00m:\n\u001b[0;32m    266\u001b[0m     \u001b[38;5;28;01mreturn\u001b[39;00m \u001b[38;5;28;01mNone\u001b[39;00m\n\u001b[1;32m--> 268\u001b[0m modules \u001b[38;5;241m=\u001b[39m \u001b[43m_ThreadpoolInfo\u001b[49m\u001b[43m(\u001b[49m\u001b[43mprefixes\u001b[49m\u001b[38;5;241;43m=\u001b[39;49m\u001b[38;5;28;43mself\u001b[39;49m\u001b[38;5;241;43m.\u001b[39;49m\u001b[43m_prefixes\u001b[49m\u001b[43m,\u001b[49m\n\u001b[0;32m    269\u001b[0m \u001b[43m                          \u001b[49m\u001b[43muser_api\u001b[49m\u001b[38;5;241;43m=\u001b[39;49m\u001b[38;5;28;43mself\u001b[39;49m\u001b[38;5;241;43m.\u001b[39;49m\u001b[43m_user_api\u001b[49m\u001b[43m)\u001b[49m\n\u001b[0;32m    270\u001b[0m \u001b[38;5;28;01mfor\u001b[39;00m module \u001b[38;5;129;01min\u001b[39;00m modules:\n\u001b[0;32m    271\u001b[0m     \u001b[38;5;66;03m# self._limits is a dict {key: num_threads} where key is either\u001b[39;00m\n\u001b[0;32m    272\u001b[0m     \u001b[38;5;66;03m# a prefix or a user_api. If a module matches both, the limit\u001b[39;00m\n\u001b[0;32m    273\u001b[0m     \u001b[38;5;66;03m# corresponding to the prefix is chosed.\u001b[39;00m\n\u001b[0;32m    274\u001b[0m     \u001b[38;5;28;01mif\u001b[39;00m module\u001b[38;5;241m.\u001b[39mprefix \u001b[38;5;129;01min\u001b[39;00m \u001b[38;5;28mself\u001b[39m\u001b[38;5;241m.\u001b[39m_limits:\n",
      "File \u001b[1;32m~\\anaconda3\\lib\\site-packages\\threadpoolctl.py:340\u001b[0m, in \u001b[0;36m_ThreadpoolInfo.__init__\u001b[1;34m(self, user_api, prefixes, modules)\u001b[0m\n\u001b[0;32m    337\u001b[0m     \u001b[38;5;28mself\u001b[39m\u001b[38;5;241m.\u001b[39muser_api \u001b[38;5;241m=\u001b[39m [] \u001b[38;5;28;01mif\u001b[39;00m user_api \u001b[38;5;129;01mis\u001b[39;00m \u001b[38;5;28;01mNone\u001b[39;00m \u001b[38;5;28;01melse\u001b[39;00m user_api\n\u001b[0;32m    339\u001b[0m     \u001b[38;5;28mself\u001b[39m\u001b[38;5;241m.\u001b[39mmodules \u001b[38;5;241m=\u001b[39m []\n\u001b[1;32m--> 340\u001b[0m     \u001b[38;5;28;43mself\u001b[39;49m\u001b[38;5;241;43m.\u001b[39;49m\u001b[43m_load_modules\u001b[49m\u001b[43m(\u001b[49m\u001b[43m)\u001b[49m\n\u001b[0;32m    341\u001b[0m     \u001b[38;5;28mself\u001b[39m\u001b[38;5;241m.\u001b[39m_warn_if_incompatible_openmp()\n\u001b[0;32m    342\u001b[0m \u001b[38;5;28;01melse\u001b[39;00m:\n",
      "File \u001b[1;32m~\\anaconda3\\lib\\site-packages\\threadpoolctl.py:373\u001b[0m, in \u001b[0;36m_ThreadpoolInfo._load_modules\u001b[1;34m(self)\u001b[0m\n\u001b[0;32m    371\u001b[0m     \u001b[38;5;28mself\u001b[39m\u001b[38;5;241m.\u001b[39m_find_modules_with_dyld()\n\u001b[0;32m    372\u001b[0m \u001b[38;5;28;01melif\u001b[39;00m sys\u001b[38;5;241m.\u001b[39mplatform \u001b[38;5;241m==\u001b[39m \u001b[38;5;124m\"\u001b[39m\u001b[38;5;124mwin32\u001b[39m\u001b[38;5;124m\"\u001b[39m:\n\u001b[1;32m--> 373\u001b[0m     \u001b[38;5;28;43mself\u001b[39;49m\u001b[38;5;241;43m.\u001b[39;49m\u001b[43m_find_modules_with_enum_process_module_ex\u001b[49m\u001b[43m(\u001b[49m\u001b[43m)\u001b[49m\n\u001b[0;32m    374\u001b[0m \u001b[38;5;28;01melse\u001b[39;00m:\n\u001b[0;32m    375\u001b[0m     \u001b[38;5;28mself\u001b[39m\u001b[38;5;241m.\u001b[39m_find_modules_with_dl_iterate_phdr()\n",
      "File \u001b[1;32m~\\anaconda3\\lib\\site-packages\\threadpoolctl.py:485\u001b[0m, in \u001b[0;36m_ThreadpoolInfo._find_modules_with_enum_process_module_ex\u001b[1;34m(self)\u001b[0m\n\u001b[0;32m    482\u001b[0m         filepath \u001b[38;5;241m=\u001b[39m buf\u001b[38;5;241m.\u001b[39mvalue\n\u001b[0;32m    484\u001b[0m         \u001b[38;5;66;03m# Store the module if it is supported and selected\u001b[39;00m\n\u001b[1;32m--> 485\u001b[0m         \u001b[38;5;28;43mself\u001b[39;49m\u001b[38;5;241;43m.\u001b[39;49m\u001b[43m_make_module_from_path\u001b[49m\u001b[43m(\u001b[49m\u001b[43mfilepath\u001b[49m\u001b[43m)\u001b[49m\n\u001b[0;32m    486\u001b[0m \u001b[38;5;28;01mfinally\u001b[39;00m:\n\u001b[0;32m    487\u001b[0m     kernel_32\u001b[38;5;241m.\u001b[39mCloseHandle(h_process)\n",
      "File \u001b[1;32m~\\anaconda3\\lib\\site-packages\\threadpoolctl.py:515\u001b[0m, in \u001b[0;36m_ThreadpoolInfo._make_module_from_path\u001b[1;34m(self, filepath)\u001b[0m\n\u001b[0;32m    513\u001b[0m \u001b[38;5;28;01mif\u001b[39;00m prefix \u001b[38;5;129;01min\u001b[39;00m \u001b[38;5;28mself\u001b[39m\u001b[38;5;241m.\u001b[39mprefixes \u001b[38;5;129;01mor\u001b[39;00m user_api \u001b[38;5;129;01min\u001b[39;00m \u001b[38;5;28mself\u001b[39m\u001b[38;5;241m.\u001b[39muser_api:\n\u001b[0;32m    514\u001b[0m     module_class \u001b[38;5;241m=\u001b[39m \u001b[38;5;28mglobals\u001b[39m()[module_class]\n\u001b[1;32m--> 515\u001b[0m     module \u001b[38;5;241m=\u001b[39m \u001b[43mmodule_class\u001b[49m\u001b[43m(\u001b[49m\u001b[43mfilepath\u001b[49m\u001b[43m,\u001b[49m\u001b[43m \u001b[49m\u001b[43mprefix\u001b[49m\u001b[43m,\u001b[49m\u001b[43m \u001b[49m\u001b[43muser_api\u001b[49m\u001b[43m,\u001b[49m\u001b[43m \u001b[49m\u001b[43minternal_api\u001b[49m\u001b[43m)\u001b[49m\n\u001b[0;32m    516\u001b[0m     \u001b[38;5;28mself\u001b[39m\u001b[38;5;241m.\u001b[39mmodules\u001b[38;5;241m.\u001b[39mappend(module)\n",
      "File \u001b[1;32m~\\anaconda3\\lib\\site-packages\\threadpoolctl.py:606\u001b[0m, in \u001b[0;36m_Module.__init__\u001b[1;34m(self, filepath, prefix, user_api, internal_api)\u001b[0m\n\u001b[0;32m    604\u001b[0m \u001b[38;5;28mself\u001b[39m\u001b[38;5;241m.\u001b[39minternal_api \u001b[38;5;241m=\u001b[39m internal_api\n\u001b[0;32m    605\u001b[0m \u001b[38;5;28mself\u001b[39m\u001b[38;5;241m.\u001b[39m_dynlib \u001b[38;5;241m=\u001b[39m ctypes\u001b[38;5;241m.\u001b[39mCDLL(filepath, mode\u001b[38;5;241m=\u001b[39m_RTLD_NOLOAD)\n\u001b[1;32m--> 606\u001b[0m \u001b[38;5;28mself\u001b[39m\u001b[38;5;241m.\u001b[39mversion \u001b[38;5;241m=\u001b[39m \u001b[38;5;28;43mself\u001b[39;49m\u001b[38;5;241;43m.\u001b[39;49m\u001b[43mget_version\u001b[49m\u001b[43m(\u001b[49m\u001b[43m)\u001b[49m\n\u001b[0;32m    607\u001b[0m \u001b[38;5;28mself\u001b[39m\u001b[38;5;241m.\u001b[39mnum_threads \u001b[38;5;241m=\u001b[39m \u001b[38;5;28mself\u001b[39m\u001b[38;5;241m.\u001b[39mget_num_threads()\n\u001b[0;32m    608\u001b[0m \u001b[38;5;28mself\u001b[39m\u001b[38;5;241m.\u001b[39m_get_extra_info()\n",
      "File \u001b[1;32m~\\anaconda3\\lib\\site-packages\\threadpoolctl.py:646\u001b[0m, in \u001b[0;36m_OpenBLASModule.get_version\u001b[1;34m(self)\u001b[0m\n\u001b[0;32m    643\u001b[0m get_config \u001b[38;5;241m=\u001b[39m \u001b[38;5;28mgetattr\u001b[39m(\u001b[38;5;28mself\u001b[39m\u001b[38;5;241m.\u001b[39m_dynlib, \u001b[38;5;124m\"\u001b[39m\u001b[38;5;124mopenblas_get_config\u001b[39m\u001b[38;5;124m\"\u001b[39m,\n\u001b[0;32m    644\u001b[0m                      \u001b[38;5;28;01mlambda\u001b[39;00m: \u001b[38;5;28;01mNone\u001b[39;00m)\n\u001b[0;32m    645\u001b[0m get_config\u001b[38;5;241m.\u001b[39mrestype \u001b[38;5;241m=\u001b[39m ctypes\u001b[38;5;241m.\u001b[39mc_char_p\n\u001b[1;32m--> 646\u001b[0m config \u001b[38;5;241m=\u001b[39m \u001b[43mget_config\u001b[49m\u001b[43m(\u001b[49m\u001b[43m)\u001b[49m\u001b[38;5;241;43m.\u001b[39;49m\u001b[43msplit\u001b[49m()\n\u001b[0;32m    647\u001b[0m \u001b[38;5;28;01mif\u001b[39;00m config[\u001b[38;5;241m0\u001b[39m] \u001b[38;5;241m==\u001b[39m \u001b[38;5;124mb\u001b[39m\u001b[38;5;124m\"\u001b[39m\u001b[38;5;124mOpenBLAS\u001b[39m\u001b[38;5;124m\"\u001b[39m:\n\u001b[0;32m    648\u001b[0m     \u001b[38;5;28;01mreturn\u001b[39;00m config[\u001b[38;5;241m1\u001b[39m]\u001b[38;5;241m.\u001b[39mdecode(\u001b[38;5;124m\"\u001b[39m\u001b[38;5;124mutf-8\u001b[39m\u001b[38;5;124m\"\u001b[39m)\n",
      "\u001b[1;31mAttributeError\u001b[0m: 'NoneType' object has no attribute 'split'"
     ]
    }
   ],
   "source": [
    "oversample_ori.fit_resample(X_ori, y_ori)"
   ]
  },
  {
   "cell_type": "code",
   "execution_count": 134,
   "id": "a49a5e93",
   "metadata": {},
   "outputs": [
    {
     "ename": "NameError",
     "evalue": "name 'X' is not defined",
     "output_type": "error",
     "traceback": [
      "\u001b[1;31m---------------------------------------------------------------------------\u001b[0m",
      "\u001b[1;31mNameError\u001b[0m                                 Traceback (most recent call last)",
      "Input \u001b[1;32mIn [134]\u001b[0m, in \u001b[0;36m<cell line: 1>\u001b[1;34m()\u001b[0m\n\u001b[1;32m----> 1\u001b[0m X_train, X_test, y_train, y_test \u001b[38;5;241m=\u001b[39m train_test_split(\u001b[43mX\u001b[49m, y, test_size\u001b[38;5;241m=\u001b[39m\u001b[38;5;241m0.3\u001b[39m, random_state\u001b[38;5;241m=\u001b[39m\u001b[38;5;241m2\u001b[39m)\n",
      "\u001b[1;31mNameError\u001b[0m: name 'X' is not defined"
     ]
    }
   ],
   "source": [
    "X_train, X_test, y_train, y_test = train_test_split(X, y, test_size=0.3, random_state=2)"
   ]
  },
  {
   "cell_type": "markdown",
   "id": "2031e480",
   "metadata": {},
   "source": [
    "### b. DF4: Thuat toan: Downsampling + Upsampling"
   ]
  },
  {
   "cell_type": "code",
   "execution_count": 138,
   "id": "75009ec1",
   "metadata": {},
   "outputs": [],
   "source": [
    "group_0_tree = df3[df3['nhomno_xhtdJuin2021']==0]\n",
    "group_1_tree = df3[df3['nhomno_xhtdJuin2021']==1]"
   ]
  },
  {
   "cell_type": "code",
   "execution_count": 139,
   "id": "409cb69f",
   "metadata": {},
   "outputs": [],
   "source": [
    "group0_down_tree = resample(group_0_tree,\n",
    "                   replace=True,\n",
    "                   n_samples=len(group_1_tree)+10000,\n",
    "                   random_state=42)\n",
    "df3_down = pd.concat([group0_down_tree, group_1_tree]).replace(np.nan, 0)"
   ]
  },
  {
   "cell_type": "code",
   "execution_count": 141,
   "id": "fb9042c9",
   "metadata": {},
   "outputs": [
    {
     "name": "stdout",
     "output_type": "stream",
     "text": [
      "(24073, 68)\n",
      "(1771, 68)\n"
     ]
    }
   ],
   "source": [
    "print(group_0_tree.shape)\n",
    "print(group_1_tree.shape)"
   ]
  },
  {
   "cell_type": "code",
   "execution_count": 142,
   "id": "34d2e439",
   "metadata": {},
   "outputs": [
    {
     "data": {
      "text/plain": [
       "(13542, 68)"
      ]
     },
     "execution_count": 142,
     "metadata": {},
     "output_type": "execute_result"
    }
   ],
   "source": [
    "df4_down.shape"
   ]
  },
  {
   "cell_type": "code",
   "execution_count": 146,
   "id": "2eff4c35",
   "metadata": {},
   "outputs": [],
   "source": [
    "X_model = df4_down[[\n",
    "            'amount_month','min_amount_month','distinct_payment_code_month','count_payment_code_month','distinct_ref_no_month',\n",
    "            'DUM_MALE', 'DUM_Married',\n",
    "           'DUM_Other', 'DUM_Partner', 'DUM_Seperated', 'DUM_Single', 'DUM_Widow',\n",
    "           'DUM_GIAO DICH RUT TIEN ATM', 'DUM_GIAO DICH THANH TOAN',\n",
    "           'DUM_GIAO DICH TIET KIEM', 'DUM_GIAO DICH VAY',\n",
    "           'DUM_Giao dich chuyen khoan', 'DUM_Giao dich thanh toan', 'DUM_NH',\n",
    "           'DUM_TH',\n",
    "        'categoryJuin2021', 'sectorJuin2021','balanceJuin2021','3m_to_1m_positive','nominal_interestJuin2021'\n",
    "        ]].replace(np.nan, 0)\n",
    "y_model = df4_down['nhomno_xhtdJuin2021'].astype('int')"
   ]
  },
  {
   "cell_type": "code",
   "execution_count": 147,
   "id": "293ec7a3",
   "metadata": {},
   "outputs": [
    {
     "ename": "AttributeError",
     "evalue": "'NoneType' object has no attribute 'split'",
     "output_type": "error",
     "traceback": [
      "\u001b[1;31m---------------------------------------------------------------------------\u001b[0m",
      "\u001b[1;31mAttributeError\u001b[0m                            Traceback (most recent call last)",
      "Input \u001b[1;32mIn [147]\u001b[0m, in \u001b[0;36m<cell line: 2>\u001b[1;34m()\u001b[0m\n\u001b[0;32m      1\u001b[0m oversample_down \u001b[38;5;241m=\u001b[39m SMOTE()\n\u001b[1;32m----> 2\u001b[0m X_model_bal, y_model_bal \u001b[38;5;241m=\u001b[39m \u001b[43moversample_down\u001b[49m\u001b[38;5;241;43m.\u001b[39;49m\u001b[43mfit_resample\u001b[49m\u001b[43m(\u001b[49m\u001b[43mX_model\u001b[49m\u001b[43m,\u001b[49m\u001b[43m \u001b[49m\u001b[43my_model\u001b[49m\u001b[43m)\u001b[49m\n",
      "File \u001b[1;32m~\\anaconda3\\lib\\site-packages\\imblearn\\base.py:83\u001b[0m, in \u001b[0;36mSamplerMixin.fit_resample\u001b[1;34m(self, X, y)\u001b[0m\n\u001b[0;32m     77\u001b[0m X, y, binarize_y \u001b[38;5;241m=\u001b[39m \u001b[38;5;28mself\u001b[39m\u001b[38;5;241m.\u001b[39m_check_X_y(X, y)\n\u001b[0;32m     79\u001b[0m \u001b[38;5;28mself\u001b[39m\u001b[38;5;241m.\u001b[39msampling_strategy_ \u001b[38;5;241m=\u001b[39m check_sampling_strategy(\n\u001b[0;32m     80\u001b[0m     \u001b[38;5;28mself\u001b[39m\u001b[38;5;241m.\u001b[39msampling_strategy, y, \u001b[38;5;28mself\u001b[39m\u001b[38;5;241m.\u001b[39m_sampling_type\n\u001b[0;32m     81\u001b[0m )\n\u001b[1;32m---> 83\u001b[0m output \u001b[38;5;241m=\u001b[39m \u001b[38;5;28;43mself\u001b[39;49m\u001b[38;5;241;43m.\u001b[39;49m\u001b[43m_fit_resample\u001b[49m\u001b[43m(\u001b[49m\u001b[43mX\u001b[49m\u001b[43m,\u001b[49m\u001b[43m \u001b[49m\u001b[43my\u001b[49m\u001b[43m)\u001b[49m\n\u001b[0;32m     85\u001b[0m y_ \u001b[38;5;241m=\u001b[39m (\n\u001b[0;32m     86\u001b[0m     label_binarize(output[\u001b[38;5;241m1\u001b[39m], classes\u001b[38;5;241m=\u001b[39mnp\u001b[38;5;241m.\u001b[39munique(y)) \u001b[38;5;28;01mif\u001b[39;00m binarize_y \u001b[38;5;28;01melse\u001b[39;00m output[\u001b[38;5;241m1\u001b[39m]\n\u001b[0;32m     87\u001b[0m )\n\u001b[0;32m     89\u001b[0m X_, y_ \u001b[38;5;241m=\u001b[39m arrays_transformer\u001b[38;5;241m.\u001b[39mtransform(output[\u001b[38;5;241m0\u001b[39m], y_)\n",
      "File \u001b[1;32m~\\anaconda3\\lib\\site-packages\\imblearn\\over_sampling\\_smote\\base.py:324\u001b[0m, in \u001b[0;36mSMOTE._fit_resample\u001b[1;34m(self, X, y)\u001b[0m\n\u001b[0;32m    321\u001b[0m X_class \u001b[38;5;241m=\u001b[39m _safe_indexing(X, target_class_indices)\n\u001b[0;32m    323\u001b[0m \u001b[38;5;28mself\u001b[39m\u001b[38;5;241m.\u001b[39mnn_k_\u001b[38;5;241m.\u001b[39mfit(X_class)\n\u001b[1;32m--> 324\u001b[0m nns \u001b[38;5;241m=\u001b[39m \u001b[38;5;28;43mself\u001b[39;49m\u001b[38;5;241;43m.\u001b[39;49m\u001b[43mnn_k_\u001b[49m\u001b[38;5;241;43m.\u001b[39;49m\u001b[43mkneighbors\u001b[49m\u001b[43m(\u001b[49m\u001b[43mX_class\u001b[49m\u001b[43m,\u001b[49m\u001b[43m \u001b[49m\u001b[43mreturn_distance\u001b[49m\u001b[38;5;241;43m=\u001b[39;49m\u001b[38;5;28;43;01mFalse\u001b[39;49;00m\u001b[43m)\u001b[49m[:, \u001b[38;5;241m1\u001b[39m:]\n\u001b[0;32m    325\u001b[0m X_new, y_new \u001b[38;5;241m=\u001b[39m \u001b[38;5;28mself\u001b[39m\u001b[38;5;241m.\u001b[39m_make_samples(\n\u001b[0;32m    326\u001b[0m     X_class, y\u001b[38;5;241m.\u001b[39mdtype, class_sample, X_class, nns, n_samples, \u001b[38;5;241m1.0\u001b[39m\n\u001b[0;32m    327\u001b[0m )\n\u001b[0;32m    328\u001b[0m X_resampled\u001b[38;5;241m.\u001b[39mappend(X_new)\n",
      "File \u001b[1;32m~\\anaconda3\\lib\\site-packages\\sklearn\\neighbors\\_base.py:763\u001b[0m, in \u001b[0;36mKNeighborsMixin.kneighbors\u001b[1;34m(self, X, n_neighbors, return_distance)\u001b[0m\n\u001b[0;32m    756\u001b[0m use_pairwise_distances_reductions \u001b[38;5;241m=\u001b[39m (\n\u001b[0;32m    757\u001b[0m     \u001b[38;5;28mself\u001b[39m\u001b[38;5;241m.\u001b[39m_fit_method \u001b[38;5;241m==\u001b[39m \u001b[38;5;124m\"\u001b[39m\u001b[38;5;124mbrute\u001b[39m\u001b[38;5;124m\"\u001b[39m\n\u001b[0;32m    758\u001b[0m     \u001b[38;5;129;01mand\u001b[39;00m PairwiseDistancesArgKmin\u001b[38;5;241m.\u001b[39mis_usable_for(\n\u001b[0;32m    759\u001b[0m         X \u001b[38;5;28;01mif\u001b[39;00m X \u001b[38;5;129;01mis\u001b[39;00m \u001b[38;5;129;01mnot\u001b[39;00m \u001b[38;5;28;01mNone\u001b[39;00m \u001b[38;5;28;01melse\u001b[39;00m \u001b[38;5;28mself\u001b[39m\u001b[38;5;241m.\u001b[39m_fit_X, \u001b[38;5;28mself\u001b[39m\u001b[38;5;241m.\u001b[39m_fit_X, \u001b[38;5;28mself\u001b[39m\u001b[38;5;241m.\u001b[39meffective_metric_\n\u001b[0;32m    760\u001b[0m     )\n\u001b[0;32m    761\u001b[0m )\n\u001b[0;32m    762\u001b[0m \u001b[38;5;28;01mif\u001b[39;00m use_pairwise_distances_reductions:\n\u001b[1;32m--> 763\u001b[0m     results \u001b[38;5;241m=\u001b[39m \u001b[43mPairwiseDistancesArgKmin\u001b[49m\u001b[38;5;241;43m.\u001b[39;49m\u001b[43mcompute\u001b[49m\u001b[43m(\u001b[49m\n\u001b[0;32m    764\u001b[0m \u001b[43m        \u001b[49m\u001b[43mX\u001b[49m\u001b[38;5;241;43m=\u001b[39;49m\u001b[43mX\u001b[49m\u001b[43m,\u001b[49m\n\u001b[0;32m    765\u001b[0m \u001b[43m        \u001b[49m\u001b[43mY\u001b[49m\u001b[38;5;241;43m=\u001b[39;49m\u001b[38;5;28;43mself\u001b[39;49m\u001b[38;5;241;43m.\u001b[39;49m\u001b[43m_fit_X\u001b[49m\u001b[43m,\u001b[49m\n\u001b[0;32m    766\u001b[0m \u001b[43m        \u001b[49m\u001b[43mk\u001b[49m\u001b[38;5;241;43m=\u001b[39;49m\u001b[43mn_neighbors\u001b[49m\u001b[43m,\u001b[49m\n\u001b[0;32m    767\u001b[0m \u001b[43m        \u001b[49m\u001b[43mmetric\u001b[49m\u001b[38;5;241;43m=\u001b[39;49m\u001b[38;5;28;43mself\u001b[39;49m\u001b[38;5;241;43m.\u001b[39;49m\u001b[43meffective_metric_\u001b[49m\u001b[43m,\u001b[49m\n\u001b[0;32m    768\u001b[0m \u001b[43m        \u001b[49m\u001b[43mmetric_kwargs\u001b[49m\u001b[38;5;241;43m=\u001b[39;49m\u001b[38;5;28;43mself\u001b[39;49m\u001b[38;5;241;43m.\u001b[39;49m\u001b[43meffective_metric_params_\u001b[49m\u001b[43m,\u001b[49m\n\u001b[0;32m    769\u001b[0m \u001b[43m        \u001b[49m\u001b[43mstrategy\u001b[49m\u001b[38;5;241;43m=\u001b[39;49m\u001b[38;5;124;43m\"\u001b[39;49m\u001b[38;5;124;43mauto\u001b[39;49m\u001b[38;5;124;43m\"\u001b[39;49m\u001b[43m,\u001b[49m\n\u001b[0;32m    770\u001b[0m \u001b[43m        \u001b[49m\u001b[43mreturn_distance\u001b[49m\u001b[38;5;241;43m=\u001b[39;49m\u001b[43mreturn_distance\u001b[49m\u001b[43m,\u001b[49m\n\u001b[0;32m    771\u001b[0m \u001b[43m    \u001b[49m\u001b[43m)\u001b[49m\n\u001b[0;32m    773\u001b[0m \u001b[38;5;28;01melif\u001b[39;00m (\n\u001b[0;32m    774\u001b[0m     \u001b[38;5;28mself\u001b[39m\u001b[38;5;241m.\u001b[39m_fit_method \u001b[38;5;241m==\u001b[39m \u001b[38;5;124m\"\u001b[39m\u001b[38;5;124mbrute\u001b[39m\u001b[38;5;124m\"\u001b[39m \u001b[38;5;129;01mand\u001b[39;00m \u001b[38;5;28mself\u001b[39m\u001b[38;5;241m.\u001b[39mmetric \u001b[38;5;241m==\u001b[39m \u001b[38;5;124m\"\u001b[39m\u001b[38;5;124mprecomputed\u001b[39m\u001b[38;5;124m\"\u001b[39m \u001b[38;5;129;01mand\u001b[39;00m issparse(X)\n\u001b[0;32m    775\u001b[0m ):\n\u001b[0;32m    776\u001b[0m     results \u001b[38;5;241m=\u001b[39m _kneighbors_from_graph(\n\u001b[0;32m    777\u001b[0m         X, n_neighbors\u001b[38;5;241m=\u001b[39mn_neighbors, return_distance\u001b[38;5;241m=\u001b[39mreturn_distance\n\u001b[0;32m    778\u001b[0m     )\n",
      "File \u001b[1;32msklearn\\metrics\\_pairwise_distances_reduction.pyx:691\u001b[0m, in \u001b[0;36msklearn.metrics._pairwise_distances_reduction.PairwiseDistancesArgKmin.compute\u001b[1;34m()\u001b[0m\n",
      "File \u001b[1;32m~\\anaconda3\\lib\\site-packages\\sklearn\\utils\\fixes.py:151\u001b[0m, in \u001b[0;36mthreadpool_limits\u001b[1;34m(limits, user_api)\u001b[0m\n\u001b[0;32m    149\u001b[0m     \u001b[38;5;28;01mreturn\u001b[39;00m controller\u001b[38;5;241m.\u001b[39mlimit(limits\u001b[38;5;241m=\u001b[39mlimits, user_api\u001b[38;5;241m=\u001b[39muser_api)\n\u001b[0;32m    150\u001b[0m \u001b[38;5;28;01melse\u001b[39;00m:\n\u001b[1;32m--> 151\u001b[0m     \u001b[38;5;28;01mreturn\u001b[39;00m \u001b[43mthreadpoolctl\u001b[49m\u001b[38;5;241;43m.\u001b[39;49m\u001b[43mthreadpool_limits\u001b[49m\u001b[43m(\u001b[49m\u001b[43mlimits\u001b[49m\u001b[38;5;241;43m=\u001b[39;49m\u001b[43mlimits\u001b[49m\u001b[43m,\u001b[49m\u001b[43m \u001b[49m\u001b[43muser_api\u001b[49m\u001b[38;5;241;43m=\u001b[39;49m\u001b[43muser_api\u001b[49m\u001b[43m)\u001b[49m\n",
      "File \u001b[1;32m~\\anaconda3\\lib\\site-packages\\threadpoolctl.py:171\u001b[0m, in \u001b[0;36mthreadpool_limits.__init__\u001b[1;34m(self, limits, user_api)\u001b[0m\n\u001b[0;32m    167\u001b[0m \u001b[38;5;28;01mdef\u001b[39;00m \u001b[38;5;21m__init__\u001b[39m(\u001b[38;5;28mself\u001b[39m, limits\u001b[38;5;241m=\u001b[39m\u001b[38;5;28;01mNone\u001b[39;00m, user_api\u001b[38;5;241m=\u001b[39m\u001b[38;5;28;01mNone\u001b[39;00m):\n\u001b[0;32m    168\u001b[0m     \u001b[38;5;28mself\u001b[39m\u001b[38;5;241m.\u001b[39m_limits, \u001b[38;5;28mself\u001b[39m\u001b[38;5;241m.\u001b[39m_user_api, \u001b[38;5;28mself\u001b[39m\u001b[38;5;241m.\u001b[39m_prefixes \u001b[38;5;241m=\u001b[39m \\\n\u001b[0;32m    169\u001b[0m         \u001b[38;5;28mself\u001b[39m\u001b[38;5;241m.\u001b[39m_check_params(limits, user_api)\n\u001b[1;32m--> 171\u001b[0m     \u001b[38;5;28mself\u001b[39m\u001b[38;5;241m.\u001b[39m_original_info \u001b[38;5;241m=\u001b[39m \u001b[38;5;28;43mself\u001b[39;49m\u001b[38;5;241;43m.\u001b[39;49m\u001b[43m_set_threadpool_limits\u001b[49m\u001b[43m(\u001b[49m\u001b[43m)\u001b[49m\n",
      "File \u001b[1;32m~\\anaconda3\\lib\\site-packages\\threadpoolctl.py:268\u001b[0m, in \u001b[0;36mthreadpool_limits._set_threadpool_limits\u001b[1;34m(self)\u001b[0m\n\u001b[0;32m    265\u001b[0m \u001b[38;5;28;01mif\u001b[39;00m \u001b[38;5;28mself\u001b[39m\u001b[38;5;241m.\u001b[39m_limits \u001b[38;5;129;01mis\u001b[39;00m \u001b[38;5;28;01mNone\u001b[39;00m:\n\u001b[0;32m    266\u001b[0m     \u001b[38;5;28;01mreturn\u001b[39;00m \u001b[38;5;28;01mNone\u001b[39;00m\n\u001b[1;32m--> 268\u001b[0m modules \u001b[38;5;241m=\u001b[39m \u001b[43m_ThreadpoolInfo\u001b[49m\u001b[43m(\u001b[49m\u001b[43mprefixes\u001b[49m\u001b[38;5;241;43m=\u001b[39;49m\u001b[38;5;28;43mself\u001b[39;49m\u001b[38;5;241;43m.\u001b[39;49m\u001b[43m_prefixes\u001b[49m\u001b[43m,\u001b[49m\n\u001b[0;32m    269\u001b[0m \u001b[43m                          \u001b[49m\u001b[43muser_api\u001b[49m\u001b[38;5;241;43m=\u001b[39;49m\u001b[38;5;28;43mself\u001b[39;49m\u001b[38;5;241;43m.\u001b[39;49m\u001b[43m_user_api\u001b[49m\u001b[43m)\u001b[49m\n\u001b[0;32m    270\u001b[0m \u001b[38;5;28;01mfor\u001b[39;00m module \u001b[38;5;129;01min\u001b[39;00m modules:\n\u001b[0;32m    271\u001b[0m     \u001b[38;5;66;03m# self._limits is a dict {key: num_threads} where key is either\u001b[39;00m\n\u001b[0;32m    272\u001b[0m     \u001b[38;5;66;03m# a prefix or a user_api. If a module matches both, the limit\u001b[39;00m\n\u001b[0;32m    273\u001b[0m     \u001b[38;5;66;03m# corresponding to the prefix is chosed.\u001b[39;00m\n\u001b[0;32m    274\u001b[0m     \u001b[38;5;28;01mif\u001b[39;00m module\u001b[38;5;241m.\u001b[39mprefix \u001b[38;5;129;01min\u001b[39;00m \u001b[38;5;28mself\u001b[39m\u001b[38;5;241m.\u001b[39m_limits:\n",
      "File \u001b[1;32m~\\anaconda3\\lib\\site-packages\\threadpoolctl.py:340\u001b[0m, in \u001b[0;36m_ThreadpoolInfo.__init__\u001b[1;34m(self, user_api, prefixes, modules)\u001b[0m\n\u001b[0;32m    337\u001b[0m     \u001b[38;5;28mself\u001b[39m\u001b[38;5;241m.\u001b[39muser_api \u001b[38;5;241m=\u001b[39m [] \u001b[38;5;28;01mif\u001b[39;00m user_api \u001b[38;5;129;01mis\u001b[39;00m \u001b[38;5;28;01mNone\u001b[39;00m \u001b[38;5;28;01melse\u001b[39;00m user_api\n\u001b[0;32m    339\u001b[0m     \u001b[38;5;28mself\u001b[39m\u001b[38;5;241m.\u001b[39mmodules \u001b[38;5;241m=\u001b[39m []\n\u001b[1;32m--> 340\u001b[0m     \u001b[38;5;28;43mself\u001b[39;49m\u001b[38;5;241;43m.\u001b[39;49m\u001b[43m_load_modules\u001b[49m\u001b[43m(\u001b[49m\u001b[43m)\u001b[49m\n\u001b[0;32m    341\u001b[0m     \u001b[38;5;28mself\u001b[39m\u001b[38;5;241m.\u001b[39m_warn_if_incompatible_openmp()\n\u001b[0;32m    342\u001b[0m \u001b[38;5;28;01melse\u001b[39;00m:\n",
      "File \u001b[1;32m~\\anaconda3\\lib\\site-packages\\threadpoolctl.py:373\u001b[0m, in \u001b[0;36m_ThreadpoolInfo._load_modules\u001b[1;34m(self)\u001b[0m\n\u001b[0;32m    371\u001b[0m     \u001b[38;5;28mself\u001b[39m\u001b[38;5;241m.\u001b[39m_find_modules_with_dyld()\n\u001b[0;32m    372\u001b[0m \u001b[38;5;28;01melif\u001b[39;00m sys\u001b[38;5;241m.\u001b[39mplatform \u001b[38;5;241m==\u001b[39m \u001b[38;5;124m\"\u001b[39m\u001b[38;5;124mwin32\u001b[39m\u001b[38;5;124m\"\u001b[39m:\n\u001b[1;32m--> 373\u001b[0m     \u001b[38;5;28;43mself\u001b[39;49m\u001b[38;5;241;43m.\u001b[39;49m\u001b[43m_find_modules_with_enum_process_module_ex\u001b[49m\u001b[43m(\u001b[49m\u001b[43m)\u001b[49m\n\u001b[0;32m    374\u001b[0m \u001b[38;5;28;01melse\u001b[39;00m:\n\u001b[0;32m    375\u001b[0m     \u001b[38;5;28mself\u001b[39m\u001b[38;5;241m.\u001b[39m_find_modules_with_dl_iterate_phdr()\n",
      "File \u001b[1;32m~\\anaconda3\\lib\\site-packages\\threadpoolctl.py:485\u001b[0m, in \u001b[0;36m_ThreadpoolInfo._find_modules_with_enum_process_module_ex\u001b[1;34m(self)\u001b[0m\n\u001b[0;32m    482\u001b[0m         filepath \u001b[38;5;241m=\u001b[39m buf\u001b[38;5;241m.\u001b[39mvalue\n\u001b[0;32m    484\u001b[0m         \u001b[38;5;66;03m# Store the module if it is supported and selected\u001b[39;00m\n\u001b[1;32m--> 485\u001b[0m         \u001b[38;5;28;43mself\u001b[39;49m\u001b[38;5;241;43m.\u001b[39;49m\u001b[43m_make_module_from_path\u001b[49m\u001b[43m(\u001b[49m\u001b[43mfilepath\u001b[49m\u001b[43m)\u001b[49m\n\u001b[0;32m    486\u001b[0m \u001b[38;5;28;01mfinally\u001b[39;00m:\n\u001b[0;32m    487\u001b[0m     kernel_32\u001b[38;5;241m.\u001b[39mCloseHandle(h_process)\n",
      "File \u001b[1;32m~\\anaconda3\\lib\\site-packages\\threadpoolctl.py:515\u001b[0m, in \u001b[0;36m_ThreadpoolInfo._make_module_from_path\u001b[1;34m(self, filepath)\u001b[0m\n\u001b[0;32m    513\u001b[0m \u001b[38;5;28;01mif\u001b[39;00m prefix \u001b[38;5;129;01min\u001b[39;00m \u001b[38;5;28mself\u001b[39m\u001b[38;5;241m.\u001b[39mprefixes \u001b[38;5;129;01mor\u001b[39;00m user_api \u001b[38;5;129;01min\u001b[39;00m \u001b[38;5;28mself\u001b[39m\u001b[38;5;241m.\u001b[39muser_api:\n\u001b[0;32m    514\u001b[0m     module_class \u001b[38;5;241m=\u001b[39m \u001b[38;5;28mglobals\u001b[39m()[module_class]\n\u001b[1;32m--> 515\u001b[0m     module \u001b[38;5;241m=\u001b[39m \u001b[43mmodule_class\u001b[49m\u001b[43m(\u001b[49m\u001b[43mfilepath\u001b[49m\u001b[43m,\u001b[49m\u001b[43m \u001b[49m\u001b[43mprefix\u001b[49m\u001b[43m,\u001b[49m\u001b[43m \u001b[49m\u001b[43muser_api\u001b[49m\u001b[43m,\u001b[49m\u001b[43m \u001b[49m\u001b[43minternal_api\u001b[49m\u001b[43m)\u001b[49m\n\u001b[0;32m    516\u001b[0m     \u001b[38;5;28mself\u001b[39m\u001b[38;5;241m.\u001b[39mmodules\u001b[38;5;241m.\u001b[39mappend(module)\n",
      "File \u001b[1;32m~\\anaconda3\\lib\\site-packages\\threadpoolctl.py:606\u001b[0m, in \u001b[0;36m_Module.__init__\u001b[1;34m(self, filepath, prefix, user_api, internal_api)\u001b[0m\n\u001b[0;32m    604\u001b[0m \u001b[38;5;28mself\u001b[39m\u001b[38;5;241m.\u001b[39minternal_api \u001b[38;5;241m=\u001b[39m internal_api\n\u001b[0;32m    605\u001b[0m \u001b[38;5;28mself\u001b[39m\u001b[38;5;241m.\u001b[39m_dynlib \u001b[38;5;241m=\u001b[39m ctypes\u001b[38;5;241m.\u001b[39mCDLL(filepath, mode\u001b[38;5;241m=\u001b[39m_RTLD_NOLOAD)\n\u001b[1;32m--> 606\u001b[0m \u001b[38;5;28mself\u001b[39m\u001b[38;5;241m.\u001b[39mversion \u001b[38;5;241m=\u001b[39m \u001b[38;5;28;43mself\u001b[39;49m\u001b[38;5;241;43m.\u001b[39;49m\u001b[43mget_version\u001b[49m\u001b[43m(\u001b[49m\u001b[43m)\u001b[49m\n\u001b[0;32m    607\u001b[0m \u001b[38;5;28mself\u001b[39m\u001b[38;5;241m.\u001b[39mnum_threads \u001b[38;5;241m=\u001b[39m \u001b[38;5;28mself\u001b[39m\u001b[38;5;241m.\u001b[39mget_num_threads()\n\u001b[0;32m    608\u001b[0m \u001b[38;5;28mself\u001b[39m\u001b[38;5;241m.\u001b[39m_get_extra_info()\n",
      "File \u001b[1;32m~\\anaconda3\\lib\\site-packages\\threadpoolctl.py:646\u001b[0m, in \u001b[0;36m_OpenBLASModule.get_version\u001b[1;34m(self)\u001b[0m\n\u001b[0;32m    643\u001b[0m get_config \u001b[38;5;241m=\u001b[39m \u001b[38;5;28mgetattr\u001b[39m(\u001b[38;5;28mself\u001b[39m\u001b[38;5;241m.\u001b[39m_dynlib, \u001b[38;5;124m\"\u001b[39m\u001b[38;5;124mopenblas_get_config\u001b[39m\u001b[38;5;124m\"\u001b[39m,\n\u001b[0;32m    644\u001b[0m                      \u001b[38;5;28;01mlambda\u001b[39;00m: \u001b[38;5;28;01mNone\u001b[39;00m)\n\u001b[0;32m    645\u001b[0m get_config\u001b[38;5;241m.\u001b[39mrestype \u001b[38;5;241m=\u001b[39m ctypes\u001b[38;5;241m.\u001b[39mc_char_p\n\u001b[1;32m--> 646\u001b[0m config \u001b[38;5;241m=\u001b[39m \u001b[43mget_config\u001b[49m\u001b[43m(\u001b[49m\u001b[43m)\u001b[49m\u001b[38;5;241;43m.\u001b[39;49m\u001b[43msplit\u001b[49m()\n\u001b[0;32m    647\u001b[0m \u001b[38;5;28;01mif\u001b[39;00m config[\u001b[38;5;241m0\u001b[39m] \u001b[38;5;241m==\u001b[39m \u001b[38;5;124mb\u001b[39m\u001b[38;5;124m\"\u001b[39m\u001b[38;5;124mOpenBLAS\u001b[39m\u001b[38;5;124m\"\u001b[39m:\n\u001b[0;32m    648\u001b[0m     \u001b[38;5;28;01mreturn\u001b[39;00m config[\u001b[38;5;241m1\u001b[39m]\u001b[38;5;241m.\u001b[39mdecode(\u001b[38;5;124m\"\u001b[39m\u001b[38;5;124mutf-8\u001b[39m\u001b[38;5;124m\"\u001b[39m)\n",
      "\u001b[1;31mAttributeError\u001b[0m: 'NoneType' object has no attribute 'split'"
     ]
    }
   ],
   "source": [
    "oversample_down = SMOTE()\n",
    "X_model_bal, y_model_bal = oversample_down.fit_resample(X_model, y_model)"
   ]
  },
  {
   "cell_type": "code",
   "execution_count": 74,
   "id": "eace0ea4",
   "metadata": {},
   "outputs": [],
   "source": [
    "X_bal_train, X_bal_test, y_bal_train, y_bal_test = train_test_split(X_model_bal, y_model_bal, test_size=0.3, random_state=2)"
   ]
  },
  {
   "cell_type": "markdown",
   "id": "0f67866e",
   "metadata": {},
   "source": [
    "# 4.2. Decision Tree: Classification"
   ]
  },
  {
   "cell_type": "markdown",
   "id": "aebe2f4c",
   "metadata": {},
   "source": [
    "### a. Dùng các parameters mặc định:"
   ]
  },
  {
   "cell_type": "markdown",
   "id": "6af9b362",
   "metadata": {},
   "source": [
    "##### (1) Train model"
   ]
  },
  {
   "cell_type": "code",
   "execution_count": 148,
   "id": "d4dce097",
   "metadata": {},
   "outputs": [
    {
     "ename": "NameError",
     "evalue": "name 'X_train' is not defined",
     "output_type": "error",
     "traceback": [
      "\u001b[1;31m---------------------------------------------------------------------------\u001b[0m",
      "\u001b[1;31mNameError\u001b[0m                                 Traceback (most recent call last)",
      "Input \u001b[1;32mIn [148]\u001b[0m, in \u001b[0;36m<cell line: 4>\u001b[1;34m()\u001b[0m\n\u001b[0;32m      1\u001b[0m \u001b[38;5;66;03m# Decision Tree: Gini\u001b[39;00m\n\u001b[0;32m      3\u001b[0m clf_tree_gini \u001b[38;5;241m=\u001b[39m tree\u001b[38;5;241m.\u001b[39mDecisionTreeClassifier(criterion \u001b[38;5;241m=\u001b[39m \u001b[38;5;124m\"\u001b[39m\u001b[38;5;124mgini\u001b[39m\u001b[38;5;124m\"\u001b[39m, random_state \u001b[38;5;241m=\u001b[39m \u001b[38;5;241m42\u001b[39m)\n\u001b[1;32m----> 4\u001b[0m clf_tree_gini\u001b[38;5;241m.\u001b[39mfit(\u001b[43mX_train\u001b[49m, y_train)\n",
      "\u001b[1;31mNameError\u001b[0m: name 'X_train' is not defined"
     ]
    }
   ],
   "source": [
    "# Decision Tree: Gini\n",
    "\n",
    "clf_tree_gini = tree.DecisionTreeClassifier(criterion = \"gini\", random_state = 42)\n",
    "clf_tree_gini.fit(X_train, y_train)"
   ]
  },
  {
   "cell_type": "code",
   "execution_count": 76,
   "id": "d1064a9e",
   "metadata": {},
   "outputs": [
    {
     "data": {
      "text/plain": [
       "36"
      ]
     },
     "execution_count": 76,
     "metadata": {},
     "output_type": "execute_result"
    }
   ],
   "source": [
    "clf_tree_gini.tree_.max_depth"
   ]
  },
  {
   "cell_type": "code",
   "execution_count": 77,
   "id": "8aaeb2f0",
   "metadata": {},
   "outputs": [
    {
     "data": {
      "text/plain": [
       "3023"
      ]
     },
     "execution_count": 77,
     "metadata": {},
     "output_type": "execute_result"
    }
   ],
   "source": [
    "clf_tree_gini.tree_.node_count"
   ]
  },
  {
   "cell_type": "code",
   "execution_count": 78,
   "id": "cda4ee02",
   "metadata": {},
   "outputs": [],
   "source": [
    "yhat_tree_gini = clf_tree_gini.predict(X_test)"
   ]
  },
  {
   "cell_type": "code",
   "execution_count": 79,
   "id": "efe44f47",
   "metadata": {},
   "outputs": [
    {
     "data": {
      "text/plain": [
       "array([[6827,  374],\n",
       "       [ 250, 6995]], dtype=int64)"
      ]
     },
     "execution_count": 79,
     "metadata": {},
     "output_type": "execute_result"
    }
   ],
   "source": [
    "confusion_matrix(y_test, yhat_tree_gini)"
   ]
  },
  {
   "cell_type": "code",
   "execution_count": 80,
   "id": "91768763",
   "metadata": {},
   "outputs": [
    {
     "data": {
      "text/plain": [
       "95.68"
      ]
     },
     "execution_count": 80,
     "metadata": {},
     "output_type": "execute_result"
    }
   ],
   "source": [
    "round(accuracy_score(y_test,yhat_tree_gini)*100,2)"
   ]
  },
  {
   "cell_type": "code",
   "execution_count": 81,
   "id": "4e79dde0",
   "metadata": {},
   "outputs": [
    {
     "name": "stdout",
     "output_type": "stream",
     "text": [
      "              precision    recall  f1-score   support\n",
      "\n",
      "           0       0.96      0.95      0.96      7201\n",
      "           1       0.95      0.97      0.96      7245\n",
      "\n",
      "    accuracy                           0.96     14446\n",
      "   macro avg       0.96      0.96      0.96     14446\n",
      "weighted avg       0.96      0.96      0.96     14446\n",
      "\n"
     ]
    }
   ],
   "source": [
    "print(classification_report(y_test, yhat_tree_gini))"
   ]
  },
  {
   "cell_type": "markdown",
   "id": "87da048d",
   "metadata": {},
   "source": [
    "fig = plt.figure(figsize=(25,20))\n",
    "_ = tree.plot_tree(clf_tree_gini, \n",
    "                   feature_names=X_train.columns,  \n",
    "                   class_names=y_train.name,\n",
    "                   filled=True)"
   ]
  },
  {
   "cell_type": "markdown",
   "id": "748027bf",
   "metadata": {},
   "source": [
    "##### (2) Test trên toàn bộ dataset"
   ]
  },
  {
   "cell_type": "code",
   "execution_count": 82,
   "id": "fd23b4c1",
   "metadata": {},
   "outputs": [],
   "source": [
    "yhat_tree_gini_full = clf_tree_gini.predict(X_ori)"
   ]
  },
  {
   "cell_type": "code",
   "execution_count": 83,
   "id": "e7ee3361",
   "metadata": {},
   "outputs": [
    {
     "data": {
      "text/plain": [
       "array([[23702,   374],\n",
       "       [   37,  1734]], dtype=int64)"
      ]
     },
     "execution_count": 83,
     "metadata": {},
     "output_type": "execute_result"
    }
   ],
   "source": [
    "confusion_matrix(y_ori, yhat_tree_gini_full)"
   ]
  },
  {
   "cell_type": "code",
   "execution_count": 84,
   "id": "85d6747d",
   "metadata": {},
   "outputs": [
    {
     "data": {
      "text/plain": [
       "98.40987348628467"
      ]
     },
     "execution_count": 84,
     "metadata": {},
     "output_type": "execute_result"
    }
   ],
   "source": [
    "accuracy_score(y_ori,yhat_tree_gini_full)*100"
   ]
  },
  {
   "cell_type": "code",
   "execution_count": 85,
   "id": "1d89287c",
   "metadata": {},
   "outputs": [
    {
     "name": "stdout",
     "output_type": "stream",
     "text": [
      "              precision    recall  f1-score   support\n",
      "\n",
      "           0       1.00      0.98      0.99     24076\n",
      "           1       0.82      0.98      0.89      1771\n",
      "\n",
      "    accuracy                           0.98     25847\n",
      "   macro avg       0.91      0.98      0.94     25847\n",
      "weighted avg       0.99      0.98      0.98     25847\n",
      "\n"
     ]
    }
   ],
   "source": [
    "print(classification_report(y_ori, yhat_tree_gini_full))"
   ]
  },
  {
   "cell_type": "markdown",
   "id": "49d91b89",
   "metadata": {},
   "source": [
    "### b. Giảm độ phức tạp của mô hình"
   ]
  },
  {
   "cell_type": "markdown",
   "id": "09e84313",
   "metadata": {},
   "source": [
    "##### (1) Train model"
   ]
  },
  {
   "cell_type": "markdown",
   "id": "2ddfacf6",
   "metadata": {},
   "source": [
    "min_samples_split=10"
   ]
  },
  {
   "cell_type": "code",
   "execution_count": 86,
   "id": "f6408991",
   "metadata": {},
   "outputs": [
    {
     "data": {
      "text/plain": [
       "DecisionTreeClassifier(max_features=3, random_state=42)"
      ]
     },
     "execution_count": 86,
     "metadata": {},
     "output_type": "execute_result"
    }
   ],
   "source": [
    "# Decision Tree: Gini\n",
    "\n",
    "clf_tree_gini_depth = tree.DecisionTreeClassifier(criterion = \"gini\", max_features=3, random_state=42)\n",
    "clf_tree_gini_depth.fit(X_train, y_train)"
   ]
  },
  {
   "cell_type": "code",
   "execution_count": 87,
   "id": "1ca9d62b",
   "metadata": {},
   "outputs": [],
   "source": [
    "yhat_tree_gini_depth = clf_tree_gini_depth.predict(X_test)"
   ]
  },
  {
   "cell_type": "code",
   "execution_count": 88,
   "id": "49f2d8b3",
   "metadata": {},
   "outputs": [
    {
     "data": {
      "text/plain": [
       "array([[6732,  469],\n",
       "       [ 312, 6933]], dtype=int64)"
      ]
     },
     "execution_count": 88,
     "metadata": {},
     "output_type": "execute_result"
    }
   ],
   "source": [
    "confusion_matrix(y_test, yhat_tree_gini_depth)"
   ]
  },
  {
   "cell_type": "code",
   "execution_count": 89,
   "id": "2835b9dd",
   "metadata": {
    "scrolled": true
   },
   "outputs": [
    {
     "name": "stdout",
     "output_type": "stream",
     "text": [
      "              precision    recall  f1-score   support\n",
      "\n",
      "           0       0.96      0.93      0.95      7201\n",
      "           1       0.94      0.96      0.95      7245\n",
      "\n",
      "    accuracy                           0.95     14446\n",
      "   macro avg       0.95      0.95      0.95     14446\n",
      "weighted avg       0.95      0.95      0.95     14446\n",
      "\n"
     ]
    }
   ],
   "source": [
    "print(classification_report(y_test, yhat_tree_gini_depth))"
   ]
  },
  {
   "cell_type": "markdown",
   "id": "217c836e",
   "metadata": {},
   "source": [
    "##### (2) Test trên toàn bộ dataset"
   ]
  },
  {
   "cell_type": "code",
   "execution_count": 90,
   "id": "6a7978b3",
   "metadata": {},
   "outputs": [],
   "source": [
    "yhat_tree_gini_depth_full = clf_tree_gini_depth.predict(X_ori)"
   ]
  },
  {
   "cell_type": "code",
   "execution_count": 91,
   "id": "836ac0af",
   "metadata": {},
   "outputs": [
    {
     "data": {
      "text/plain": [
       "array([[23572,   504],\n",
       "       [   60,  1711]], dtype=int64)"
      ]
     },
     "execution_count": 91,
     "metadata": {},
     "output_type": "execute_result"
    }
   ],
   "source": [
    "confusion_matrix(y_ori, yhat_tree_gini_depth_full)"
   ]
  },
  {
   "cell_type": "code",
   "execution_count": 92,
   "id": "fcfeb8ca",
   "metadata": {},
   "outputs": [
    {
     "data": {
      "text/plain": [
       "97.81792857971911"
      ]
     },
     "execution_count": 92,
     "metadata": {},
     "output_type": "execute_result"
    }
   ],
   "source": [
    "accuracy_score(y_ori,yhat_tree_gini_depth_full)*100"
   ]
  },
  {
   "cell_type": "code",
   "execution_count": 93,
   "id": "56f6e492",
   "metadata": {},
   "outputs": [
    {
     "name": "stdout",
     "output_type": "stream",
     "text": [
      "              precision    recall  f1-score   support\n",
      "\n",
      "           0       1.00      0.98      0.99     24076\n",
      "           1       0.77      0.97      0.86      1771\n",
      "\n",
      "    accuracy                           0.98     25847\n",
      "   macro avg       0.88      0.97      0.92     25847\n",
      "weighted avg       0.98      0.98      0.98     25847\n",
      "\n"
     ]
    }
   ],
   "source": [
    "print(classification_report(y_ori, yhat_tree_gini_depth_full))"
   ]
  },
  {
   "cell_type": "markdown",
   "id": "b149d6c6",
   "metadata": {},
   "source": [
    "### c. Bagging"
   ]
  },
  {
   "cell_type": "code",
   "execution_count": 94,
   "id": "7357b1cc",
   "metadata": {},
   "outputs": [
    {
     "data": {
      "text/plain": [
       "BaggingClassifier()"
      ]
     },
     "execution_count": 94,
     "metadata": {},
     "output_type": "execute_result"
    }
   ],
   "source": [
    "bagging = BaggingClassifier()\n",
    "cv = RepeatedStratifiedKFold(n_splits=10, n_repeats=3, random_state=1)\n",
    "n_scores = cross_val_score(bagging, X_train, y_train, scoring='accuracy', cv=cv, n_jobs=-1, error_score='raise')\n",
    "bagging.fit(X_train, y_train)"
   ]
  },
  {
   "cell_type": "code",
   "execution_count": 95,
   "id": "0fe5f91b",
   "metadata": {},
   "outputs": [
    {
     "name": "stdout",
     "output_type": "stream",
     "text": [
      "Accuracy: 0.971 (0.004)\n"
     ]
    }
   ],
   "source": [
    "print('Accuracy: %.3f (%.3f)' % (np.mean(n_scores), np.std(n_scores)))"
   ]
  },
  {
   "cell_type": "code",
   "execution_count": 96,
   "id": "b6805446",
   "metadata": {},
   "outputs": [],
   "source": [
    "yhat_test_bagging = bagging.predict(X_test)"
   ]
  },
  {
   "cell_type": "code",
   "execution_count": 97,
   "id": "ada0b675",
   "metadata": {},
   "outputs": [
    {
     "data": {
      "text/plain": [
       "array([[6987,  214],\n",
       "       [ 147, 7098]], dtype=int64)"
      ]
     },
     "execution_count": 97,
     "metadata": {},
     "output_type": "execute_result"
    }
   ],
   "source": [
    "confusion_matrix(y_test, yhat_test_bagging)"
   ]
  },
  {
   "cell_type": "code",
   "execution_count": 98,
   "id": "803a9c54",
   "metadata": {},
   "outputs": [
    {
     "name": "stdout",
     "output_type": "stream",
     "text": [
      "              precision    recall  f1-score   support\n",
      "\n",
      "           0       0.98      0.97      0.97      7201\n",
      "           1       0.97      0.98      0.98      7245\n",
      "\n",
      "    accuracy                           0.98     14446\n",
      "   macro avg       0.98      0.97      0.98     14446\n",
      "weighted avg       0.98      0.98      0.98     14446\n",
      "\n"
     ]
    }
   ],
   "source": [
    "print(classification_report(y_test, yhat_test_bagging))"
   ]
  },
  {
   "cell_type": "code",
   "execution_count": 99,
   "id": "b5658c90",
   "metadata": {},
   "outputs": [],
   "source": [
    "yhat_test_ori = bagging.predict(X_ori)"
   ]
  },
  {
   "cell_type": "code",
   "execution_count": 100,
   "id": "35018e99",
   "metadata": {},
   "outputs": [
    {
     "data": {
      "text/plain": [
       "array([[23850,   226],\n",
       "       [   45,  1726]], dtype=int64)"
      ]
     },
     "execution_count": 100,
     "metadata": {},
     "output_type": "execute_result"
    }
   ],
   "source": [
    "confusion_matrix(y_ori, yhat_test_ori)"
   ]
  },
  {
   "cell_type": "code",
   "execution_count": 101,
   "id": "9cbcef5e",
   "metadata": {},
   "outputs": [
    {
     "name": "stdout",
     "output_type": "stream",
     "text": [
      "              precision    recall  f1-score   support\n",
      "\n",
      "           0       1.00      0.99      0.99     24076\n",
      "           1       0.88      0.97      0.93      1771\n",
      "\n",
      "    accuracy                           0.99     25847\n",
      "   macro avg       0.94      0.98      0.96     25847\n",
      "weighted avg       0.99      0.99      0.99     25847\n",
      "\n"
     ]
    }
   ],
   "source": [
    "print(classification_report(y_ori, yhat_test_ori))"
   ]
  },
  {
   "cell_type": "markdown",
   "id": "b95b8e46",
   "metadata": {},
   "source": [
    "### Extra 1: Train trên dataset đã Downsampling + Upsampling"
   ]
  },
  {
   "cell_type": "code",
   "execution_count": 102,
   "id": "bf623273",
   "metadata": {},
   "outputs": [
    {
     "data": {
      "text/plain": [
       "DecisionTreeClassifier(min_samples_split=10, random_state=42)"
      ]
     },
     "execution_count": 102,
     "metadata": {},
     "output_type": "execute_result"
    }
   ],
   "source": [
    "clf_tree_gini_depth = tree.DecisionTreeClassifier(criterion = \"gini\", min_samples_split=10, random_state=42)\n",
    "clf_tree_gini_depth.fit(X_bal_train, y_bal_train)"
   ]
  },
  {
   "cell_type": "code",
   "execution_count": 103,
   "id": "e5e9a2b2",
   "metadata": {},
   "outputs": [],
   "source": [
    "yhat_tree_gini_bal = clf_tree_gini_depth.predict(X_bal_test)"
   ]
  },
  {
   "cell_type": "code",
   "execution_count": 104,
   "id": "194d68dd",
   "metadata": {},
   "outputs": [
    {
     "name": "stdout",
     "output_type": "stream",
     "text": [
      "              precision    recall  f1-score   support\n",
      "\n",
      "           0       0.95      0.92      0.93      3564\n",
      "           1       0.92      0.95      0.93      3499\n",
      "\n",
      "    accuracy                           0.93      7063\n",
      "   macro avg       0.93      0.93      0.93      7063\n",
      "weighted avg       0.93      0.93      0.93      7063\n",
      "\n"
     ]
    }
   ],
   "source": [
    "print(classification_report(y_bal_test, yhat_tree_gini_bal))"
   ]
  },
  {
   "cell_type": "code",
   "execution_count": 105,
   "id": "56658fd5",
   "metadata": {},
   "outputs": [
    {
     "name": "stdout",
     "output_type": "stream",
     "text": [
      "              precision    recall  f1-score   support\n",
      "\n",
      "           0       1.00      0.93      0.96     24076\n",
      "           1       0.50      0.94      0.65      1771\n",
      "\n",
      "    accuracy                           0.93     25847\n",
      "   macro avg       0.75      0.94      0.81     25847\n",
      "weighted avg       0.96      0.93      0.94     25847\n",
      "\n"
     ]
    }
   ],
   "source": [
    "yhat___ = clf_tree_gini_depth.predict(X_ori)\n",
    "print(classification_report(y_ori, yhat___))"
   ]
  },
  {
   "cell_type": "code",
   "execution_count": 106,
   "id": "96082a6f",
   "metadata": {},
   "outputs": [
    {
     "data": {
      "text/plain": [
       "array([[22391,  1685],\n",
       "       [   98,  1673]], dtype=int64)"
      ]
     },
     "execution_count": 106,
     "metadata": {},
     "output_type": "execute_result"
    }
   ],
   "source": [
    "confusion_matrix(y_ori, yhat___)"
   ]
  },
  {
   "cell_type": "markdown",
   "id": "68c1cdb5",
   "metadata": {},
   "source": [
    "### Extra 2: Train trên dataset gốc"
   ]
  },
  {
   "cell_type": "code",
   "execution_count": 107,
   "id": "330644ea",
   "metadata": {},
   "outputs": [
    {
     "data": {
      "text/plain": [
       "BaggingClassifier()"
      ]
     },
     "execution_count": 107,
     "metadata": {},
     "output_type": "execute_result"
    }
   ],
   "source": [
    "bagging = BaggingClassifier()\n",
    "bagging.fit(X_ori_train, y_ori_train)"
   ]
  },
  {
   "cell_type": "code",
   "execution_count": 108,
   "id": "e67dd474",
   "metadata": {},
   "outputs": [],
   "source": [
    "yhat_test_bagging = bagging.predict(X_ori_test)"
   ]
  },
  {
   "cell_type": "code",
   "execution_count": 109,
   "id": "70538a22",
   "metadata": {},
   "outputs": [
    {
     "data": {
      "text/plain": [
       "array([[7195,   21],\n",
       "       [ 179,  360]], dtype=int64)"
      ]
     },
     "execution_count": 109,
     "metadata": {},
     "output_type": "execute_result"
    }
   ],
   "source": [
    "confusion_matrix(y_ori_test, yhat_test_bagging)"
   ]
  },
  {
   "cell_type": "code",
   "execution_count": 110,
   "id": "99e74010",
   "metadata": {},
   "outputs": [
    {
     "name": "stdout",
     "output_type": "stream",
     "text": [
      "              precision    recall  f1-score   support\n",
      "\n",
      "           0       0.98      1.00      0.99      7216\n",
      "           1       0.94      0.67      0.78       539\n",
      "\n",
      "    accuracy                           0.97      7755\n",
      "   macro avg       0.96      0.83      0.88      7755\n",
      "weighted avg       0.97      0.97      0.97      7755\n",
      "\n"
     ]
    }
   ],
   "source": [
    "print(classification_report(y_ori_test, yhat_test_bagging))"
   ]
  },
  {
   "cell_type": "markdown",
   "id": "79be04cd",
   "metadata": {},
   "source": [
    "# 4.3. kNN:"
   ]
  },
  {
   "cell_type": "code",
   "execution_count": 111,
   "id": "ecea2943",
   "metadata": {},
   "outputs": [],
   "source": [
    "# Calculate accuracy scores corresponding to k\n",
    "accuracy_scores = {}\n",
    "for i in range(1,30):\n",
    "    knn = KNeighborsClassifier(n_neighbors=i, metric = 'minkowski', p = 2, algorithm = 'brute')\n",
    "    knn.fit(X_ori_train,y_ori_train)\n",
    "    y_pred = knn.predict(X_ori_test)\n",
    "    accuracy_scores[i] = accuracy_score(y_ori_test,y_pred)"
   ]
  },
  {
   "cell_type": "code",
   "execution_count": 112,
   "id": "66c70084",
   "metadata": {},
   "outputs": [
    {
     "name": "stdout",
     "output_type": "stream",
     "text": [
      "Optimal k: 1\n"
     ]
    },
    {
     "data": {
      "image/png": "[encoded data removed]",
      "text/plain": [
       "<Figure size 432x288 with 1 Axes>"
      ]
     },
     "metadata": {
      "needs_background": "light"
     },
     "output_type": "display_data"
    }
   ],
   "source": [
    "# Plot accuracy scores\n",
    "plt.plot(list(accuracy_scores.keys()),list(accuracy_scores.values()))\n",
    "optimal_k = max(accuracy_scores.items(), key = lambda k : k[1])\n",
    "plt.title('Accuracy Score for each n_neighbor')\n",
    "print('Optimal k: {}'.format(optimal_k[0]))"
   ]
  },
  {
   "cell_type": "code",
   "execution_count": 113,
   "id": "23cbff32",
   "metadata": {},
   "outputs": [
    {
     "data": {
      "text/plain": [
       "KNeighborsClassifier(algorithm='brute')"
      ]
     },
     "execution_count": 113,
     "metadata": {},
     "output_type": "execute_result"
    }
   ],
   "source": [
    "clf_knn = KNeighborsClassifier(n_neighbors = 5, metric = 'minkowski', p = 2, algorithm = 'brute') # p=2: Euclidean distance; brute: có bao nhiêu item so sánh bấy nhiêu -> áp dụng cho small dataset only\n",
    "clf_knn.fit(X_ori_train, y_ori_train)"
   ]
  },
  {
   "cell_type": "code",
   "execution_count": 114,
   "id": "d4a2d24d",
   "metadata": {},
   "outputs": [
    {
     "data": {
      "text/plain": [
       "array([[7122,   94],\n",
       "       [ 267,  272]], dtype=int64)"
      ]
     },
     "execution_count": 114,
     "metadata": {},
     "output_type": "execute_result"
    }
   ],
   "source": [
    "yhat_knn_test = clf_knn.predict(X_ori_test)\n",
    "\n",
    "confusion_matrix(y_ori_test,yhat_knn_test)"
   ]
  },
  {
   "cell_type": "code",
   "execution_count": 115,
   "id": "f012d001",
   "metadata": {},
   "outputs": [
    {
     "name": "stdout",
     "output_type": "stream",
     "text": [
      "              precision    recall  f1-score   support\n",
      "\n",
      "           0       0.96      0.99      0.98      7216\n",
      "           1       0.74      0.50      0.60       539\n",
      "\n",
      "    accuracy                           0.95      7755\n",
      "   macro avg       0.85      0.75      0.79      7755\n",
      "weighted avg       0.95      0.95      0.95      7755\n",
      "\n"
     ]
    }
   ],
   "source": [
    "print(classification_report(y_ori_test,yhat_knn_test))"
   ]
  },
  {
   "cell_type": "code",
   "execution_count": 116,
   "id": "6633ecb0",
   "metadata": {},
   "outputs": [
    {
     "data": {
      "text/plain": [
       "array([[23863,   213],\n",
       "       [  735,  1036]], dtype=int64)"
      ]
     },
     "execution_count": 116,
     "metadata": {},
     "output_type": "execute_result"
    }
   ],
   "source": [
    "yhat_knn_ori = clf_knn.predict(X_ori)\n",
    "\n",
    "confusion_matrix(y_ori,yhat_knn_ori)"
   ]
  },
  {
   "cell_type": "code",
   "execution_count": 117,
   "id": "1c8c9496",
   "metadata": {},
   "outputs": [
    {
     "name": "stdout",
     "output_type": "stream",
     "text": [
      "              precision    recall  f1-score   support\n",
      "\n",
      "           0       0.97      0.99      0.98     24076\n",
      "           1       0.83      0.58      0.69      1771\n",
      "\n",
      "    accuracy                           0.96     25847\n",
      "   macro avg       0.90      0.79      0.83     25847\n",
      "weighted avg       0.96      0.96      0.96     25847\n",
      "\n"
     ]
    }
   ],
   "source": [
    "print(classification_report(y_ori,yhat_knn_ori))"
   ]
  },
  {
   "cell_type": "markdown",
   "id": "70243b33",
   "metadata": {},
   "source": [
    "## 4.4. Logistic Regression: "
   ]
  },
  {
   "cell_type": "markdown",
   "id": "157e7e9b",
   "metadata": {},
   "source": [
    "### Train trên tập downsampling + upsampling"
   ]
  },
  {
   "cell_type": "code",
   "execution_count": 170,
   "id": "8c496222",
   "metadata": {
    "collapsed": true
   },
   "outputs": [
    {
     "ename": "NameError",
     "evalue": "name 'X_bal_train' is not defined",
     "output_type": "error",
     "traceback": [
      "\u001b[1;31m---------------------------------------------------------------------------\u001b[0m",
      "\u001b[1;31mNameError\u001b[0m                                 Traceback (most recent call last)",
      "Input \u001b[1;32mIn [170]\u001b[0m, in \u001b[0;36m<cell line: 2>\u001b[1;34m()\u001b[0m\n\u001b[0;32m      1\u001b[0m logreg1 \u001b[38;5;241m=\u001b[39m LogisticRegression(max_iter\u001b[38;5;241m=\u001b[39m\u001b[38;5;241m1000\u001b[39m)\n\u001b[1;32m----> 2\u001b[0m logreg1\u001b[38;5;241m.\u001b[39mfit(\u001b[43mX_bal_train\u001b[49m,y_bal_train)\n",
      "\u001b[1;31mNameError\u001b[0m: name 'X_bal_train' is not defined"
     ]
    }
   ],
   "source": [
    "logreg1 = LogisticRegression(max_iter=1000)\n",
    "logreg1.fit(X_bal_train,y_bal_train)"
   ]
  },
  {
   "cell_type": "code",
   "execution_count": 119,
   "id": "6735f188",
   "metadata": {},
   "outputs": [],
   "source": [
    "yhat_logreg_train = logreg1.predict(X_bal_train)\n",
    "yhat_logreg_test = logreg1.predict(X_bal_test)"
   ]
  },
  {
   "cell_type": "code",
   "execution_count": 120,
   "id": "adc4082e",
   "metadata": {},
   "outputs": [
    {
     "data": {
      "text/plain": [
       "array([[5089, 3118],\n",
       "       [2576, 5696]], dtype=int64)"
      ]
     },
     "execution_count": 120,
     "metadata": {},
     "output_type": "execute_result"
    }
   ],
   "source": [
    "# Train set:\n",
    "confusion_matrix(y_bal_train, yhat_logreg_train)"
   ]
  },
  {
   "cell_type": "code",
   "execution_count": 121,
   "id": "30154f03",
   "metadata": {},
   "outputs": [
    {
     "name": "stdout",
     "output_type": "stream",
     "text": [
      "              precision    recall  f1-score   support\n",
      "\n",
      "           0       0.66      0.62      0.64      8207\n",
      "           1       0.65      0.69      0.67      8272\n",
      "\n",
      "    accuracy                           0.65     16479\n",
      "   macro avg       0.66      0.65      0.65     16479\n",
      "weighted avg       0.66      0.65      0.65     16479\n",
      "\n"
     ]
    }
   ],
   "source": [
    "print(classification_report(y_bal_train, yhat_logreg_train))"
   ]
  },
  {
   "cell_type": "code",
   "execution_count": 122,
   "id": "daec4189",
   "metadata": {},
   "outputs": [
    {
     "data": {
      "text/plain": [
       "array([[2249, 1315],\n",
       "       [1051, 2448]], dtype=int64)"
      ]
     },
     "execution_count": 122,
     "metadata": {},
     "output_type": "execute_result"
    }
   ],
   "source": [
    "# Test set:\n",
    "confusion_matrix(y_bal_test, yhat_logreg_test)"
   ]
  },
  {
   "cell_type": "code",
   "execution_count": 123,
   "id": "c9d195b5",
   "metadata": {},
   "outputs": [
    {
     "name": "stdout",
     "output_type": "stream",
     "text": [
      "              precision    recall  f1-score   support\n",
      "\n",
      "           0       0.68      0.63      0.66      3564\n",
      "           1       0.65      0.70      0.67      3499\n",
      "\n",
      "    accuracy                           0.67      7063\n",
      "   macro avg       0.67      0.67      0.66      7063\n",
      "weighted avg       0.67      0.67      0.66      7063\n",
      "\n"
     ]
    }
   ],
   "source": [
    "print(classification_report(y_bal_test, yhat_logreg_test))"
   ]
  },
  {
   "cell_type": "code",
   "execution_count": 124,
   "id": "6e0f24b3",
   "metadata": {},
   "outputs": [],
   "source": [
    "# generate a no skill prediction (majority class)\n",
    "ns_probs = [0 for _ in range(len(y_bal_test))]\n",
    "# predict probabilities\n",
    "lr_probs = logreg1.predict_proba(X_bal_test)\n",
    "# keep probabilities for the positive outcome only\n",
    "lr_probs = lr_probs[:, 1]\n",
    "# calculate scores\n",
    "ns_auc = roc_auc_score(y_bal_test, ns_probs)\n",
    "lr_auc = roc_auc_score(y_bal_test, lr_probs)"
   ]
  },
  {
   "cell_type": "code",
   "execution_count": 125,
   "id": "ea771962",
   "metadata": {},
   "outputs": [
    {
     "name": "stdout",
     "output_type": "stream",
     "text": [
      "No Skill: ROC AUC=0.500\n",
      "Logistic: ROC AUC=0.735\n"
     ]
    },
    {
     "data": {
      "text/plain": [
       "Text(0.5, 1.0, 'ROC Curve')"
      ]
     },
     "execution_count": 125,
     "metadata": {},
     "output_type": "execute_result"
    },
    {
     "data": {
      "image/png": "[encoded data removed]",
      "text/plain": [
       "<Figure size 432x288 with 1 Axes>"
      ]
     },
     "metadata": {
      "needs_background": "light"
     },
     "output_type": "display_data"
    }
   ],
   "source": [
    "# summarize scores\n",
    "print('No Skill: ROC AUC=%.3f' % (ns_auc))\n",
    "print('Logistic: ROC AUC=%.3f' % (lr_auc))\n",
    "# calculate roc curves\n",
    "ns_fpr, ns_tpr, _ = roc_curve(y_bal_test, ns_probs)\n",
    "lr_fpr, lr_tpr, _ = roc_curve(y_bal_test, lr_probs)\n",
    "# plot the roc curve for the model\n",
    "plt.plot(ns_fpr, ns_tpr, linestyle='--', label='No Skill')\n",
    "plt.plot(lr_fpr, lr_tpr, marker='.', label='Logistic')\n",
    "# axis labels\n",
    "plt.xlabel('False Positive Rate')\n",
    "plt.ylabel('True Positive Rate')\n",
    "# show the legend\n",
    "plt.legend()\n",
    "plt.title('ROC Curve')\n",
    "# show the plot"
   ]
  },
  {
   "cell_type": "code",
   "execution_count": 126,
   "id": "b0593075",
   "metadata": {},
   "outputs": [
    {
     "name": "stdout",
     "output_type": "stream",
     "text": [
      "Logistic: f1=0.665 auc=0.725\n"
     ]
    },
    {
     "data": {
      "text/plain": [
       "Text(0.5, 1.0, 'Precision-Recall Tradeoff')"
      ]
     },
     "execution_count": 126,
     "metadata": {},
     "output_type": "execute_result"
    },
    {
     "data": {
      "image/png": "[encoded data removed]",
      "text/plain": [
       "<Figure size 432x288 with 1 Axes>"
      ]
     },
     "metadata": {
      "needs_background": "light"
     },
     "output_type": "display_data"
    }
   ],
   "source": [
    "lr_precision, lr_recall, _ = precision_recall_curve(y_bal_test, lr_probs)\n",
    "lr_f1, lr_auc = accuracy_score(y_bal_test, yhat_logreg_test), auc(lr_recall, lr_precision)\n",
    "# summarize scores\n",
    "print('Logistic: f1=%.3f auc=%.3f' % (lr_f1, lr_auc))\n",
    "# plot the precision-recall curves\n",
    "no_skill = len(y_bal_test[y_bal_test==1]) / len(y_test)\n",
    "plt.plot([0, 1], [no_skill, no_skill], linestyle='--', label='No Skill')\n",
    "plt.plot(lr_recall, lr_precision, marker='.', label='Logistic')\n",
    "# axis labels\n",
    "plt.xlabel('Recall')\n",
    "plt.ylabel('Precision')\n",
    "# show the legend\n",
    "plt.legend()\n",
    "plt.title('Precision-Recall Tradeoff')"
   ]
  },
  {
   "cell_type": "code",
   "execution_count": 127,
   "id": "7de7277d",
   "metadata": {},
   "outputs": [
    {
     "name": "stdout",
     "output_type": "stream",
     "text": [
      "No Skill: ROC AUC=0.500\n",
      "Logistic: ROC AUC=0.735\n"
     ]
    },
    {
     "data": {
      "text/plain": [
       "<matplotlib.legend.Legend at 0x181277a7c70>"
      ]
     },
     "execution_count": 127,
     "metadata": {},
     "output_type": "execute_result"
    },
    {
     "data": {
      "image/png": "[encoded data removed]",
      "text/plain": [
       "<Figure size 432x288 with 1 Axes>"
      ]
     },
     "metadata": {
      "needs_background": "light"
     },
     "output_type": "display_data"
    }
   ],
   "source": [
    "# generate a no skill prediction (majority class)\n",
    "ns_probs = [0 for _ in range(len(y_bal_test))]\n",
    "# predict probabilities\n",
    "lr_probs = logreg1.predict_proba(X_bal_test)\n",
    "# keep probabilities for the positive outcome only\n",
    "lr_probs = lr_probs[:, 1]\n",
    "# calculate scores\n",
    "ns_auc = roc_auc_score(y_bal_test, ns_probs)\n",
    "lr_auc = roc_auc_score(y_bal_test, lr_probs)\n",
    "# summarize scores\n",
    "print('No Skill: ROC AUC=%.3f' % (ns_auc))\n",
    "print('Logistic: ROC AUC=%.3f' % (lr_auc))\n",
    "# calculate roc curves\n",
    "ns_fpr, ns_tpr, thresholds_ns = roc_curve(y_bal_test, ns_probs)\n",
    "lr_fpr, lr_tpr, thresholds_lr = roc_curve(y_bal_test, lr_probs)\n",
    "# plot the roc curve for the model\n",
    "plt.plot(ns_fpr, ns_tpr, linestyle='--', label='No Skill')\n",
    "plt.plot(lr_fpr, lr_tpr, marker='.', label='Logistic')\n",
    "# axis labels\n",
    "plt.xlabel('False Positive Rate')\n",
    "plt.ylabel('True Positive Rate')\n",
    "# show the legend\n",
    "plt.legend()\n",
    "# show the plot"
   ]
  },
  {
   "cell_type": "code",
   "execution_count": 128,
   "id": "379033c7",
   "metadata": {},
   "outputs": [
    {
     "name": "stdout",
     "output_type": "stream",
     "text": [
      "Best Threshold=0.487568, G-Mean=0.668\n"
     ]
    },
    {
     "data": {
      "text/plain": [
       "<matplotlib.legend.Legend at 0x181240a0fd0>"
      ]
     },
     "execution_count": 128,
     "metadata": {},
     "output_type": "execute_result"
    },
    {
     "data": {
      "image/png": "[encoded data removed]",
      "text/plain": [
       "<Figure size 432x288 with 1 Axes>"
      ]
     },
     "metadata": {
      "needs_background": "light"
     },
     "output_type": "display_data"
    }
   ],
   "source": [
    "# calculate the g-mean for each threshold\n",
    "gmeans = sqrt(lr_tpr * (1-lr_fpr))\n",
    "# locate the index of the largest g-mean\n",
    "ix = argmax(gmeans)\n",
    "print('Best Threshold=%f, G-Mean=%.3f' % (thresholds_lr[ix], gmeans[ix]))\n",
    "# plot the roc curve for the model\n",
    "plt.plot([0,1], [0,1], linestyle='--', label='No Skill')\n",
    "plt.plot(lr_fpr, lr_tpr, marker='.', label='Logistic')\n",
    "plt.scatter(lr_fpr[ix], lr_tpr[ix], marker='o', color='black', label='Best')\n",
    "# axis labels\n",
    "plt.xlabel('False Positive Rate')\n",
    "plt.ylabel('True Positive Rate')\n",
    "plt.legend()\n",
    "# show the plot"
   ]
  },
  {
   "cell_type": "code",
   "execution_count": 129,
   "id": "fbf06912",
   "metadata": {},
   "outputs": [
    {
     "name": "stdout",
     "output_type": "stream",
     "text": [
      "Threshold=0.330, F-Score=0.71150\n"
     ]
    }
   ],
   "source": [
    "def to_labels(pos_probs, threshold):\n",
    "    return (pos_probs >= threshold).astype('int')\n",
    "\n",
    "thresholds = np.arange(0, 1, 0.001)\n",
    "# evaluate each threshold\n",
    "scores = [f1_score(y_bal_test, to_labels(lr_probs, t)) for t in thresholds]\n",
    "# get best threshold\n",
    "ix = argmax(scores)\n",
    "print('Threshold=%.3f, F-Score=%.5f' % (thresholds[ix], scores[ix]))"
   ]
  },
  {
   "cell_type": "code",
   "execution_count": 130,
   "id": "c5b635cc",
   "metadata": {},
   "outputs": [],
   "source": [
    "yhat_cw_test = np.where(logreg1.predict_proba(X_test)[:,1] > thresholds[ix], 1, 0)"
   ]
  },
  {
   "cell_type": "code",
   "execution_count": 131,
   "id": "e9f94e44",
   "metadata": {},
   "outputs": [],
   "source": [
    "yhat_cw_train = np.where(logreg1.predict_proba(X_train)[:,1] > thresholds[ix], 1, 0)"
   ]
  },
  {
   "cell_type": "code",
   "execution_count": 132,
   "id": "2b2a4b38",
   "metadata": {},
   "outputs": [
    {
     "data": {
      "text/plain": [
       "array([[ 5789, 11086],\n",
       "       [ 1574, 15257]], dtype=int64)"
      ]
     },
     "execution_count": 132,
     "metadata": {},
     "output_type": "execute_result"
    }
   ],
   "source": [
    "confusion_matrix(y_train, yhat_cw_train)"
   ]
  },
  {
   "cell_type": "code",
   "execution_count": 133,
   "id": "9f2454d9",
   "metadata": {},
   "outputs": [
    {
     "name": "stdout",
     "output_type": "stream",
     "text": [
      "              precision    recall  f1-score   support\n",
      "\n",
      "           0       0.79      0.34      0.48     16875\n",
      "           1       0.58      0.91      0.71     16831\n",
      "\n",
      "    accuracy                           0.62     33706\n",
      "   macro avg       0.68      0.62      0.59     33706\n",
      "weighted avg       0.68      0.62      0.59     33706\n",
      "\n"
     ]
    }
   ],
   "source": [
    "print(classification_report(y_train, yhat_cw_train))"
   ]
  },
  {
   "cell_type": "code",
   "execution_count": 134,
   "id": "6a62f98b",
   "metadata": {},
   "outputs": [
    {
     "data": {
      "text/plain": [
       "array([[2517, 4684],\n",
       "       [ 693, 6552]], dtype=int64)"
      ]
     },
     "execution_count": 134,
     "metadata": {},
     "output_type": "execute_result"
    }
   ],
   "source": [
    "confusion_matrix(y_test, yhat_cw_test)"
   ]
  },
  {
   "cell_type": "code",
   "execution_count": 135,
   "id": "6c0c68e8",
   "metadata": {},
   "outputs": [
    {
     "name": "stdout",
     "output_type": "stream",
     "text": [
      "              precision    recall  f1-score   support\n",
      "\n",
      "           0       0.78      0.35      0.48      7201\n",
      "           1       0.58      0.90      0.71      7245\n",
      "\n",
      "    accuracy                           0.63     14446\n",
      "   macro avg       0.68      0.63      0.60     14446\n",
      "weighted avg       0.68      0.63      0.60     14446\n",
      "\n"
     ]
    }
   ],
   "source": [
    "print(classification_report(y_test, yhat_cw_test))"
   ]
  },
  {
   "cell_type": "markdown",
   "id": "4d79adfb",
   "metadata": {},
   "source": [
    "### Train trên tập gốc"
   ]
  },
  {
   "cell_type": "code",
   "execution_count": 136,
   "id": "b003eca1",
   "metadata": {},
   "outputs": [
    {
     "data": {
      "text/plain": [
       "LogisticRegression(max_iter=1000)"
      ]
     },
     "execution_count": 136,
     "metadata": {},
     "output_type": "execute_result"
    }
   ],
   "source": [
    "# class_weight_logreg1 = class_weight.compute_class_weight('balanced',np.unique(df_encoded_dummies['nhomno_xhtdJuin2021']),df_encoded_dummies['nhomno_xhtdJuin2021'])\n",
    "\n",
    "logreg1 = LogisticRegression(max_iter=1000)\n",
    "logreg1.fit(X_train,y_train)"
   ]
  },
  {
   "cell_type": "code",
   "execution_count": 137,
   "id": "89c7d015",
   "metadata": {},
   "outputs": [],
   "source": [
    "yhat_logreg_train = logreg1.predict(X_train)\n",
    "yhat_logreg_test = logreg1.predict(X_test)"
   ]
  },
  {
   "cell_type": "code",
   "execution_count": 138,
   "id": "760dad67",
   "metadata": {},
   "outputs": [
    {
     "data": {
      "text/plain": [
       "array([[ 9762,  7113],\n",
       "       [ 4576, 12255]], dtype=int64)"
      ]
     },
     "execution_count": 138,
     "metadata": {},
     "output_type": "execute_result"
    }
   ],
   "source": [
    "# Train set:\n",
    "confusion_matrix(y_train, yhat_logreg_train)"
   ]
  },
  {
   "cell_type": "code",
   "execution_count": 139,
   "id": "fb26da20",
   "metadata": {
    "scrolled": true
   },
   "outputs": [
    {
     "name": "stdout",
     "output_type": "stream",
     "text": [
      "              precision    recall  f1-score   support\n",
      "\n",
      "           0       0.68      0.58      0.63     16875\n",
      "           1       0.63      0.73      0.68     16831\n",
      "\n",
      "    accuracy                           0.65     33706\n",
      "   macro avg       0.66      0.65      0.65     33706\n",
      "weighted avg       0.66      0.65      0.65     33706\n",
      "\n"
     ]
    }
   ],
   "source": [
    "print(classification_report(y_train, yhat_logreg_train))"
   ]
  },
  {
   "cell_type": "code",
   "execution_count": 140,
   "id": "59c40d8b",
   "metadata": {},
   "outputs": [
    {
     "data": {
      "text/plain": [
       "array([[4272, 2929],\n",
       "       [1961, 5284]], dtype=int64)"
      ]
     },
     "execution_count": 140,
     "metadata": {},
     "output_type": "execute_result"
    }
   ],
   "source": [
    "# Test set:\n",
    "confusion_matrix(y_test, yhat_logreg_test)"
   ]
  },
  {
   "cell_type": "code",
   "execution_count": 141,
   "id": "a15df925",
   "metadata": {},
   "outputs": [
    {
     "name": "stdout",
     "output_type": "stream",
     "text": [
      "              precision    recall  f1-score   support\n",
      "\n",
      "           0       0.69      0.59      0.64      7201\n",
      "           1       0.64      0.73      0.68      7245\n",
      "\n",
      "    accuracy                           0.66     14446\n",
      "   macro avg       0.66      0.66      0.66     14446\n",
      "weighted avg       0.66      0.66      0.66     14446\n",
      "\n"
     ]
    }
   ],
   "source": [
    "print(classification_report(y_test, yhat_logreg_test))"
   ]
  },
  {
   "cell_type": "code",
   "execution_count": 142,
   "id": "25f75c33",
   "metadata": {},
   "outputs": [],
   "source": [
    "logreg2 = LogisticRegression(max_iter=1000)\n",
    "logreg2.fit(X_train,y_train)\n",
    "yhat_logreg_ori = logreg2.predict(X_ori)"
   ]
  },
  {
   "cell_type": "code",
   "execution_count": 143,
   "id": "8b9ae211",
   "metadata": {},
   "outputs": [
    {
     "data": {
      "text/plain": [
       "array([[14034, 10042],\n",
       "       [  508,  1263]], dtype=int64)"
      ]
     },
     "execution_count": 143,
     "metadata": {},
     "output_type": "execute_result"
    }
   ],
   "source": [
    "# Train set:\n",
    "confusion_matrix(y_ori, yhat_logreg_ori)"
   ]
  },
  {
   "cell_type": "code",
   "execution_count": 144,
   "id": "e9b9ee69",
   "metadata": {
    "scrolled": true
   },
   "outputs": [
    {
     "name": "stdout",
     "output_type": "stream",
     "text": [
      "              precision    recall  f1-score   support\n",
      "\n",
      "           0       0.97      0.58      0.73     24076\n",
      "           1       0.11      0.71      0.19      1771\n",
      "\n",
      "    accuracy                           0.59     25847\n",
      "   macro avg       0.54      0.65      0.46     25847\n",
      "weighted avg       0.91      0.59      0.69     25847\n",
      "\n"
     ]
    }
   ],
   "source": [
    "print(classification_report(y_ori, yhat_logreg_ori))"
   ]
  },
  {
   "cell_type": "markdown",
   "id": "8c9b9abf",
   "metadata": {},
   "source": [
    "### a. Neural Network Classifier"
   ]
  },
  {
   "cell_type": "code",
   "execution_count": 145,
   "id": "d080f53e",
   "metadata": {},
   "outputs": [],
   "source": [
    "from sklearn.neural_network import MLPClassifier\n",
    "from sklearn.neural_network import MLPRegressor\n",
    "\n",
    "from sklearn.model_selection import train_test_split\n",
    "from sklearn.metrics import mean_squared_error\n",
    "from math import sqrt\n",
    "from sklearn.metrics import r2_score"
   ]
  },
  {
   "cell_type": "code",
   "execution_count": 146,
   "id": "d56d3ba7",
   "metadata": {},
   "outputs": [],
   "source": [
    "mlp = MLPClassifier(hidden_layer_sizes=(23,23,23), activation='relu', solver='adam', max_iter=10000)\n",
    "\n",
    "mlp.fit(X_bal_train,y_bal_train)\n",
    "\n",
    "predict_train = mlp.predict(X_bal_train)\n",
    "predict_test = mlp.predict(X_bal_test)"
   ]
  },
  {
   "cell_type": "code",
   "execution_count": 147,
   "id": "94647350",
   "metadata": {},
   "outputs": [
    {
     "name": "stdout",
     "output_type": "stream",
     "text": [
      "[[ 468 3096]\n",
      " [ 147 3352]]\n",
      "              precision    recall  f1-score   support\n",
      "\n",
      "           0       0.76      0.13      0.22      3564\n",
      "           1       0.52      0.96      0.67      3499\n",
      "\n",
      "    accuracy                           0.54      7063\n",
      "   macro avg       0.64      0.54      0.45      7063\n",
      "weighted avg       0.64      0.54      0.45      7063\n",
      "\n"
     ]
    }
   ],
   "source": [
    "print(confusion_matrix(y_bal_test,predict_test))\n",
    "print(classification_report(y_bal_test,predict_test))"
   ]
  },
  {
   "cell_type": "markdown",
   "id": "ddcc1dac",
   "metadata": {},
   "source": [
    "# 5. EDA AFTER RESAMPLING"
   ]
  },
  {
   "cell_type": "code",
   "execution_count": 148,
   "id": "735af577",
   "metadata": {},
   "outputs": [
    {
     "data": {
      "image/png": "[encoded data removed]",
      "text/plain": [
       "<Figure size 864x576 with 1 Axes>"
      ]
     },
     "metadata": {
      "needs_background": "light"
     },
     "output_type": "display_data"
    }
   ],
   "source": [
    "cross_tab_prop_status = pd.crosstab(index=notna_nhomno['categoryJuin2021'],\n",
    "                             columns=notna_nhomno['nhomno_xhtdJuin2021'],\n",
    "                             normalize=\"index\")\n",
    "cross_tab_status = pd.crosstab(index=df3_down['categoryJuin2021'],\n",
    "                        columns=df3_down['nhomno_xhtdJuin2021'])\n",
    "\n",
    "# create plot\n",
    "cross_tab_prop_status.plot(kind='bar', \n",
    "                        stacked=True, \n",
    "                        colormap='copper', \n",
    "                        figsize=(12, 8))\n",
    "\n",
    "plt.legend(loc=\"lower left\", ncol=2)\n",
    "plt.xlabel(\"Category\")\n",
    "plt.ylabel(\"Percentage of Debt groups\")\n",
    "\n",
    "\n",
    "for n, x in enumerate([*cross_tab_status.index.values]):\n",
    "    for (proportion, y_loc) in zip(cross_tab_prop_status.loc[x],\n",
    "                                   cross_tab_prop_status.loc[x].cumsum()):\n",
    "                \n",
    "        plt.text(x=n - 0.17,\n",
    "                 y=(y_loc - proportion) + (proportion / 2),\n",
    "                 s=f'{np.round(proportion * 100, 1)}%', \n",
    "                 color=\"white\",\n",
    "                 fontsize=8,\n",
    "                 fontweight=\"light\")\n",
    "\n",
    "plt.show()\n",
    "# hầu hết các nhóm sản phẩm tín dụng đều do nhóm tốt sử dụng, chỉ có 2 sản phẩm tín dụng dành cho nhóm xấu \n",
    "# điều này có nghĩa dựa vào nhóm sản phẩm tín dụng, có thể dự đoán xác suất khách hàng là tốt hay xấu"
   ]
  },
  {
   "cell_type": "code",
   "execution_count": 149,
   "id": "c086f93b",
   "metadata": {},
   "outputs": [
    {
     "data": {
      "image/png": "[encoded data removed]",
      "text/plain": [
       "<Figure size 864x576 with 1 Axes>"
      ]
     },
     "metadata": {
      "needs_background": "light"
     },
     "output_type": "display_data"
    }
   ],
   "source": [
    "cross_tab_prop_status = pd.crosstab(index=df3['categoryJuin2021'],\n",
    "                             columns=df3['nhomno_xhtdJuin2021'],\n",
    "                             normalize=\"index\")\n",
    "cross_tab_status = pd.crosstab(index=df3_down['categoryJuin2021'],\n",
    "                        columns=df3_down['nhomno_xhtdJuin2021'])\n",
    "\n",
    "# create plot\n",
    "cross_tab_prop_status.plot(kind='bar', \n",
    "                        stacked=True, \n",
    "                        colormap='copper', \n",
    "                        figsize=(12, 8))\n",
    "\n",
    "plt.legend(loc=\"lower left\", ncol=2)\n",
    "plt.xlabel(\"Category\")\n",
    "plt.ylabel(\"Percentage of Debt groups\")\n",
    "\n",
    "\n",
    "for n, x in enumerate([*cross_tab_status.index.values]):\n",
    "    for (proportion, y_loc) in zip(cross_tab_prop_status.loc[x],\n",
    "                                   cross_tab_prop_status.loc[x].cumsum()):\n",
    "                \n",
    "        plt.text(x=n - 0.17,\n",
    "                 y=(y_loc - proportion) + (proportion / 2),\n",
    "                 s=f'{np.round(proportion * 100, 1)}%', \n",
    "                 color=\"white\",\n",
    "                 fontsize=8,\n",
    "                 fontweight=\"light\")\n",
    "\n",
    "plt.show()\n",
    "# hầu hết các nhóm sản phẩm tín dụng đều do nhóm tốt sử dụng, chỉ có 2 sản phẩm tín dụng dành cho nhóm xấu \n",
    "# điều này có nghĩa dựa vào nhóm sản phẩm tín dụng, có thể dự đoán xác suất khách hàng là tốt hay xấu"
   ]
  },
  {
   "cell_type": "code",
   "execution_count": 150,
   "id": "ede8a5fe",
   "metadata": {},
   "outputs": [
    {
     "data": {
      "image/png": "[encoded data removed]",
      "text/plain": [
       "<Figure size 864x576 with 1 Axes>"
      ]
     },
     "metadata": {
      "needs_background": "light"
     },
     "output_type": "display_data"
    }
   ],
   "source": [
    "cross_tab_prop_status = pd.crosstab(index=df3['sectorJuin2021'],\n",
    "                             columns=df3['nhomno_xhtdJuin2021'],\n",
    "                             normalize=\"index\")\n",
    "cross_tab_status = pd.crosstab(index=df3_down['sectorJuin2021'],\n",
    "                        columns=df3_down['nhomno_xhtdJuin2021'])\n",
    "\n",
    "# create plot\n",
    "cross_tab_prop_status.plot(kind='bar', \n",
    "                        stacked=True, \n",
    "                        colormap='copper', \n",
    "                        figsize=(12, 8))\n",
    "\n",
    "plt.legend(loc=\"lower left\", ncol=2)\n",
    "plt.xlabel(\"Business sector of customers\")\n",
    "plt.ylabel(\"Percentage of Debt groups\")\n",
    "\n",
    "\n",
    "for n, x in enumerate([*cross_tab_status.index.values]):\n",
    "    for (proportion, y_loc) in zip(cross_tab_prop_status.loc[x],\n",
    "                                   cross_tab_prop_status.loc[x].cumsum()):\n",
    "                \n",
    "        plt.text(x=n - 0.17,\n",
    "                 y=(y_loc - proportion) + (proportion / 2),\n",
    "                 s=f'{np.round(proportion * 100, 1)}%', \n",
    "                 color=\"white\",\n",
    "                 fontsize=6,\n",
    "                 fontweight=\"light\")\n",
    "\n",
    "plt.show()"
   ]
  },
  {
   "cell_type": "code",
   "execution_count": 151,
   "id": "03e38e80",
   "metadata": {},
   "outputs": [],
   "source": [
    "df_eda = pd.concat([pd.DataFrame(X_model_bal), pd.DataFrame(y_model_bal)], axis=1)"
   ]
  },
  {
   "cell_type": "code",
   "execution_count": 152,
   "id": "e63c9eb7",
   "metadata": {},
   "outputs": [
    {
     "data": {
      "text/html": [
       "<div>\n",
       "<style scoped>\n",
       "    .dataframe tbody tr th:only-of-type {\n",
       "        vertical-align: middle;\n",
       "    }\n",
       "\n",
       "    .dataframe tbody tr th {\n",
       "        vertical-align: top;\n",
       "    }\n",
       "\n",
       "    .dataframe thead th {\n",
       "        text-align: right;\n",
       "    }\n",
       "</style>\n",
       "<table border=\"1\" class=\"dataframe\">\n",
       "  <thead>\n",
       "    <tr style=\"text-align: right;\">\n",
       "      <th></th>\n",
       "      <th>amount_month</th>\n",
       "      <th>min_amount_month</th>\n",
       "      <th>distinct_payment_code_month</th>\n",
       "      <th>count_payment_code_month</th>\n",
       "      <th>distinct_ref_no_month</th>\n",
       "      <th>DUM_MALE</th>\n",
       "      <th>DUM_Married</th>\n",
       "      <th>DUM_Other</th>\n",
       "      <th>DUM_Partner</th>\n",
       "      <th>DUM_Single</th>\n",
       "      <th>...</th>\n",
       "      <th>DUM_NH</th>\n",
       "      <th>DUM_TH</th>\n",
       "      <th>categoryJuin2021</th>\n",
       "      <th>sectorJuin2021</th>\n",
       "      <th>balanceJuin2021</th>\n",
       "      <th>3m_to_1m_positive</th>\n",
       "      <th>nominal_interestJuin2021</th>\n",
       "      <th>nhomno_xhtdJuin2021</th>\n",
       "      <th>Status</th>\n",
       "      <th>Kyhan</th>\n",
       "    </tr>\n",
       "  </thead>\n",
       "  <tbody>\n",
       "    <tr>\n",
       "      <th>0</th>\n",
       "      <td>0.001860</td>\n",
       "      <td>2.960000e-06</td>\n",
       "      <td>2.000000</td>\n",
       "      <td>2.000000</td>\n",
       "      <td>31.000000</td>\n",
       "      <td>0</td>\n",
       "      <td>Married</td>\n",
       "      <td></td>\n",
       "      <td></td>\n",
       "      <td></td>\n",
       "      <td>...</td>\n",
       "      <td>NaN</td>\n",
       "      <td>TH</td>\n",
       "      <td>21064.000000</td>\n",
       "      <td>1891.00000</td>\n",
       "      <td>0.000000</td>\n",
       "      <td>True</td>\n",
       "      <td>0.000000</td>\n",
       "      <td>0</td>\n",
       "      <td>Married</td>\n",
       "      <td>TH</td>\n",
       "    </tr>\n",
       "    <tr>\n",
       "      <th>1</th>\n",
       "      <td>0.003659</td>\n",
       "      <td>2.960000e-06</td>\n",
       "      <td>1.000000</td>\n",
       "      <td>3.000000</td>\n",
       "      <td>79.000000</td>\n",
       "      <td>0</td>\n",
       "      <td>Married</td>\n",
       "      <td></td>\n",
       "      <td></td>\n",
       "      <td></td>\n",
       "      <td>...</td>\n",
       "      <td>NH</td>\n",
       "      <td>NaN</td>\n",
       "      <td>17002.000000</td>\n",
       "      <td>1891.00000</td>\n",
       "      <td>0.000000</td>\n",
       "      <td>True</td>\n",
       "      <td>0.000000</td>\n",
       "      <td>0</td>\n",
       "      <td>Married</td>\n",
       "      <td>NH</td>\n",
       "    </tr>\n",
       "    <tr>\n",
       "      <th>2</th>\n",
       "      <td>0.000267</td>\n",
       "      <td>1.770000e-06</td>\n",
       "      <td>3.000000</td>\n",
       "      <td>4.000000</td>\n",
       "      <td>38.000000</td>\n",
       "      <td>0</td>\n",
       "      <td></td>\n",
       "      <td></td>\n",
       "      <td></td>\n",
       "      <td>Single</td>\n",
       "      <td>...</td>\n",
       "      <td>NaN</td>\n",
       "      <td>TH</td>\n",
       "      <td>21064.000000</td>\n",
       "      <td>1700.00000</td>\n",
       "      <td>0.000000</td>\n",
       "      <td>True</td>\n",
       "      <td>0.000000</td>\n",
       "      <td>0</td>\n",
       "      <td>Single</td>\n",
       "      <td>TH</td>\n",
       "    </tr>\n",
       "    <tr>\n",
       "      <th>3</th>\n",
       "      <td>0.000012</td>\n",
       "      <td>1.060000e-05</td>\n",
       "      <td>0.000000</td>\n",
       "      <td>0.000000</td>\n",
       "      <td>2.000000</td>\n",
       "      <td>0</td>\n",
       "      <td>Married</td>\n",
       "      <td></td>\n",
       "      <td></td>\n",
       "      <td></td>\n",
       "      <td>...</td>\n",
       "      <td>NaN</td>\n",
       "      <td>TH</td>\n",
       "      <td>21064.000000</td>\n",
       "      <td>1830.00000</td>\n",
       "      <td>0.005344</td>\n",
       "      <td>False</td>\n",
       "      <td>0.013728</td>\n",
       "      <td>0</td>\n",
       "      <td>Married</td>\n",
       "      <td>TH</td>\n",
       "    </tr>\n",
       "    <tr>\n",
       "      <th>4</th>\n",
       "      <td>0.002593</td>\n",
       "      <td>5.920000e-06</td>\n",
       "      <td>0.000000</td>\n",
       "      <td>0.000000</td>\n",
       "      <td>37.000000</td>\n",
       "      <td>1</td>\n",
       "      <td></td>\n",
       "      <td></td>\n",
       "      <td></td>\n",
       "      <td>Single</td>\n",
       "      <td>...</td>\n",
       "      <td>NH</td>\n",
       "      <td>NaN</td>\n",
       "      <td>1005.000000</td>\n",
       "      <td>1746.00000</td>\n",
       "      <td>0.000000</td>\n",
       "      <td>True</td>\n",
       "      <td>0.000000</td>\n",
       "      <td>0</td>\n",
       "      <td>Single</td>\n",
       "      <td>NH</td>\n",
       "    </tr>\n",
       "    <tr>\n",
       "      <th>...</th>\n",
       "      <td>...</td>\n",
       "      <td>...</td>\n",
       "      <td>...</td>\n",
       "      <td>...</td>\n",
       "      <td>...</td>\n",
       "      <td>...</td>\n",
       "      <td>...</td>\n",
       "      <td>...</td>\n",
       "      <td>...</td>\n",
       "      <td>...</td>\n",
       "      <td>...</td>\n",
       "      <td>...</td>\n",
       "      <td>...</td>\n",
       "      <td>...</td>\n",
       "      <td>...</td>\n",
       "      <td>...</td>\n",
       "      <td>...</td>\n",
       "      <td>...</td>\n",
       "      <td>...</td>\n",
       "      <td>...</td>\n",
       "      <td>...</td>\n",
       "    </tr>\n",
       "    <tr>\n",
       "      <th>23537</th>\n",
       "      <td>0.001387</td>\n",
       "      <td>8.137396e-06</td>\n",
       "      <td>2.326785</td>\n",
       "      <td>2.980355</td>\n",
       "      <td>25.326785</td>\n",
       "      <td>1</td>\n",
       "      <td></td>\n",
       "      <td></td>\n",
       "      <td></td>\n",
       "      <td></td>\n",
       "      <td>...</td>\n",
       "      <td>NaN</td>\n",
       "      <td>TH</td>\n",
       "      <td>21061.980355</td>\n",
       "      <td>1888.65357</td>\n",
       "      <td>0.001210</td>\n",
       "      <td>False</td>\n",
       "      <td>0.002470</td>\n",
       "      <td>1</td>\n",
       "      <td></td>\n",
       "      <td>TH</td>\n",
       "    </tr>\n",
       "    <tr>\n",
       "      <th>23538</th>\n",
       "      <td>0.001953</td>\n",
       "      <td>8.166064e-07</td>\n",
       "      <td>1.957844</td>\n",
       "      <td>3.915688</td>\n",
       "      <td>87.566701</td>\n",
       "      <td>1</td>\n",
       "      <td></td>\n",
       "      <td></td>\n",
       "      <td></td>\n",
       "      <td></td>\n",
       "      <td>...</td>\n",
       "      <td>NH</td>\n",
       "      <td>NaN</td>\n",
       "      <td>1005.000000</td>\n",
       "      <td>1740.00000</td>\n",
       "      <td>0.000022</td>\n",
       "      <td>True</td>\n",
       "      <td>0.000072</td>\n",
       "      <td>1</td>\n",
       "      <td></td>\n",
       "      <td>NH</td>\n",
       "    </tr>\n",
       "    <tr>\n",
       "      <th>23539</th>\n",
       "      <td>0.000051</td>\n",
       "      <td>9.315866e-06</td>\n",
       "      <td>1.000000</td>\n",
       "      <td>1.000000</td>\n",
       "      <td>6.483911</td>\n",
       "      <td>1</td>\n",
       "      <td>Married</td>\n",
       "      <td></td>\n",
       "      <td></td>\n",
       "      <td></td>\n",
       "      <td>...</td>\n",
       "      <td>NH</td>\n",
       "      <td>NaN</td>\n",
       "      <td>17004.516089</td>\n",
       "      <td>1830.00000</td>\n",
       "      <td>0.000000</td>\n",
       "      <td>True</td>\n",
       "      <td>0.000000</td>\n",
       "      <td>1</td>\n",
       "      <td>Married</td>\n",
       "      <td>NH</td>\n",
       "    </tr>\n",
       "    <tr>\n",
       "      <th>23540</th>\n",
       "      <td>0.000030</td>\n",
       "      <td>2.370000e-06</td>\n",
       "      <td>0.000000</td>\n",
       "      <td>0.000000</td>\n",
       "      <td>6.000000</td>\n",
       "      <td>1</td>\n",
       "      <td></td>\n",
       "      <td></td>\n",
       "      <td></td>\n",
       "      <td>Single</td>\n",
       "      <td>...</td>\n",
       "      <td>NH</td>\n",
       "      <td>NaN</td>\n",
       "      <td>21071.000000</td>\n",
       "      <td>1700.00000</td>\n",
       "      <td>0.000972</td>\n",
       "      <td>True</td>\n",
       "      <td>0.006035</td>\n",
       "      <td>1</td>\n",
       "      <td>Single</td>\n",
       "      <td>NH</td>\n",
       "    </tr>\n",
       "    <tr>\n",
       "      <th>23541</th>\n",
       "      <td>0.000337</td>\n",
       "      <td>5.052873e-06</td>\n",
       "      <td>0.323350</td>\n",
       "      <td>0.323350</td>\n",
       "      <td>24.000000</td>\n",
       "      <td>1</td>\n",
       "      <td>Married</td>\n",
       "      <td></td>\n",
       "      <td></td>\n",
       "      <td></td>\n",
       "      <td>...</td>\n",
       "      <td>NH</td>\n",
       "      <td>NaN</td>\n",
       "      <td>17004.000000</td>\n",
       "      <td>1890.32335</td>\n",
       "      <td>0.000000</td>\n",
       "      <td>True</td>\n",
       "      <td>0.000000</td>\n",
       "      <td>1</td>\n",
       "      <td>Married</td>\n",
       "      <td>NH</td>\n",
       "    </tr>\n",
       "  </tbody>\n",
       "</table>\n",
       "<p>23542 rows × 26 columns</p>\n",
       "</div>"
      ],
      "text/plain": [
       "       amount_month  min_amount_month  distinct_payment_code_month  \\\n",
       "0          0.001860      2.960000e-06                     2.000000   \n",
       "1          0.003659      2.960000e-06                     1.000000   \n",
       "2          0.000267      1.770000e-06                     3.000000   \n",
       "3          0.000012      1.060000e-05                     0.000000   \n",
       "4          0.002593      5.920000e-06                     0.000000   \n",
       "...             ...               ...                          ...   \n",
       "23537      0.001387      8.137396e-06                     2.326785   \n",
       "23538      0.001953      8.166064e-07                     1.957844   \n",
       "23539      0.000051      9.315866e-06                     1.000000   \n",
       "23540      0.000030      2.370000e-06                     0.000000   \n",
       "23541      0.000337      5.052873e-06                     0.323350   \n",
       "\n",
       "       count_payment_code_month  distinct_ref_no_month  DUM_MALE DUM_Married  \\\n",
       "0                      2.000000              31.000000         0     Married   \n",
       "1                      3.000000              79.000000         0     Married   \n",
       "2                      4.000000              38.000000         0               \n",
       "3                      0.000000               2.000000         0     Married   \n",
       "4                      0.000000              37.000000         1               \n",
       "...                         ...                    ...       ...         ...   \n",
       "23537                  2.980355              25.326785         1               \n",
       "23538                  3.915688              87.566701         1               \n",
       "23539                  1.000000               6.483911         1     Married   \n",
       "23540                  0.000000               6.000000         1               \n",
       "23541                  0.323350              24.000000         1     Married   \n",
       "\n",
       "      DUM_Other DUM_Partner DUM_Single  ... DUM_NH  DUM_TH  categoryJuin2021  \\\n",
       "0                                       ...    NaN      TH      21064.000000   \n",
       "1                                       ...     NH     NaN      17002.000000   \n",
       "2                               Single  ...    NaN      TH      21064.000000   \n",
       "3                                       ...    NaN      TH      21064.000000   \n",
       "4                               Single  ...     NH     NaN       1005.000000   \n",
       "...         ...         ...        ...  ...    ...     ...               ...   \n",
       "23537                                   ...    NaN      TH      21061.980355   \n",
       "23538                                   ...     NH     NaN       1005.000000   \n",
       "23539                                   ...     NH     NaN      17004.516089   \n",
       "23540                           Single  ...     NH     NaN      21071.000000   \n",
       "23541                                   ...     NH     NaN      17004.000000   \n",
       "\n",
       "       sectorJuin2021  balanceJuin2021  3m_to_1m_positive  \\\n",
       "0          1891.00000         0.000000               True   \n",
       "1          1891.00000         0.000000               True   \n",
       "2          1700.00000         0.000000               True   \n",
       "3          1830.00000         0.005344              False   \n",
       "4          1746.00000         0.000000               True   \n",
       "...               ...              ...                ...   \n",
       "23537      1888.65357         0.001210              False   \n",
       "23538      1740.00000         0.000022               True   \n",
       "23539      1830.00000         0.000000               True   \n",
       "23540      1700.00000         0.000972               True   \n",
       "23541      1890.32335         0.000000               True   \n",
       "\n",
       "      nominal_interestJuin2021 nhomno_xhtdJuin2021   Status  Kyhan  \n",
       "0                     0.000000                   0  Married     TH  \n",
       "1                     0.000000                   0  Married     NH  \n",
       "2                     0.000000                   0   Single     TH  \n",
       "3                     0.013728                   0  Married     TH  \n",
       "4                     0.000000                   0   Single     NH  \n",
       "...                        ...                 ...      ...    ...  \n",
       "23537                 0.002470                   1              TH  \n",
       "23538                 0.000072                   1              NH  \n",
       "23539                 0.000000                   1  Married     NH  \n",
       "23540                 0.006035                   1   Single     NH  \n",
       "23541                 0.000000                   1  Married     NH  \n",
       "\n",
       "[23542 rows x 26 columns]"
      ]
     },
     "execution_count": 152,
     "metadata": {},
     "output_type": "execute_result"
    }
   ],
   "source": [
    "# Merge dummies into 1 column (Status)\n",
    "df_eda['DUM_Married'] = df_eda['DUM_Married'].replace([0], '')\n",
    "df_eda['DUM_Married'] = df_eda['DUM_Married'].replace([1], 'Married')\n",
    "df_eda['DUM_Other'] = df_eda['DUM_Other'].replace([0], '')\n",
    "df_eda['DUM_Other'] = df_eda['DUM_Other'].replace([1], 'Others')\n",
    "df_eda['DUM_Partner'] = df_eda['DUM_Partner'].replace([0], '')\n",
    "df_eda['DUM_Partner'] = df_eda['DUM_Partner'].replace([1], 'Partner')\n",
    "df_eda['DUM_Single'] = df_eda['DUM_Single'].replace([0], '')\n",
    "df_eda['DUM_Single'] = df_eda['DUM_Single'].replace([1], 'Single')\n",
    "df_eda['DUM_Widow'] = df_eda['DUM_Widow'].replace([0], '')\n",
    "df_eda['DUM_Widow'] = df_eda['DUM_Widow'].replace([1], 'Widow')\n",
    "df_eda['Status'] = df_eda['DUM_Married'].fillna('') + df_eda['DUM_Other'].fillna('') + df_eda['DUM_Partner'].fillna('') + df_eda['DUM_Single'].fillna('') + df_eda['DUM_Widow'].fillna('')\n",
    "\n",
    "# Merge dummies into 1 column (Period)\n",
    "df_eda['DUM_NH'] = df_eda['DUM_NH'].replace([0], np.nan)\n",
    "df_eda['DUM_NH'] = df_eda['DUM_NH'].replace([1], 'NH')\n",
    "df_eda['DUM_TH'] = df_eda['DUM_TH'].replace([0], np.nan)\n",
    "df_eda['DUM_TH'] = df_eda['DUM_TH'].replace([1], 'TH')\n",
    "df_eda['Kyhan'] = df_eda['DUM_NH'].fillna('') + df_eda['DUM_TH'].fillna('')\n",
    "df_eda['Kyhan'] = df_eda['Kyhan'].replace('', 'DH')\n",
    "df_eda"
   ]
  },
  {
   "cell_type": "code",
   "execution_count": 153,
   "id": "c7adcbaa",
   "metadata": {},
   "outputs": [],
   "source": [
    "# 'DUM_phi tai chinh', 'DUM_rut tien atm', 'DUM_thanh toan', 'DUM_tiet kiem', 'DUM_vay'\n",
    "df_eda['DUM_phi tai chinh'] = df_eda['DUM_phi tai chinh'].replace([0], '')\n",
    "df_eda['DUM_phi tai chinh'] = df_eda['DUM_phi tai chinh'].replace([1], 'Phi_tai_chinh')\n",
    "\n",
    "df_eda['DUM_rut tien atm'] = df_eda['DUM_rut tien atm'].replace([0], '')\n",
    "df_eda['DUM_rut tien atm'] = df_eda['DUM_rut tien atm'].replace([1], 'Rut_tien_atm')\n",
    "\n",
    "df_eda['DUM_thanh toan'] = df_eda['DUM_thanh toan'].replace([0], '')\n",
    "df_eda['DUM_thanh toan'] = df_eda['DUM_thanh toan'].replace([1], 'Thanh_toan')\n",
    "\n",
    "df_eda['DUM_tiet kiem'] = df_eda['DUM_tiet kiem'].replace([0], '')\n",
    "df_eda['DUM_tiet kiem'] = df_eda['DUM_tiet kiem'].replace([1], 'Tiet_kiem')\n",
    "\n",
    "df_eda['DUM_vay'] = df_eda['DUM_vay'].replace([0], '')\n",
    "df_eda['DUM_vay'] = df_eda['DUM_vay'].replace([1], 'Vay')\n",
    "\n",
    "# df_eda['Transaction_type'] = df_eda['DUM_phi tai chinh'].fillna('') + df_eda['DUM_rut tien atm'].fillna('') + df_eda['DUM_thanh toan'].fillna('') + df_eda['DUM_tiet kiem'].fillna('') + df_eda['DUM_vay'].fillna('')\n",
    "# df_eda['Transaction_type'].replace('', 'Chuyen_khoan')"
   ]
  },
  {
   "cell_type": "code",
   "execution_count": 154,
   "id": "2822bc8f",
   "metadata": {},
   "outputs": [],
   "source": [
    "df_eda['Transaction_type'] = df_eda['DUM_phi tai chinh'].fillna('') + df_eda['DUM_rut tien atm'].fillna('') + df_eda['DUM_thanh toan'].fillna('') + df_eda['DUM_tiet kiem'].fillna('') + df_eda['DUM_vay'].fillna('')\n",
    "df_eda['Transaction_type'] = df_eda['Transaction_type'].replace('','Chuyen_khoan')"
   ]
  },
  {
   "cell_type": "code",
   "execution_count": 155,
   "id": "ae1be0b2",
   "metadata": {},
   "outputs": [
    {
     "data": {
      "image/png": "[encoded data removed]",
      "text/plain": [
       "<Figure size 720x576 with 1 Axes>"
      ]
     },
     "metadata": {
      "needs_background": "light"
     },
     "output_type": "display_data"
    }
   ],
   "source": [
    "cross_tab_prop_status = pd.crosstab(index=df_eda['Transaction_type'],\n",
    "                             columns=df_eda['nhomno_xhtdJuin2021'],\n",
    "                             normalize=\"index\")\n",
    "cross_tab_status = pd.crosstab(index=df_eda['Transaction_type'],\n",
    "                        columns=df_eda['nhomno_xhtdJuin2021'])\n",
    "\n",
    "# create plot\n",
    "cross_tab_prop_status.plot(kind='bar', \n",
    "                        stacked=True, \n",
    "                        colormap='copper', \n",
    "                        figsize=(10, 8))\n",
    "\n",
    "plt.legend(loc=\"lower left\", ncol=2)\n",
    "plt.xlabel(\"Transaction type\")\n",
    "plt.ylabel(\"Percentage of Debt groups\")\n",
    "\n",
    "\n",
    "for n, x in enumerate([*cross_tab_status.index.values]):\n",
    "    for (proportion, y_loc) in zip(cross_tab_prop_status.loc[x],\n",
    "                                   cross_tab_prop_status.loc[x].cumsum()):\n",
    "                \n",
    "        plt.text(x=n - 0.17,\n",
    "                 y=(y_loc - proportion) + (proportion / 2),\n",
    "                 s=f'{np.round(proportion * 100, 1)}%', \n",
    "                 color=\"white\",\n",
    "                 fontsize=12,\n",
    "                 fontweight=\"light\")\n",
    "\n",
    "plt.show()"
   ]
  },
  {
   "cell_type": "code",
   "execution_count": 156,
   "id": "e7f4aecf",
   "metadata": {},
   "outputs": [
    {
     "data": {
      "text/html": [
       "<div>\n",
       "<style scoped>\n",
       "    .dataframe tbody tr th:only-of-type {\n",
       "        vertical-align: middle;\n",
       "    }\n",
       "\n",
       "    .dataframe tbody tr th {\n",
       "        vertical-align: top;\n",
       "    }\n",
       "\n",
       "    .dataframe thead th {\n",
       "        text-align: right;\n",
       "    }\n",
       "</style>\n",
       "<table border=\"1\" class=\"dataframe\">\n",
       "  <thead>\n",
       "    <tr style=\"text-align: right;\">\n",
       "      <th>nhomno_xhtdJuin2021</th>\n",
       "      <th>0</th>\n",
       "      <th>1</th>\n",
       "    </tr>\n",
       "    <tr>\n",
       "      <th>Status</th>\n",
       "      <th></th>\n",
       "      <th></th>\n",
       "    </tr>\n",
       "  </thead>\n",
       "  <tbody>\n",
       "    <tr>\n",
       "      <th></th>\n",
       "      <td>0.003715</td>\n",
       "      <td>0.996285</td>\n",
       "    </tr>\n",
       "    <tr>\n",
       "      <th>Married</th>\n",
       "      <td>0.517786</td>\n",
       "      <td>0.482214</td>\n",
       "    </tr>\n",
       "    <tr>\n",
       "      <th>Others</th>\n",
       "      <td>0.875000</td>\n",
       "      <td>0.125000</td>\n",
       "    </tr>\n",
       "    <tr>\n",
       "      <th>Partner</th>\n",
       "      <td>0.227273</td>\n",
       "      <td>0.772727</td>\n",
       "    </tr>\n",
       "    <tr>\n",
       "      <th>Single</th>\n",
       "      <td>0.571202</td>\n",
       "      <td>0.428798</td>\n",
       "    </tr>\n",
       "  </tbody>\n",
       "</table>\n",
       "</div>"
      ],
      "text/plain": [
       "nhomno_xhtdJuin2021         0         1\n",
       "Status                                 \n",
       "                     0.003715  0.996285\n",
       "Married              0.517786  0.482214\n",
       "Others               0.875000  0.125000\n",
       "Partner              0.227273  0.772727\n",
       "Single               0.571202  0.428798"
      ]
     },
     "execution_count": 156,
     "metadata": {},
     "output_type": "execute_result"
    }
   ],
   "source": [
    "cross_tab_prop_status = pd.crosstab(index=df_eda['Status'],\n",
    "                             columns=df_eda['nhomno_xhtdJuin2021'],\n",
    "                             normalize=\"index\")\n",
    "cross_tab_prop_status"
   ]
  },
  {
   "cell_type": "code",
   "execution_count": 157,
   "id": "4ac3b71a",
   "metadata": {},
   "outputs": [
    {
     "data": {
      "image/png": "[encoded data removed]",
      "text/plain": [
       "<Figure size 576x288 with 1 Axes>"
      ]
     },
     "metadata": {
      "needs_background": "light"
     },
     "output_type": "display_data"
    }
   ],
   "source": [
    "cross_tab_prop_status = pd.crosstab(index=df_eda['Status'],\n",
    "                             columns=df_eda['nhomno_xhtdJuin2021'],\n",
    "                             normalize=\"index\")\n",
    "cross_tab_status = pd.crosstab(index=df_eda['Status'],\n",
    "                        columns=df['nhomno_xhtdJuin2021'])\n",
    "\n",
    "# create plot\n",
    "cross_tab_prop_status.plot(kind='bar', \n",
    "                        stacked=True, \n",
    "                        colormap='copper', \n",
    "                        figsize=(8, 4))\n",
    "\n",
    "plt.legend(loc=\"lower left\", ncol=2)\n",
    "plt.xlabel(\"Status of customers\")\n",
    "plt.ylabel(\"Percentage of Debt groups\")\n",
    "\n",
    "\n",
    "for n, x in enumerate([*cross_tab_status.index.values]):\n",
    "    for (proportion, y_loc) in zip(cross_tab_prop_status.loc[x],\n",
    "                                   cross_tab_prop_status.loc[x].cumsum()):\n",
    "                \n",
    "        plt.text(x=n - 0.17,\n",
    "                 y=(y_loc - proportion) + (proportion / 2),\n",
    "                 s=f'{np.round(proportion * 100, 1)}%', \n",
    "                 color=\"white\",\n",
    "                 fontsize=10,\n",
    "                 fontweight=\"light\")\n",
    "\n",
    "plt.show()\n",
    "# đề xuất công ty làm khảo sát tình trạng => cần 1 sự rõ ràng hơn về married & single"
   ]
  },
  {
   "cell_type": "code",
   "execution_count": 158,
   "id": "adec9928",
   "metadata": {},
   "outputs": [
    {
     "data": {
      "text/html": [
       "<div>\n",
       "<style scoped>\n",
       "    .dataframe tbody tr th:only-of-type {\n",
       "        vertical-align: middle;\n",
       "    }\n",
       "\n",
       "    .dataframe tbody tr th {\n",
       "        vertical-align: top;\n",
       "    }\n",
       "\n",
       "    .dataframe thead th {\n",
       "        text-align: right;\n",
       "    }\n",
       "</style>\n",
       "<table border=\"1\" class=\"dataframe\">\n",
       "  <thead>\n",
       "    <tr style=\"text-align: right;\">\n",
       "      <th>nhomno_xhtdJuin2021</th>\n",
       "      <th>0</th>\n",
       "      <th>1</th>\n",
       "    </tr>\n",
       "    <tr>\n",
       "      <th>DUM_MALE</th>\n",
       "      <th></th>\n",
       "      <th></th>\n",
       "    </tr>\n",
       "  </thead>\n",
       "  <tbody>\n",
       "    <tr>\n",
       "      <th>0</th>\n",
       "      <td>0.555413</td>\n",
       "      <td>0.444587</td>\n",
       "    </tr>\n",
       "    <tr>\n",
       "      <th>1</th>\n",
       "      <td>0.479958</td>\n",
       "      <td>0.520042</td>\n",
       "    </tr>\n",
       "  </tbody>\n",
       "</table>\n",
       "</div>"
      ],
      "text/plain": [
       "nhomno_xhtdJuin2021         0         1\n",
       "DUM_MALE                               \n",
       "0                    0.555413  0.444587\n",
       "1                    0.479958  0.520042"
      ]
     },
     "execution_count": 158,
     "metadata": {},
     "output_type": "execute_result"
    }
   ],
   "source": [
    "# df3 : data gốc\n",
    "# df4 : data downsampling\n",
    "# df_eda\n",
    "\n",
    "cross_tab_prop_status = pd.crosstab(index=df_eda['DUM_MALE'],\n",
    "                             columns=df_eda['nhomno_xhtdJuin2021'],\n",
    "                             normalize=\"index\")\n",
    "cross_tab_prop_status"
   ]
  },
  {
   "cell_type": "code",
   "execution_count": 159,
   "id": "fa146fe5",
   "metadata": {},
   "outputs": [
    {
     "data": {
      "text/html": [
       "<div>\n",
       "<style scoped>\n",
       "    .dataframe tbody tr th:only-of-type {\n",
       "        vertical-align: middle;\n",
       "    }\n",
       "\n",
       "    .dataframe tbody tr th {\n",
       "        vertical-align: top;\n",
       "    }\n",
       "\n",
       "    .dataframe thead th {\n",
       "        text-align: right;\n",
       "    }\n",
       "</style>\n",
       "<table border=\"1\" class=\"dataframe\">\n",
       "  <thead>\n",
       "    <tr style=\"text-align: right;\">\n",
       "      <th>nhomno_xhtdJuin2021</th>\n",
       "      <th>0.0</th>\n",
       "      <th>1.0</th>\n",
       "    </tr>\n",
       "    <tr>\n",
       "      <th>DUM_MALE</th>\n",
       "      <th></th>\n",
       "      <th></th>\n",
       "    </tr>\n",
       "  </thead>\n",
       "  <tbody>\n",
       "    <tr>\n",
       "      <th>0</th>\n",
       "      <td>0.954086</td>\n",
       "      <td>0.045914</td>\n",
       "    </tr>\n",
       "    <tr>\n",
       "      <th>1</th>\n",
       "      <td>0.922367</td>\n",
       "      <td>0.077633</td>\n",
       "    </tr>\n",
       "  </tbody>\n",
       "</table>\n",
       "</div>"
      ],
      "text/plain": [
       "nhomno_xhtdJuin2021       0.0       1.0\n",
       "DUM_MALE                               \n",
       "0                    0.954086  0.045914\n",
       "1                    0.922367  0.077633"
      ]
     },
     "execution_count": 159,
     "metadata": {},
     "output_type": "execute_result"
    }
   ],
   "source": [
    "cross_tab_prop_status = pd.crosstab(index=df3['DUM_MALE'],\n",
    "                             columns=df3['nhomno_xhtdJuin2021'],\n",
    "                             normalize=\"index\")\n",
    "cross_tab_prop_status"
   ]
  },
  {
   "cell_type": "code",
   "execution_count": 160,
   "id": "9098014c",
   "metadata": {},
   "outputs": [
    {
     "data": {
      "text/plain": [
       "<AxesSubplot:xlabel='nhomno_xhtdJuin2021', ylabel='nominal_interestJuin2021'>"
      ]
     },
     "execution_count": 160,
     "metadata": {},
     "output_type": "execute_result"
    },
    {
     "data": {
      "image/png": "[encoded data removed]",
      "text/plain": [
       "<Figure size 400x400 with 1 Axes>"
      ]
     },
     "metadata": {
      "needs_background": "light"
     },
     "output_type": "display_data"
    }
   ],
   "source": [
    "# Plot between nhóm nợ & lãi suất\n",
    "plt.figure(figsize=(4,4), dpi=100)\n",
    "sns.boxenplot(data=df_eda, \n",
    "              x=\"nhomno_xhtdJuin2021\", \n",
    "              y=\"nominal_interestJuin2021\", \n",
    "              color=\"b\",scale=\"linear\")"
   ]
  },
  {
   "cell_type": "code",
   "execution_count": 161,
   "id": "74106e3a",
   "metadata": {
    "scrolled": true
   },
   "outputs": [
    {
     "data": {
      "text/plain": [
       "Text(0, 0.5, 'Nominal interest')"
      ]
     },
     "execution_count": 161,
     "metadata": {},
     "output_type": "execute_result"
    },
    {
     "data": {
      "image/png": "[encoded data removed]",
      "text/plain": [
       "<Figure size 600x600 with 1 Axes>"
      ]
     },
     "metadata": {
      "needs_background": "light"
     },
     "output_type": "display_data"
    }
   ],
   "source": [
    "# Plot between nhóm nợ & lãi suất\n",
    "plt.figure(figsize=(10,10), dpi=60)\n",
    "sns.boxenplot(data=df_eda, \n",
    "              x=\"nhomno_xhtdJuin2021\", \n",
    "              y=\"nominal_interestJuin2021\", \n",
    "              hue='Kyhan',\n",
    "              color=\"b\",scale=\"linear\")\n",
    "\n",
    "plt.xlabel('Debt Groups')\n",
    "plt.ylabel('Nominal interest')"
   ]
  },
  {
   "cell_type": "code",
   "execution_count": 171,
   "id": "31da603b",
   "metadata": {},
   "outputs": [
    {
     "data": {
      "text/plain": [
       "<AxesSubplot:xlabel='nhomno_xhtdJuin2021', ylabel='birth_incorp_age'>"
      ]
     },
     "execution_count": 171,
     "metadata": {},
     "output_type": "execute_result"
    },
    {
     "data": {
      "image/png": "[encoded data removed]",
      "text/plain": [
       "<Figure size 432x288 with 1 Axes>"
      ]
     },
     "metadata": {
      "needs_background": "light"
     },
     "output_type": "display_data"
    }
   ],
   "source": [
    "sns.boxplot(x=\"nhomno_xhtdJuin2021\", y=\"birth_incorp_age\", \n",
    "            \n",
    "                 data=df3, palette=\"Set3\")"
   ]
  },
  {
   "cell_type": "code",
   "execution_count": 163,
   "id": "f8499811",
   "metadata": {},
   "outputs": [
    {
     "data": {
      "text/plain": [
       "<AxesSubplot:xlabel='nhomno_xhtdJuin2021', ylabel='nominal_interestJuin2021'>"
      ]
     },
     "execution_count": 163,
     "metadata": {},
     "output_type": "execute_result"
    },
    {
     "data": {
      "image/png": "[encoded data removed]",
      "text/plain": [
       "<Figure size 432x288 with 1 Axes>"
      ]
     },
     "metadata": {
      "needs_background": "light"
     },
     "output_type": "display_data"
    }
   ],
   "source": [
    "sns.boxplot(x=\"nhomno_xhtdJuin2021\", y=\"nominal_interestJuin2021\", \n",
    "            \n",
    "                 data=df3, palette=\"Set3\")"
   ]
  },
  {
   "cell_type": "code",
   "execution_count": 173,
   "id": "dee66bee",
   "metadata": {},
   "outputs": [
    {
     "data": {
      "text/plain": [
       "Text(33.0, 0.5, 'Period')"
      ]
     },
     "execution_count": 173,
     "metadata": {},
     "output_type": "execute_result"
    },
    {
     "data": {
      "image/png": "[encoded data removed]",
      "text/plain": [
       "<Figure size 432x288 with 2 Axes>"
      ]
     },
     "metadata": {
      "needs_background": "light"
     },
     "output_type": "display_data"
    }
   ],
   "source": [
    "sns.heatmap(pd.crosstab(index=df_process['loaikyhanJuin2021'],\n",
    "                             columns=df_process['nhomno_xhtdJuin2021'],\n",
    "                             normalize=\"index\"), annot=True)\n",
    "plt.xlabel('Debt groups')\n",
    "plt.ylabel('Period')"
   ]
  },
  {
   "cell_type": "code",
   "execution_count": 172,
   "id": "f222b58e",
   "metadata": {},
   "outputs": [
    {
     "data": {
      "text/html": [
       "<div>\n",
       "<style scoped>\n",
       "    .dataframe tbody tr th:only-of-type {\n",
       "        vertical-align: middle;\n",
       "    }\n",
       "\n",
       "    .dataframe tbody tr th {\n",
       "        vertical-align: top;\n",
       "    }\n",
       "\n",
       "    .dataframe thead th {\n",
       "        text-align: right;\n",
       "    }\n",
       "</style>\n",
       "<table border=\"1\" class=\"dataframe\">\n",
       "  <thead>\n",
       "    <tr style=\"text-align: right;\">\n",
       "      <th>nhomno_xhtdJuin2021</th>\n",
       "      <th>0.0</th>\n",
       "      <th>1.0</th>\n",
       "    </tr>\n",
       "    <tr>\n",
       "      <th>loaikyhanJuin2021</th>\n",
       "      <th></th>\n",
       "      <th></th>\n",
       "    </tr>\n",
       "  </thead>\n",
       "  <tbody>\n",
       "    <tr>\n",
       "      <th>DH</th>\n",
       "      <td>2472</td>\n",
       "      <td>150</td>\n",
       "    </tr>\n",
       "    <tr>\n",
       "      <th>NH</th>\n",
       "      <td>12661</td>\n",
       "      <td>1114</td>\n",
       "    </tr>\n",
       "    <tr>\n",
       "      <th>TH</th>\n",
       "      <td>8940</td>\n",
       "      <td>507</td>\n",
       "    </tr>\n",
       "  </tbody>\n",
       "</table>\n",
       "</div>"
      ],
      "text/plain": [
       "nhomno_xhtdJuin2021    0.0   1.0\n",
       "loaikyhanJuin2021               \n",
       "DH                    2472   150\n",
       "NH                   12661  1114\n",
       "TH                    8940   507"
      ]
     },
     "execution_count": 172,
     "metadata": {},
     "output_type": "execute_result"
    }
   ],
   "source": [
    "pd.crosstab(index=df_process['loaikyhanJuin2021'],\n",
    "                             columns=df_process['nhomno_xhtdJuin2021'])"
   ]
  },
  {
   "cell_type": "markdown",
   "id": "c91e17f6",
   "metadata": {},
   "source": [
    "# Thanks for reading!"
   ]
  }
 ],
 "metadata": {
  "kernelspec": {
   "display_name": "Python 3 (ipykernel)",
   "language": "python",
   "name": "python3"
  },
  "language_info": {
   "codemirror_mode": {
    "name": "ipython",
    "version": 3
   },
   "file_extension": ".py",
   "mimetype": "text/x-python",
   "name": "python",
   "nbconvert_exporter": "python",
   "pygments_lexer": "ipython3",
   "version": "3.9.12"
  }
 },
 "nbformat": 4,
 "nbformat_minor": 5
}
